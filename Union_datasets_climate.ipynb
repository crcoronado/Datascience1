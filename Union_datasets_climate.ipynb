{
 "cells": [
  {
   "cell_type": "markdown",
   "metadata": {},
   "source": [
    "# Preprocesamiento Datasets Variables Climáticas"
   ]
  },
  {
   "cell_type": "code",
   "execution_count": 1,
   "metadata": {},
   "outputs": [
    {
     "name": "stdout",
     "output_type": "stream",
     "text": [
      "<class 'pandas.core.frame.DataFrame'>\n",
      "RangeIndex: 471940 entries, 0 to 471939\n",
      "Data columns (total 5 columns):\n",
      " #   Column      Non-Null Count   Dtype  \n",
      "---  ------      --------------   -----  \n",
      " 0   FID         471940 non-null  object \n",
      " 1   id_punto    471940 non-null  int64  \n",
      " 2   agno        471940 non-null  int64  \n",
      " 3   temp_anual  471940 non-null  float64\n",
      " 4   geom        471940 non-null  object \n",
      "dtypes: float64(1), int64(2), object(2)\n",
      "memory usage: 18.0+ MB\n"
     ]
    }
   ],
   "source": [
    "#Llamar datasets temperatura anual\n",
    "import pandas as pd\n",
    "datatemp1 = pd.read_csv('temp_anual_2000_2006.csv')\n",
    "datatemp2 = pd.read_csv('temp_anual_2007_2013.csv')\n",
    "datatemp1.info()"
   ]
  },
  {
   "cell_type": "code",
   "execution_count": 2,
   "metadata": {},
   "outputs": [
    {
     "data": {
      "text/html": [
       "<div>\n",
       "<style scoped>\n",
       "    .dataframe tbody tr th:only-of-type {\n",
       "        vertical-align: middle;\n",
       "    }\n",
       "\n",
       "    .dataframe tbody tr th {\n",
       "        vertical-align: top;\n",
       "    }\n",
       "\n",
       "    .dataframe thead th {\n",
       "        text-align: right;\n",
       "    }\n",
       "</style>\n",
       "<table border=\"1\" class=\"dataframe\">\n",
       "  <thead>\n",
       "    <tr style=\"text-align: right;\">\n",
       "      <th></th>\n",
       "      <th>FID</th>\n",
       "      <th>id_punto</th>\n",
       "      <th>agno</th>\n",
       "      <th>temp_anual</th>\n",
       "      <th>geom</th>\n",
       "    </tr>\n",
       "  </thead>\n",
       "  <tbody>\n",
       "    <tr>\n",
       "      <th>0</th>\n",
       "      <td>temp_anual_espacial_p.fid-6ba7a30a_1775aed6af4...</td>\n",
       "      <td>0</td>\n",
       "      <td>2000</td>\n",
       "      <td>-20.39</td>\n",
       "      <td>POINT (-4202310.777446077 18546349.31878927)</td>\n",
       "    </tr>\n",
       "    <tr>\n",
       "      <th>1</th>\n",
       "      <td>temp_anual_espacial_p.fid-6ba7a30a_1775aed6af4...</td>\n",
       "      <td>0</td>\n",
       "      <td>2001</td>\n",
       "      <td>-20.02</td>\n",
       "      <td>POINT (-4202310.777446077 18546349.31878927)</td>\n",
       "    </tr>\n",
       "    <tr>\n",
       "      <th>2</th>\n",
       "      <td>temp_anual_espacial_p.fid-6ba7a30a_1775aed6af4...</td>\n",
       "      <td>0</td>\n",
       "      <td>2002</td>\n",
       "      <td>-19.44</td>\n",
       "      <td>POINT (-4202310.777446077 18546349.31878927)</td>\n",
       "    </tr>\n",
       "    <tr>\n",
       "      <th>3</th>\n",
       "      <td>temp_anual_espacial_p.fid-6ba7a30a_1775aed6af4...</td>\n",
       "      <td>0</td>\n",
       "      <td>2003</td>\n",
       "      <td>-19.50</td>\n",
       "      <td>POINT (-4202310.777446077 18546349.31878927)</td>\n",
       "    </tr>\n",
       "    <tr>\n",
       "      <th>4</th>\n",
       "      <td>temp_anual_espacial_p.fid-6ba7a30a_1775aed6af4...</td>\n",
       "      <td>0</td>\n",
       "      <td>2004</td>\n",
       "      <td>-19.78</td>\n",
       "      <td>POINT (-4202310.777446077 18546349.31878927)</td>\n",
       "    </tr>\n",
       "  </tbody>\n",
       "</table>\n",
       "</div>"
      ],
      "text/plain": [
       "                                                 FID  id_punto  agno  \\\n",
       "0  temp_anual_espacial_p.fid-6ba7a30a_1775aed6af4...         0  2000   \n",
       "1  temp_anual_espacial_p.fid-6ba7a30a_1775aed6af4...         0  2001   \n",
       "2  temp_anual_espacial_p.fid-6ba7a30a_1775aed6af4...         0  2002   \n",
       "3  temp_anual_espacial_p.fid-6ba7a30a_1775aed6af4...         0  2003   \n",
       "4  temp_anual_espacial_p.fid-6ba7a30a_1775aed6af4...         0  2004   \n",
       "\n",
       "   temp_anual                                          geom  \n",
       "0      -20.39  POINT (-4202310.777446077 18546349.31878927)  \n",
       "1      -20.02  POINT (-4202310.777446077 18546349.31878927)  \n",
       "2      -19.44  POINT (-4202310.777446077 18546349.31878927)  \n",
       "3      -19.50  POINT (-4202310.777446077 18546349.31878927)  \n",
       "4      -19.78  POINT (-4202310.777446077 18546349.31878927)  "
      ]
     },
     "execution_count": 2,
     "metadata": {},
     "output_type": "execute_result"
    }
   ],
   "source": [
    "data_temp_anual = pd.concat([datatemp1, datatemp2])\n",
    "data_temp_anual.head()"
   ]
  },
  {
   "cell_type": "code",
   "execution_count": 3,
   "metadata": {},
   "outputs": [
    {
     "name": "stdout",
     "output_type": "stream",
     "text": [
      "<class 'pandas.core.frame.DataFrame'>\n",
      "Int64Index: 876460 entries, 0 to 404519\n",
      "Data columns (total 5 columns):\n",
      " #   Column      Non-Null Count   Dtype  \n",
      "---  ------      --------------   -----  \n",
      " 0   FID         876460 non-null  object \n",
      " 1   id_punto    876460 non-null  int64  \n",
      " 2   agno        876460 non-null  int64  \n",
      " 3   temp_anual  876460 non-null  float64\n",
      " 4   geom        876460 non-null  object \n",
      "dtypes: float64(1), int64(2), object(2)\n",
      "memory usage: 40.1+ MB\n"
     ]
    }
   ],
   "source": [
    "data_temp_anual.info()"
   ]
  },
  {
   "cell_type": "code",
   "execution_count": 4,
   "metadata": {},
   "outputs": [
    {
     "data": {
      "text/plain": [
       "array([2000, 2001, 2002, 2003, 2004, 2005, 2006, 2007, 2008, 2009, 2010,\n",
       "       2011, 2012], dtype=int64)"
      ]
     },
     "execution_count": 4,
     "metadata": {},
     "output_type": "execute_result"
    }
   ],
   "source": [
    "data_temp_anual['agno'].unique()"
   ]
  },
  {
   "cell_type": "code",
   "execution_count": 5,
   "metadata": {},
   "outputs": [
    {
     "name": "stdout",
     "output_type": "stream",
     "text": [
      "Requirement already satisfied: pyproj in c:\\users\\ccoronad\\anaconda3\\lib\\site-packages (3.0.0.post1)\n",
      "Requirement already satisfied: certifi in c:\\users\\ccoronad\\anaconda3\\lib\\site-packages (from pyproj) (2020.6.20)\n"
     ]
    }
   ],
   "source": [
    "!pip install pyproj\n",
    "from pyproj import Transformer\n",
    "transformer = Transformer.from_crs(\"epsg:3857\", \"epsg:4326\")"
   ]
  },
  {
   "cell_type": "code",
   "execution_count": 6,
   "metadata": {},
   "outputs": [
    {
     "data": {
      "text/html": [
       "<div>\n",
       "<style scoped>\n",
       "    .dataframe tbody tr th:only-of-type {\n",
       "        vertical-align: middle;\n",
       "    }\n",
       "\n",
       "    .dataframe tbody tr th {\n",
       "        vertical-align: top;\n",
       "    }\n",
       "\n",
       "    .dataframe thead th {\n",
       "        text-align: right;\n",
       "    }\n",
       "</style>\n",
       "<table border=\"1\" class=\"dataframe\">\n",
       "  <thead>\n",
       "    <tr style=\"text-align: right;\">\n",
       "      <th></th>\n",
       "      <th>FID</th>\n",
       "      <th>id_punto</th>\n",
       "      <th>agno</th>\n",
       "      <th>temp_anual</th>\n",
       "      <th>geom</th>\n",
       "      <th>latitude</th>\n",
       "      <th>longitude</th>\n",
       "    </tr>\n",
       "  </thead>\n",
       "  <tbody>\n",
       "    <tr>\n",
       "      <th>0</th>\n",
       "      <td>temp_anual_espacial_p.fid-6ba7a30a_1775aed6af4...</td>\n",
       "      <td>0</td>\n",
       "      <td>2000</td>\n",
       "      <td>-20.39</td>\n",
       "      <td>-4202310.777446077 18546349.31878927</td>\n",
       "      <td>-4202310.777446077</td>\n",
       "      <td>18546349.31878927</td>\n",
       "    </tr>\n",
       "    <tr>\n",
       "      <th>1</th>\n",
       "      <td>temp_anual_espacial_p.fid-6ba7a30a_1775aed6af4...</td>\n",
       "      <td>0</td>\n",
       "      <td>2001</td>\n",
       "      <td>-20.02</td>\n",
       "      <td>-4202310.777446077 18546349.31878927</td>\n",
       "      <td>-4202310.777446077</td>\n",
       "      <td>18546349.31878927</td>\n",
       "    </tr>\n",
       "    <tr>\n",
       "      <th>2</th>\n",
       "      <td>temp_anual_espacial_p.fid-6ba7a30a_1775aed6af4...</td>\n",
       "      <td>0</td>\n",
       "      <td>2002</td>\n",
       "      <td>-19.44</td>\n",
       "      <td>-4202310.777446077 18546349.31878927</td>\n",
       "      <td>-4202310.777446077</td>\n",
       "      <td>18546349.31878927</td>\n",
       "    </tr>\n",
       "    <tr>\n",
       "      <th>3</th>\n",
       "      <td>temp_anual_espacial_p.fid-6ba7a30a_1775aed6af4...</td>\n",
       "      <td>0</td>\n",
       "      <td>2003</td>\n",
       "      <td>-19.50</td>\n",
       "      <td>-4202310.777446077 18546349.31878927</td>\n",
       "      <td>-4202310.777446077</td>\n",
       "      <td>18546349.31878927</td>\n",
       "    </tr>\n",
       "    <tr>\n",
       "      <th>4</th>\n",
       "      <td>temp_anual_espacial_p.fid-6ba7a30a_1775aed6af4...</td>\n",
       "      <td>0</td>\n",
       "      <td>2004</td>\n",
       "      <td>-19.78</td>\n",
       "      <td>-4202310.777446077 18546349.31878927</td>\n",
       "      <td>-4202310.777446077</td>\n",
       "      <td>18546349.31878927</td>\n",
       "    </tr>\n",
       "  </tbody>\n",
       "</table>\n",
       "</div>"
      ],
      "text/plain": [
       "                                                 FID  id_punto  agno  \\\n",
       "0  temp_anual_espacial_p.fid-6ba7a30a_1775aed6af4...         0  2000   \n",
       "1  temp_anual_espacial_p.fid-6ba7a30a_1775aed6af4...         0  2001   \n",
       "2  temp_anual_espacial_p.fid-6ba7a30a_1775aed6af4...         0  2002   \n",
       "3  temp_anual_espacial_p.fid-6ba7a30a_1775aed6af4...         0  2003   \n",
       "4  temp_anual_espacial_p.fid-6ba7a30a_1775aed6af4...         0  2004   \n",
       "\n",
       "   temp_anual                                  geom            latitude  \\\n",
       "0      -20.39  -4202310.777446077 18546349.31878927  -4202310.777446077   \n",
       "1      -20.02  -4202310.777446077 18546349.31878927  -4202310.777446077   \n",
       "2      -19.44  -4202310.777446077 18546349.31878927  -4202310.777446077   \n",
       "3      -19.50  -4202310.777446077 18546349.31878927  -4202310.777446077   \n",
       "4      -19.78  -4202310.777446077 18546349.31878927  -4202310.777446077   \n",
       "\n",
       "           longitude  \n",
       "0  18546349.31878927  \n",
       "1  18546349.31878927  \n",
       "2  18546349.31878927  \n",
       "3  18546349.31878927  \n",
       "4  18546349.31878927  "
      ]
     },
     "execution_count": 6,
     "metadata": {},
     "output_type": "execute_result"
    }
   ],
   "source": [
    "data_temp_anual.replace(regex=['POINT '], value='', inplace=True)\n",
    "data_temp_anual.replace(regex=['\\('], value='', inplace=True)\n",
    "data_temp_anual.replace(regex=['\\)'], value='', inplace=True)\n",
    "data_temp_anual[['latitude','longitude']] =  data_temp_anual.geom.str.split(n=1,expand=True,)\n",
    "#data_temp_anual = data_temp_anual.geom.str.split(expand=True).append(data_temp_anual, ignore_index = True)\n",
    "data_temp_anual.head()\n"
   ]
  },
  {
   "cell_type": "code",
   "execution_count": 7,
   "metadata": {},
   "outputs": [
    {
     "data": {
      "text/html": [
       "<div>\n",
       "<style scoped>\n",
       "    .dataframe tbody tr th:only-of-type {\n",
       "        vertical-align: middle;\n",
       "    }\n",
       "\n",
       "    .dataframe tbody tr th {\n",
       "        vertical-align: top;\n",
       "    }\n",
       "\n",
       "    .dataframe thead th {\n",
       "        text-align: right;\n",
       "    }\n",
       "</style>\n",
       "<table border=\"1\" class=\"dataframe\">\n",
       "  <thead>\n",
       "    <tr style=\"text-align: right;\">\n",
       "      <th></th>\n",
       "      <th>agno</th>\n",
       "      <th>temp_anual</th>\n",
       "      <th>latitude</th>\n",
       "      <th>longitude</th>\n",
       "    </tr>\n",
       "  </thead>\n",
       "  <tbody>\n",
       "    <tr>\n",
       "      <th>0</th>\n",
       "      <td>2000</td>\n",
       "      <td>-20.39</td>\n",
       "      <td>-4202310.777446077</td>\n",
       "      <td>18546349.31878927</td>\n",
       "    </tr>\n",
       "    <tr>\n",
       "      <th>1</th>\n",
       "      <td>2001</td>\n",
       "      <td>-20.02</td>\n",
       "      <td>-4202310.777446077</td>\n",
       "      <td>18546349.31878927</td>\n",
       "    </tr>\n",
       "    <tr>\n",
       "      <th>2</th>\n",
       "      <td>2002</td>\n",
       "      <td>-19.44</td>\n",
       "      <td>-4202310.777446077</td>\n",
       "      <td>18546349.31878927</td>\n",
       "    </tr>\n",
       "    <tr>\n",
       "      <th>3</th>\n",
       "      <td>2003</td>\n",
       "      <td>-19.50</td>\n",
       "      <td>-4202310.777446077</td>\n",
       "      <td>18546349.31878927</td>\n",
       "    </tr>\n",
       "    <tr>\n",
       "      <th>4</th>\n",
       "      <td>2004</td>\n",
       "      <td>-19.78</td>\n",
       "      <td>-4202310.777446077</td>\n",
       "      <td>18546349.31878927</td>\n",
       "    </tr>\n",
       "  </tbody>\n",
       "</table>\n",
       "</div>"
      ],
      "text/plain": [
       "   agno  temp_anual            latitude          longitude\n",
       "0  2000      -20.39  -4202310.777446077  18546349.31878927\n",
       "1  2001      -20.02  -4202310.777446077  18546349.31878927\n",
       "2  2002      -19.44  -4202310.777446077  18546349.31878927\n",
       "3  2003      -19.50  -4202310.777446077  18546349.31878927\n",
       "4  2004      -19.78  -4202310.777446077  18546349.31878927"
      ]
     },
     "execution_count": 7,
     "metadata": {},
     "output_type": "execute_result"
    }
   ],
   "source": [
    "data_temp_anual.drop(['FID', 'id_punto', 'geom'], axis = 1, inplace = True)\n",
    "data_temp_anual.head()"
   ]
  },
  {
   "cell_type": "code",
   "execution_count": 8,
   "metadata": {},
   "outputs": [
    {
     "name": "stdout",
     "output_type": "stream",
     "text": [
      "<class 'pandas.core.frame.DataFrame'>\n",
      "Int64Index: 876460 entries, 0 to 404519\n",
      "Data columns (total 4 columns):\n",
      " #   Column      Non-Null Count   Dtype  \n",
      "---  ------      --------------   -----  \n",
      " 0   agno        876460 non-null  int64  \n",
      " 1   temp_anual  876460 non-null  float64\n",
      " 2   latitude    876460 non-null  object \n",
      " 3   longitude   876460 non-null  object \n",
      "dtypes: float64(1), int64(1), object(2)\n",
      "memory usage: 33.4+ MB\n"
     ]
    }
   ],
   "source": [
    "data_temp_anual.info()"
   ]
  },
  {
   "cell_type": "code",
   "execution_count": 9,
   "metadata": {},
   "outputs": [
    {
     "name": "stdout",
     "output_type": "stream",
     "text": [
      "Requirement already satisfied: pyproj in c:\\users\\ccoronad\\anaconda3\\lib\\site-packages (3.0.0.post1)\n",
      "Requirement already satisfied: certifi in c:\\users\\ccoronad\\anaconda3\\lib\\site-packages (from pyproj) (2020.6.20)\n"
     ]
    }
   ],
   "source": [
    "!pip install pyproj\n",
    "from pyproj import Transformer\n",
    "transformer = Transformer.from_crs(\"epsg:3857\", \"epsg:4326\")"
   ]
  },
  {
   "cell_type": "code",
   "execution_count": 10,
   "metadata": {},
   "outputs": [],
   "source": [
    "def coord(x,y):\n",
    "    x1,y1 = transformer.transform(x,y)\n",
    "    return x1,y1"
   ]
  },
  {
   "cell_type": "code",
   "execution_count": 11,
   "metadata": {},
   "outputs": [
    {
     "data": {
      "text/html": [
       "<div>\n",
       "<style scoped>\n",
       "    .dataframe tbody tr th:only-of-type {\n",
       "        vertical-align: middle;\n",
       "    }\n",
       "\n",
       "    .dataframe tbody tr th {\n",
       "        vertical-align: top;\n",
       "    }\n",
       "\n",
       "    .dataframe thead th {\n",
       "        text-align: right;\n",
       "    }\n",
       "</style>\n",
       "<table border=\"1\" class=\"dataframe\">\n",
       "  <thead>\n",
       "    <tr style=\"text-align: right;\">\n",
       "      <th></th>\n",
       "      <th>agno</th>\n",
       "      <th>temp_anual</th>\n",
       "      <th>latitude</th>\n",
       "      <th>longitude</th>\n",
       "      <th>coordenadas</th>\n",
       "    </tr>\n",
       "  </thead>\n",
       "  <tbody>\n",
       "    <tr>\n",
       "      <th>0</th>\n",
       "      <td>2000</td>\n",
       "      <td>-20.39</td>\n",
       "      <td>-4202310.777446077</td>\n",
       "      <td>18546349.31878927</td>\n",
       "      <td>(83.75, -37.75)</td>\n",
       "    </tr>\n",
       "    <tr>\n",
       "      <th>1</th>\n",
       "      <td>2001</td>\n",
       "      <td>-20.02</td>\n",
       "      <td>-4202310.777446077</td>\n",
       "      <td>18546349.31878927</td>\n",
       "      <td>(83.75, -37.75)</td>\n",
       "    </tr>\n",
       "    <tr>\n",
       "      <th>2</th>\n",
       "      <td>2002</td>\n",
       "      <td>-19.44</td>\n",
       "      <td>-4202310.777446077</td>\n",
       "      <td>18546349.31878927</td>\n",
       "      <td>(83.75, -37.75)</td>\n",
       "    </tr>\n",
       "    <tr>\n",
       "      <th>3</th>\n",
       "      <td>2003</td>\n",
       "      <td>-19.50</td>\n",
       "      <td>-4202310.777446077</td>\n",
       "      <td>18546349.31878927</td>\n",
       "      <td>(83.75, -37.75)</td>\n",
       "    </tr>\n",
       "    <tr>\n",
       "      <th>4</th>\n",
       "      <td>2004</td>\n",
       "      <td>-19.78</td>\n",
       "      <td>-4202310.777446077</td>\n",
       "      <td>18546349.31878927</td>\n",
       "      <td>(83.75, -37.75)</td>\n",
       "    </tr>\n",
       "    <tr>\n",
       "      <th>...</th>\n",
       "      <td>...</td>\n",
       "      <td>...</td>\n",
       "      <td>...</td>\n",
       "      <td>...</td>\n",
       "      <td>...</td>\n",
       "    </tr>\n",
       "    <tr>\n",
       "      <th>404515</th>\n",
       "      <td>2008</td>\n",
       "      <td>5.41</td>\n",
       "      <td>-7486235.755847648</td>\n",
       "      <td>-7508807.8513019495</td>\n",
       "      <td>(-55.75000000000001, -67.25)</td>\n",
       "    </tr>\n",
       "    <tr>\n",
       "      <th>404516</th>\n",
       "      <td>2009</td>\n",
       "      <td>4.60</td>\n",
       "      <td>-7486235.755847648</td>\n",
       "      <td>-7508807.8513019495</td>\n",
       "      <td>(-55.75000000000001, -67.25)</td>\n",
       "    </tr>\n",
       "    <tr>\n",
       "      <th>404517</th>\n",
       "      <td>2010</td>\n",
       "      <td>5.09</td>\n",
       "      <td>-7486235.755847648</td>\n",
       "      <td>-7508807.8513019495</td>\n",
       "      <td>(-55.75000000000001, -67.25)</td>\n",
       "    </tr>\n",
       "    <tr>\n",
       "      <th>404518</th>\n",
       "      <td>2011</td>\n",
       "      <td>4.95</td>\n",
       "      <td>-7486235.755847648</td>\n",
       "      <td>-7508807.8513019495</td>\n",
       "      <td>(-55.75000000000001, -67.25)</td>\n",
       "    </tr>\n",
       "    <tr>\n",
       "      <th>404519</th>\n",
       "      <td>2012</td>\n",
       "      <td>4.63</td>\n",
       "      <td>-7486235.755847648</td>\n",
       "      <td>-7508807.8513019495</td>\n",
       "      <td>(-55.75000000000001, -67.25)</td>\n",
       "    </tr>\n",
       "  </tbody>\n",
       "</table>\n",
       "<p>876460 rows × 5 columns</p>\n",
       "</div>"
      ],
      "text/plain": [
       "        agno  temp_anual            latitude            longitude  \\\n",
       "0       2000      -20.39  -4202310.777446077    18546349.31878927   \n",
       "1       2001      -20.02  -4202310.777446077    18546349.31878927   \n",
       "2       2002      -19.44  -4202310.777446077    18546349.31878927   \n",
       "3       2003      -19.50  -4202310.777446077    18546349.31878927   \n",
       "4       2004      -19.78  -4202310.777446077    18546349.31878927   \n",
       "...      ...         ...                 ...                  ...   \n",
       "404515  2008        5.41  -7486235.755847648  -7508807.8513019495   \n",
       "404516  2009        4.60  -7486235.755847648  -7508807.8513019495   \n",
       "404517  2010        5.09  -7486235.755847648  -7508807.8513019495   \n",
       "404518  2011        4.95  -7486235.755847648  -7508807.8513019495   \n",
       "404519  2012        4.63  -7486235.755847648  -7508807.8513019495   \n",
       "\n",
       "                         coordenadas  \n",
       "0                    (83.75, -37.75)  \n",
       "1                    (83.75, -37.75)  \n",
       "2                    (83.75, -37.75)  \n",
       "3                    (83.75, -37.75)  \n",
       "4                    (83.75, -37.75)  \n",
       "...                              ...  \n",
       "404515  (-55.75000000000001, -67.25)  \n",
       "404516  (-55.75000000000001, -67.25)  \n",
       "404517  (-55.75000000000001, -67.25)  \n",
       "404518  (-55.75000000000001, -67.25)  \n",
       "404519  (-55.75000000000001, -67.25)  \n",
       "\n",
       "[876460 rows x 5 columns]"
      ]
     },
     "execution_count": 11,
     "metadata": {},
     "output_type": "execute_result"
    }
   ],
   "source": [
    "data_temp_anual['coordenadas'] = data_temp_anual.apply(lambda x: coord(x.latitude, x.longitude), axis=1)\n",
    "data_temp_anual"
   ]
  },
  {
   "cell_type": "code",
   "execution_count": null,
   "metadata": {},
   "outputs": [],
   "source": []
  }
 ],
 "metadata": {
  "kernelspec": {
   "display_name": "Python 3",
   "language": "python",
   "name": "python3"
  },
  "language_info": {
   "codemirror_mode": {
    "name": "ipython",
    "version": 3
   },
   "file_extension": ".py",
   "mimetype": "text/x-python",
   "name": "python",
   "nbconvert_exporter": "python",
   "pygments_lexer": "ipython3",
   "version": "3.8.5"
  }
 },
 "nbformat": 4,
 "nbformat_minor": 4
}
