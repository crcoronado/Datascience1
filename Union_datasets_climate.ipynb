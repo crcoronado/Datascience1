{
 "cells": [
  {
   "cell_type": "markdown",
   "metadata": {},
   "source": [
    "# Preprocesamiento Datasets Variables Climáticas"
   ]
  },
  {
   "cell_type": "code",
   "execution_count": 80,
   "metadata": {},
   "outputs": [
    {
     "name": "stdout",
     "output_type": "stream",
     "text": [
      "<class 'pandas.core.frame.DataFrame'>\n",
      "RangeIndex: 471940 entries, 0 to 471939\n",
      "Data columns (total 5 columns):\n",
      " #   Column      Non-Null Count   Dtype  \n",
      "---  ------      --------------   -----  \n",
      " 0   FID         471940 non-null  object \n",
      " 1   id_punto    471940 non-null  int64  \n",
      " 2   agno        471940 non-null  int64  \n",
      " 3   temp_anual  471940 non-null  float64\n",
      " 4   geom        471940 non-null  object \n",
      "dtypes: float64(1), int64(2), object(2)\n",
      "memory usage: 18.0+ MB\n"
     ]
    }
   ],
   "source": [
    "#Llamar datasets temperatura anual\n",
    "import pandas as pd\n",
    "datatemp1 = pd.read_csv('temp_anual_2000_2006.csv')\n",
    "datatemp2 = pd.read_csv('temp_anual_2007_2013.csv')\n",
    "datatemp1.info()"
   ]
  },
  {
   "cell_type": "code",
   "execution_count": 81,
   "metadata": {},
   "outputs": [
    {
     "data": {
      "text/html": [
       "<div>\n",
       "<style scoped>\n",
       "    .dataframe tbody tr th:only-of-type {\n",
       "        vertical-align: middle;\n",
       "    }\n",
       "\n",
       "    .dataframe tbody tr th {\n",
       "        vertical-align: top;\n",
       "    }\n",
       "\n",
       "    .dataframe thead th {\n",
       "        text-align: right;\n",
       "    }\n",
       "</style>\n",
       "<table border=\"1\" class=\"dataframe\">\n",
       "  <thead>\n",
       "    <tr style=\"text-align: right;\">\n",
       "      <th></th>\n",
       "      <th>FID</th>\n",
       "      <th>id_punto</th>\n",
       "      <th>agno</th>\n",
       "      <th>temp_anual</th>\n",
       "      <th>geom</th>\n",
       "    </tr>\n",
       "  </thead>\n",
       "  <tbody>\n",
       "    <tr>\n",
       "      <th>0</th>\n",
       "      <td>temp_anual_espacial_p.fid-6ba7a30a_1775aed6af4...</td>\n",
       "      <td>0</td>\n",
       "      <td>2000</td>\n",
       "      <td>-20.39</td>\n",
       "      <td>POINT (-4202310.777446077 18546349.31878927)</td>\n",
       "    </tr>\n",
       "    <tr>\n",
       "      <th>1</th>\n",
       "      <td>temp_anual_espacial_p.fid-6ba7a30a_1775aed6af4...</td>\n",
       "      <td>0</td>\n",
       "      <td>2001</td>\n",
       "      <td>-20.02</td>\n",
       "      <td>POINT (-4202310.777446077 18546349.31878927)</td>\n",
       "    </tr>\n",
       "    <tr>\n",
       "      <th>2</th>\n",
       "      <td>temp_anual_espacial_p.fid-6ba7a30a_1775aed6af4...</td>\n",
       "      <td>0</td>\n",
       "      <td>2002</td>\n",
       "      <td>-19.44</td>\n",
       "      <td>POINT (-4202310.777446077 18546349.31878927)</td>\n",
       "    </tr>\n",
       "    <tr>\n",
       "      <th>3</th>\n",
       "      <td>temp_anual_espacial_p.fid-6ba7a30a_1775aed6af4...</td>\n",
       "      <td>0</td>\n",
       "      <td>2003</td>\n",
       "      <td>-19.50</td>\n",
       "      <td>POINT (-4202310.777446077 18546349.31878927)</td>\n",
       "    </tr>\n",
       "    <tr>\n",
       "      <th>4</th>\n",
       "      <td>temp_anual_espacial_p.fid-6ba7a30a_1775aed6af4...</td>\n",
       "      <td>0</td>\n",
       "      <td>2004</td>\n",
       "      <td>-19.78</td>\n",
       "      <td>POINT (-4202310.777446077 18546349.31878927)</td>\n",
       "    </tr>\n",
       "  </tbody>\n",
       "</table>\n",
       "</div>"
      ],
      "text/plain": [
       "                                                 FID  id_punto  agno  \\\n",
       "0  temp_anual_espacial_p.fid-6ba7a30a_1775aed6af4...         0  2000   \n",
       "1  temp_anual_espacial_p.fid-6ba7a30a_1775aed6af4...         0  2001   \n",
       "2  temp_anual_espacial_p.fid-6ba7a30a_1775aed6af4...         0  2002   \n",
       "3  temp_anual_espacial_p.fid-6ba7a30a_1775aed6af4...         0  2003   \n",
       "4  temp_anual_espacial_p.fid-6ba7a30a_1775aed6af4...         0  2004   \n",
       "\n",
       "   temp_anual                                          geom  \n",
       "0      -20.39  POINT (-4202310.777446077 18546349.31878927)  \n",
       "1      -20.02  POINT (-4202310.777446077 18546349.31878927)  \n",
       "2      -19.44  POINT (-4202310.777446077 18546349.31878927)  \n",
       "3      -19.50  POINT (-4202310.777446077 18546349.31878927)  \n",
       "4      -19.78  POINT (-4202310.777446077 18546349.31878927)  "
      ]
     },
     "execution_count": 81,
     "metadata": {},
     "output_type": "execute_result"
    }
   ],
   "source": [
    "data_temp_anual = pd.concat([datatemp1, datatemp2])\n",
    "data_temp_anual.head()"
   ]
  },
  {
   "cell_type": "code",
   "execution_count": 82,
   "metadata": {},
   "outputs": [
    {
     "name": "stdout",
     "output_type": "stream",
     "text": [
      "<class 'pandas.core.frame.DataFrame'>\n",
      "Int64Index: 876460 entries, 0 to 404519\n",
      "Data columns (total 5 columns):\n",
      " #   Column      Non-Null Count   Dtype  \n",
      "---  ------      --------------   -----  \n",
      " 0   FID         876460 non-null  object \n",
      " 1   id_punto    876460 non-null  int64  \n",
      " 2   agno        876460 non-null  int64  \n",
      " 3   temp_anual  876460 non-null  float64\n",
      " 4   geom        876460 non-null  object \n",
      "dtypes: float64(1), int64(2), object(2)\n",
      "memory usage: 40.1+ MB\n"
     ]
    }
   ],
   "source": [
    "data_temp_anual.info()"
   ]
  },
  {
   "cell_type": "code",
   "execution_count": 83,
   "metadata": {},
   "outputs": [
    {
     "data": {
      "text/plain": [
       "array([2000, 2001, 2002, 2003, 2004, 2005, 2006, 2007, 2008, 2009, 2010,\n",
       "       2011, 2012], dtype=int64)"
      ]
     },
     "execution_count": 83,
     "metadata": {},
     "output_type": "execute_result"
    }
   ],
   "source": [
    "data_temp_anual['agno'].unique()"
   ]
  },
  {
   "cell_type": "code",
   "execution_count": 84,
   "metadata": {},
   "outputs": [
    {
     "name": "stdout",
     "output_type": "stream",
     "text": [
      "Requirement already satisfied: pyproj in c:\\users\\isabe\\anaconda3\\lib\\site-packages (3.0.0.post1)\n",
      "Requirement already satisfied: certifi in c:\\users\\isabe\\anaconda3\\lib\\site-packages (from pyproj) (2020.6.20)\n"
     ]
    }
   ],
   "source": [
    "!pip install pyproj\n",
    "from pyproj import Transformer\n",
    "transformer = Transformer.from_crs(\"epsg:3857\", \"epsg:4326\")"
   ]
  },
  {
   "cell_type": "code",
   "execution_count": 85,
   "metadata": {},
   "outputs": [
    {
     "data": {
      "text/html": [
       "<div>\n",
       "<style scoped>\n",
       "    .dataframe tbody tr th:only-of-type {\n",
       "        vertical-align: middle;\n",
       "    }\n",
       "\n",
       "    .dataframe tbody tr th {\n",
       "        vertical-align: top;\n",
       "    }\n",
       "\n",
       "    .dataframe thead th {\n",
       "        text-align: right;\n",
       "    }\n",
       "</style>\n",
       "<table border=\"1\" class=\"dataframe\">\n",
       "  <thead>\n",
       "    <tr style=\"text-align: right;\">\n",
       "      <th></th>\n",
       "      <th>FID</th>\n",
       "      <th>id_punto</th>\n",
       "      <th>agno</th>\n",
       "      <th>temp_anual</th>\n",
       "      <th>geom</th>\n",
       "      <th>latitude</th>\n",
       "      <th>longitude</th>\n",
       "    </tr>\n",
       "  </thead>\n",
       "  <tbody>\n",
       "    <tr>\n",
       "      <th>0</th>\n",
       "      <td>temp_anual_espacial_p.fid-6ba7a30a_1775aed6af4...</td>\n",
       "      <td>0</td>\n",
       "      <td>2000</td>\n",
       "      <td>-20.39</td>\n",
       "      <td>-4202310.777446077 18546349.31878927</td>\n",
       "      <td>-4202310.777446077</td>\n",
       "      <td>18546349.31878927</td>\n",
       "    </tr>\n",
       "    <tr>\n",
       "      <th>1</th>\n",
       "      <td>temp_anual_espacial_p.fid-6ba7a30a_1775aed6af4...</td>\n",
       "      <td>0</td>\n",
       "      <td>2001</td>\n",
       "      <td>-20.02</td>\n",
       "      <td>-4202310.777446077 18546349.31878927</td>\n",
       "      <td>-4202310.777446077</td>\n",
       "      <td>18546349.31878927</td>\n",
       "    </tr>\n",
       "    <tr>\n",
       "      <th>2</th>\n",
       "      <td>temp_anual_espacial_p.fid-6ba7a30a_1775aed6af4...</td>\n",
       "      <td>0</td>\n",
       "      <td>2002</td>\n",
       "      <td>-19.44</td>\n",
       "      <td>-4202310.777446077 18546349.31878927</td>\n",
       "      <td>-4202310.777446077</td>\n",
       "      <td>18546349.31878927</td>\n",
       "    </tr>\n",
       "    <tr>\n",
       "      <th>3</th>\n",
       "      <td>temp_anual_espacial_p.fid-6ba7a30a_1775aed6af4...</td>\n",
       "      <td>0</td>\n",
       "      <td>2003</td>\n",
       "      <td>-19.50</td>\n",
       "      <td>-4202310.777446077 18546349.31878927</td>\n",
       "      <td>-4202310.777446077</td>\n",
       "      <td>18546349.31878927</td>\n",
       "    </tr>\n",
       "    <tr>\n",
       "      <th>4</th>\n",
       "      <td>temp_anual_espacial_p.fid-6ba7a30a_1775aed6af4...</td>\n",
       "      <td>0</td>\n",
       "      <td>2004</td>\n",
       "      <td>-19.78</td>\n",
       "      <td>-4202310.777446077 18546349.31878927</td>\n",
       "      <td>-4202310.777446077</td>\n",
       "      <td>18546349.31878927</td>\n",
       "    </tr>\n",
       "  </tbody>\n",
       "</table>\n",
       "</div>"
      ],
      "text/plain": [
       "                                                 FID  id_punto  agno  \\\n",
       "0  temp_anual_espacial_p.fid-6ba7a30a_1775aed6af4...         0  2000   \n",
       "1  temp_anual_espacial_p.fid-6ba7a30a_1775aed6af4...         0  2001   \n",
       "2  temp_anual_espacial_p.fid-6ba7a30a_1775aed6af4...         0  2002   \n",
       "3  temp_anual_espacial_p.fid-6ba7a30a_1775aed6af4...         0  2003   \n",
       "4  temp_anual_espacial_p.fid-6ba7a30a_1775aed6af4...         0  2004   \n",
       "\n",
       "   temp_anual                                  geom            latitude  \\\n",
       "0      -20.39  -4202310.777446077 18546349.31878927  -4202310.777446077   \n",
       "1      -20.02  -4202310.777446077 18546349.31878927  -4202310.777446077   \n",
       "2      -19.44  -4202310.777446077 18546349.31878927  -4202310.777446077   \n",
       "3      -19.50  -4202310.777446077 18546349.31878927  -4202310.777446077   \n",
       "4      -19.78  -4202310.777446077 18546349.31878927  -4202310.777446077   \n",
       "\n",
       "           longitude  \n",
       "0  18546349.31878927  \n",
       "1  18546349.31878927  \n",
       "2  18546349.31878927  \n",
       "3  18546349.31878927  \n",
       "4  18546349.31878927  "
      ]
     },
     "execution_count": 85,
     "metadata": {},
     "output_type": "execute_result"
    }
   ],
   "source": [
    "data_temp_anual.replace(regex=['POINT '], value='', inplace=True)\n",
    "data_temp_anual.replace(regex=['\\('], value='', inplace=True)\n",
    "data_temp_anual.replace(regex=['\\)'], value='', inplace=True)\n",
    "data_temp_anual[['latitude','longitude']] =  data_temp_anual.geom.str.split(n=1,expand=True,)\n",
    "#data_temp_anual = data_temp_anual.geom.str.split(expand=True).append(data_temp_anual, ignore_index = True)\n",
    "data_temp_anual.head()\n"
   ]
  },
  {
   "cell_type": "code",
   "execution_count": 86,
   "metadata": {},
   "outputs": [
    {
     "data": {
      "text/html": [
       "<div>\n",
       "<style scoped>\n",
       "    .dataframe tbody tr th:only-of-type {\n",
       "        vertical-align: middle;\n",
       "    }\n",
       "\n",
       "    .dataframe tbody tr th {\n",
       "        vertical-align: top;\n",
       "    }\n",
       "\n",
       "    .dataframe thead th {\n",
       "        text-align: right;\n",
       "    }\n",
       "</style>\n",
       "<table border=\"1\" class=\"dataframe\">\n",
       "  <thead>\n",
       "    <tr style=\"text-align: right;\">\n",
       "      <th></th>\n",
       "      <th>agno</th>\n",
       "      <th>temp_anual</th>\n",
       "      <th>latitude</th>\n",
       "      <th>longitude</th>\n",
       "    </tr>\n",
       "  </thead>\n",
       "  <tbody>\n",
       "    <tr>\n",
       "      <th>0</th>\n",
       "      <td>2000</td>\n",
       "      <td>-20.39</td>\n",
       "      <td>-4202310.777446077</td>\n",
       "      <td>18546349.31878927</td>\n",
       "    </tr>\n",
       "    <tr>\n",
       "      <th>1</th>\n",
       "      <td>2001</td>\n",
       "      <td>-20.02</td>\n",
       "      <td>-4202310.777446077</td>\n",
       "      <td>18546349.31878927</td>\n",
       "    </tr>\n",
       "    <tr>\n",
       "      <th>2</th>\n",
       "      <td>2002</td>\n",
       "      <td>-19.44</td>\n",
       "      <td>-4202310.777446077</td>\n",
       "      <td>18546349.31878927</td>\n",
       "    </tr>\n",
       "    <tr>\n",
       "      <th>3</th>\n",
       "      <td>2003</td>\n",
       "      <td>-19.50</td>\n",
       "      <td>-4202310.777446077</td>\n",
       "      <td>18546349.31878927</td>\n",
       "    </tr>\n",
       "    <tr>\n",
       "      <th>4</th>\n",
       "      <td>2004</td>\n",
       "      <td>-19.78</td>\n",
       "      <td>-4202310.777446077</td>\n",
       "      <td>18546349.31878927</td>\n",
       "    </tr>\n",
       "  </tbody>\n",
       "</table>\n",
       "</div>"
      ],
      "text/plain": [
       "   agno  temp_anual            latitude          longitude\n",
       "0  2000      -20.39  -4202310.777446077  18546349.31878927\n",
       "1  2001      -20.02  -4202310.777446077  18546349.31878927\n",
       "2  2002      -19.44  -4202310.777446077  18546349.31878927\n",
       "3  2003      -19.50  -4202310.777446077  18546349.31878927\n",
       "4  2004      -19.78  -4202310.777446077  18546349.31878927"
      ]
     },
     "execution_count": 86,
     "metadata": {},
     "output_type": "execute_result"
    }
   ],
   "source": [
    "data_temp_anual.drop(['FID', 'id_punto', 'geom'], axis = 1, inplace = True)\n",
    "data_temp_anual.head()"
   ]
  },
  {
   "cell_type": "code",
   "execution_count": 87,
   "metadata": {},
   "outputs": [
    {
     "name": "stdout",
     "output_type": "stream",
     "text": [
      "<class 'pandas.core.frame.DataFrame'>\n",
      "Int64Index: 876460 entries, 0 to 404519\n",
      "Data columns (total 4 columns):\n",
      " #   Column      Non-Null Count   Dtype  \n",
      "---  ------      --------------   -----  \n",
      " 0   agno        876460 non-null  int64  \n",
      " 1   temp_anual  876460 non-null  float64\n",
      " 2   latitude    876460 non-null  object \n",
      " 3   longitude   876460 non-null  object \n",
      "dtypes: float64(1), int64(1), object(2)\n",
      "memory usage: 33.4+ MB\n"
     ]
    }
   ],
   "source": [
    "data_temp_anual.info()"
   ]
  },
  {
   "cell_type": "code",
   "execution_count": 114,
   "metadata": {},
   "outputs": [
    {
     "ename": "TypeError",
     "evalue": "coordenadas() takes 0 positional arguments but 1 was given",
     "output_type": "error",
     "traceback": [
      "\u001b[1;31m---------------------------------------------------------------------------\u001b[0m",
      "\u001b[1;31mTypeError\u001b[0m                                 Traceback (most recent call last)",
      "\u001b[1;32m<ipython-input-114-2e274ed5178d>\u001b[0m in \u001b[0;36m<module>\u001b[1;34m\u001b[0m\n\u001b[0;32m     13\u001b[0m \u001b[1;33m\u001b[0m\u001b[0m\n\u001b[0;32m     14\u001b[0m \u001b[1;33m\u001b[0m\u001b[0m\n\u001b[1;32m---> 15\u001b[1;33m \u001b[0mdata_temp_anual2\u001b[0m \u001b[1;33m=\u001b[0m \u001b[0mdata_temp_anual\u001b[0m\u001b[1;33m.\u001b[0m\u001b[0mapply\u001b[0m\u001b[1;33m(\u001b[0m\u001b[0mcoordenadas\u001b[0m\u001b[1;33m)\u001b[0m\u001b[1;33m\u001b[0m\u001b[1;33m\u001b[0m\u001b[0m\n\u001b[0m",
      "\u001b[1;32m~\\Anaconda3\\lib\\site-packages\\pandas\\core\\frame.py\u001b[0m in \u001b[0;36mapply\u001b[1;34m(self, func, axis, raw, result_type, args, **kwds)\u001b[0m\n\u001b[0;32m   7546\u001b[0m             \u001b[0mkwds\u001b[0m\u001b[1;33m=\u001b[0m\u001b[0mkwds\u001b[0m\u001b[1;33m,\u001b[0m\u001b[1;33m\u001b[0m\u001b[1;33m\u001b[0m\u001b[0m\n\u001b[0;32m   7547\u001b[0m         )\n\u001b[1;32m-> 7548\u001b[1;33m         \u001b[1;32mreturn\u001b[0m \u001b[0mop\u001b[0m\u001b[1;33m.\u001b[0m\u001b[0mget_result\u001b[0m\u001b[1;33m(\u001b[0m\u001b[1;33m)\u001b[0m\u001b[1;33m\u001b[0m\u001b[1;33m\u001b[0m\u001b[0m\n\u001b[0m\u001b[0;32m   7549\u001b[0m \u001b[1;33m\u001b[0m\u001b[0m\n\u001b[0;32m   7550\u001b[0m     \u001b[1;32mdef\u001b[0m \u001b[0mapplymap\u001b[0m\u001b[1;33m(\u001b[0m\u001b[0mself\u001b[0m\u001b[1;33m,\u001b[0m \u001b[0mfunc\u001b[0m\u001b[1;33m)\u001b[0m \u001b[1;33m->\u001b[0m \u001b[1;34m\"DataFrame\"\u001b[0m\u001b[1;33m:\u001b[0m\u001b[1;33m\u001b[0m\u001b[1;33m\u001b[0m\u001b[0m\n",
      "\u001b[1;32m~\\Anaconda3\\lib\\site-packages\\pandas\\core\\apply.py\u001b[0m in \u001b[0;36mget_result\u001b[1;34m(self)\u001b[0m\n\u001b[0;32m    178\u001b[0m             \u001b[1;32mreturn\u001b[0m \u001b[0mself\u001b[0m\u001b[1;33m.\u001b[0m\u001b[0mapply_raw\u001b[0m\u001b[1;33m(\u001b[0m\u001b[1;33m)\u001b[0m\u001b[1;33m\u001b[0m\u001b[1;33m\u001b[0m\u001b[0m\n\u001b[0;32m    179\u001b[0m \u001b[1;33m\u001b[0m\u001b[0m\n\u001b[1;32m--> 180\u001b[1;33m         \u001b[1;32mreturn\u001b[0m \u001b[0mself\u001b[0m\u001b[1;33m.\u001b[0m\u001b[0mapply_standard\u001b[0m\u001b[1;33m(\u001b[0m\u001b[1;33m)\u001b[0m\u001b[1;33m\u001b[0m\u001b[1;33m\u001b[0m\u001b[0m\n\u001b[0m\u001b[0;32m    181\u001b[0m \u001b[1;33m\u001b[0m\u001b[0m\n\u001b[0;32m    182\u001b[0m     \u001b[1;32mdef\u001b[0m \u001b[0mapply_empty_result\u001b[0m\u001b[1;33m(\u001b[0m\u001b[0mself\u001b[0m\u001b[1;33m)\u001b[0m\u001b[1;33m:\u001b[0m\u001b[1;33m\u001b[0m\u001b[1;33m\u001b[0m\u001b[0m\n",
      "\u001b[1;32m~\\Anaconda3\\lib\\site-packages\\pandas\\core\\apply.py\u001b[0m in \u001b[0;36mapply_standard\u001b[1;34m(self)\u001b[0m\n\u001b[0;32m    269\u001b[0m \u001b[1;33m\u001b[0m\u001b[0m\n\u001b[0;32m    270\u001b[0m     \u001b[1;32mdef\u001b[0m \u001b[0mapply_standard\u001b[0m\u001b[1;33m(\u001b[0m\u001b[0mself\u001b[0m\u001b[1;33m)\u001b[0m\u001b[1;33m:\u001b[0m\u001b[1;33m\u001b[0m\u001b[1;33m\u001b[0m\u001b[0m\n\u001b[1;32m--> 271\u001b[1;33m         \u001b[0mresults\u001b[0m\u001b[1;33m,\u001b[0m \u001b[0mres_index\u001b[0m \u001b[1;33m=\u001b[0m \u001b[0mself\u001b[0m\u001b[1;33m.\u001b[0m\u001b[0mapply_series_generator\u001b[0m\u001b[1;33m(\u001b[0m\u001b[1;33m)\u001b[0m\u001b[1;33m\u001b[0m\u001b[1;33m\u001b[0m\u001b[0m\n\u001b[0m\u001b[0;32m    272\u001b[0m \u001b[1;33m\u001b[0m\u001b[0m\n\u001b[0;32m    273\u001b[0m         \u001b[1;31m# wrap results\u001b[0m\u001b[1;33m\u001b[0m\u001b[1;33m\u001b[0m\u001b[1;33m\u001b[0m\u001b[0m\n",
      "\u001b[1;32m~\\Anaconda3\\lib\\site-packages\\pandas\\core\\apply.py\u001b[0m in \u001b[0;36mapply_series_generator\u001b[1;34m(self)\u001b[0m\n\u001b[0;32m    298\u001b[0m                 \u001b[1;32mfor\u001b[0m \u001b[0mi\u001b[0m\u001b[1;33m,\u001b[0m \u001b[0mv\u001b[0m \u001b[1;32min\u001b[0m \u001b[0menumerate\u001b[0m\u001b[1;33m(\u001b[0m\u001b[0mseries_gen\u001b[0m\u001b[1;33m)\u001b[0m\u001b[1;33m:\u001b[0m\u001b[1;33m\u001b[0m\u001b[1;33m\u001b[0m\u001b[0m\n\u001b[0;32m    299\u001b[0m                     \u001b[1;31m# ignore SettingWithCopy here in case the user mutates\u001b[0m\u001b[1;33m\u001b[0m\u001b[1;33m\u001b[0m\u001b[1;33m\u001b[0m\u001b[0m\n\u001b[1;32m--> 300\u001b[1;33m                     \u001b[0mresults\u001b[0m\u001b[1;33m[\u001b[0m\u001b[0mi\u001b[0m\u001b[1;33m]\u001b[0m \u001b[1;33m=\u001b[0m \u001b[0mself\u001b[0m\u001b[1;33m.\u001b[0m\u001b[0mf\u001b[0m\u001b[1;33m(\u001b[0m\u001b[0mv\u001b[0m\u001b[1;33m)\u001b[0m\u001b[1;33m\u001b[0m\u001b[1;33m\u001b[0m\u001b[0m\n\u001b[0m\u001b[0;32m    301\u001b[0m                     \u001b[1;32mif\u001b[0m \u001b[0misinstance\u001b[0m\u001b[1;33m(\u001b[0m\u001b[0mresults\u001b[0m\u001b[1;33m[\u001b[0m\u001b[0mi\u001b[0m\u001b[1;33m]\u001b[0m\u001b[1;33m,\u001b[0m \u001b[0mABCSeries\u001b[0m\u001b[1;33m)\u001b[0m\u001b[1;33m:\u001b[0m\u001b[1;33m\u001b[0m\u001b[1;33m\u001b[0m\u001b[0m\n\u001b[0;32m    302\u001b[0m                         \u001b[1;31m# If we have a view on v, we need to make a copy because\u001b[0m\u001b[1;33m\u001b[0m\u001b[1;33m\u001b[0m\u001b[1;33m\u001b[0m\u001b[0m\n",
      "\u001b[1;31mTypeError\u001b[0m: coordenadas() takes 0 positional arguments but 1 was given"
     ]
    }
   ],
   "source": [
    "#x2,y2 = transformer.transform(x1, y1)\n",
    "#dfff = data_temp_anual.apply(lambda x, y: transformer.transform(x['longitude'], y['latitude']))\n",
    "#data_temp_anual['coordenada'] = transformer.transform(['latitude', 'longitude'])\n",
    "\n",
    "\n",
    "def coordenadas():\n",
    "    \n",
    "    x = data_temp_anual['latitude'] \n",
    "    y = data_temp_anual['longitude']\n",
    "    x1, y1 = transformer.transform(x,y)\n",
    "    \n",
    "    return x1, y1\n",
    "    \n",
    "\n",
    "data_temp_anual2 = data_temp_anual.apply(coordenadas)"
   ]
  },
  {
   "cell_type": "code",
   "execution_count": null,
   "metadata": {},
   "outputs": [],
   "source": []
  }
 ],
 "metadata": {
  "kernelspec": {
   "display_name": "Python 3",
   "language": "python",
   "name": "python3"
  },
  "language_info": {
   "codemirror_mode": {
    "name": "ipython",
    "version": 3
   },
   "file_extension": ".py",
   "mimetype": "text/x-python",
   "name": "python",
   "nbconvert_exporter": "python",
   "pygments_lexer": "ipython3",
   "version": "3.8.5"
  }
 },
 "nbformat": 4,
 "nbformat_minor": 4
}
