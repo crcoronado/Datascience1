{
 "cells": [
  {
   "cell_type": "markdown",
   "metadata": {
    "id": "S-X6oiYjIUf6"
   },
   "source": [
    "# Modelos"
   ]
  },
  {
   "cell_type": "markdown",
   "metadata": {
    "id": "2yq6FYrUIUgC"
   },
   "source": [
    "## 1. Cargue de Librerias, base de datos y entrenamiento."
   ]
  },
  {
   "cell_type": "code",
   "execution_count": 1,
   "metadata": {
    "id": "G3XGyF0YIUgC"
   },
   "outputs": [],
   "source": [
    "import pandas as pd\n",
    "import numpy as np\n",
    "import matplotlib.pyplot as plt\n",
    "\n",
    "from sklearn.linear_model import LinearRegression, Ridge\n",
    "from sklearn.model_selection import train_test_split\n",
    "from sklearn.model_selection import RandomizedSearchCV, GridSearchCV\n",
    "from sklearn.model_selection import cross_val_score\n",
    "from sklearn.tree import DecisionTreeClassifier\n",
    "from sklearn import tree\n",
    "\n",
    "from sklearn.decomposition import PCA\n",
    "\n",
    "from sklearn.metrics import accuracy_score, confusion_matrix, mean_squared_error,r2_score,mean_absolute_error,mean_squared_error\n",
    "\n",
    "from sklearn.preprocessing import PolynomialFeatures\n",
    "from sklearn.preprocessing import MinMaxScaler\n",
    "from sklearn.preprocessing import StandardScaler\n",
    "\n",
    "from scipy.stats import uniform\n",
    "\n",
    "from sklearn.pipeline import Pipeline\n",
    "\n",
    "from sklearn.tree import DecisionTreeRegressor\n",
    "\n",
    "from sklearn.svm import SVC, SVR, LinearSVR\n",
    "\n",
    "from sklearn.naive_bayes import GaussianNB\n",
    "from sklearn.ensemble import RandomForestRegressor, AdaBoostRegressor, GradientBoostingRegressor\n",
    "\n",
    "pd.set_option('display.max_columns', None)"
   ]
  },
  {
   "cell_type": "code",
   "execution_count": 2,
   "metadata": {
    "id": "nLroPoUdIUgD"
   },
   "outputs": [],
   "source": [
    "df = pd.read_csv('Wine_reviews_climate_prediction.csv')"
   ]
  },
  {
   "cell_type": "code",
   "execution_count": 3,
   "metadata": {
    "colab": {
     "base_uri": "https://localhost:8080/"
    },
    "id": "SIGwkI1qIUgD",
    "outputId": "75e8af60-6440-4383-e16c-ea282073afbf"
   },
   "outputs": [
    {
     "name": "stdout",
     "output_type": "stream",
     "text": [
      "<class 'pandas.core.frame.DataFrame'>\n",
      "RangeIndex: 70030 entries, 0 to 70029\n",
      "Data columns (total 19 columns):\n",
      " #   Column          Non-Null Count  Dtype  \n",
      "---  ------          --------------  -----  \n",
      " 0   Unnamed: 0      70030 non-null  int64  \n",
      " 1   country         70030 non-null  object \n",
      " 2   description     70030 non-null  object \n",
      " 3   points          70030 non-null  int64  \n",
      " 4   price           70030 non-null  float64\n",
      " 5   taster_name     70030 non-null  object \n",
      " 6   variety         70030 non-null  object \n",
      " 7   winery          70030 non-null  object \n",
      " 8   Year            70030 non-null  int64  \n",
      " 9   region          70030 non-null  object \n",
      " 10  Latitude        70030 non-null  float64\n",
      " 11  Longitude       70030 non-null  float64\n",
      " 12  Lat_x           70030 non-null  float64\n",
      " 13  Long_x          70030 non-null  float64\n",
      " 14  temp_anual      70030 non-null  float64\n",
      " 15  temp_max_anual  70030 non-null  float64\n",
      " 16  temp_min_anual  70030 non-null  float64\n",
      " 17  pre_anual       70030 non-null  float64\n",
      " 18  etp_anual       70030 non-null  int64  \n",
      "dtypes: float64(9), int64(4), object(6)\n",
      "memory usage: 10.2+ MB\n"
     ]
    }
   ],
   "source": [
    "df.info()"
   ]
  },
  {
   "cell_type": "code",
   "execution_count": 4,
   "metadata": {
    "colab": {
     "base_uri": "https://localhost:8080/"
    },
    "id": "riF_YzzKIUgE",
    "outputId": "49d932bd-0f73-4fab-8c02-2e33367f4e98"
   },
   "outputs": [
    {
     "data": {
      "text/plain": [
       "Unnamed: 0        0\n",
       "country           0\n",
       "description       0\n",
       "points            0\n",
       "price             0\n",
       "taster_name       0\n",
       "variety           0\n",
       "winery            0\n",
       "Year              0\n",
       "region            0\n",
       "Latitude          0\n",
       "Longitude         0\n",
       "Lat_x             0\n",
       "Long_x            0\n",
       "temp_anual        0\n",
       "temp_max_anual    0\n",
       "temp_min_anual    0\n",
       "pre_anual         0\n",
       "etp_anual         0\n",
       "dtype: int64"
      ]
     },
     "execution_count": 4,
     "metadata": {},
     "output_type": "execute_result"
    }
   ],
   "source": [
    "df.isnull().sum()"
   ]
  },
  {
   "cell_type": "code",
   "execution_count": 5,
   "metadata": {
    "colab": {
     "base_uri": "https://localhost:8080/"
    },
    "id": "ZyevuB35IUgF",
    "outputId": "8436107e-e850-4001-97ff-2ff8df022dbf"
   },
   "outputs": [
    {
     "data": {
      "text/plain": [
       "Unnamed: 0        0\n",
       "country           0\n",
       "description       0\n",
       "points            0\n",
       "price             0\n",
       "taster_name       0\n",
       "variety           0\n",
       "winery            0\n",
       "Year              0\n",
       "region            0\n",
       "Latitude          0\n",
       "Longitude         0\n",
       "Lat_x             0\n",
       "Long_x            0\n",
       "temp_anual        0\n",
       "temp_max_anual    0\n",
       "temp_min_anual    0\n",
       "pre_anual         0\n",
       "etp_anual         0\n",
       "dtype: int64"
      ]
     },
     "execution_count": 5,
     "metadata": {},
     "output_type": "execute_result"
    }
   ],
   "source": [
    "#Deleteing rows with price = 0\n",
    "df.dropna(subset = ['price'], inplace=True)\n",
    "df.isnull().sum()"
   ]
  },
  {
   "cell_type": "code",
   "execution_count": 6,
   "metadata": {
    "colab": {
     "base_uri": "https://localhost:8080/",
     "height": 419
    },
    "id": "XbtGWZX8IUgF",
    "outputId": "e18a8c51-2443-4cf1-d584-26f4dbdc990d"
   },
   "outputs": [
    {
     "data": {
      "text/html": [
       "<div>\n",
       "<style scoped>\n",
       "    .dataframe tbody tr th:only-of-type {\n",
       "        vertical-align: middle;\n",
       "    }\n",
       "\n",
       "    .dataframe tbody tr th {\n",
       "        vertical-align: top;\n",
       "    }\n",
       "\n",
       "    .dataframe thead th {\n",
       "        text-align: right;\n",
       "    }\n",
       "</style>\n",
       "<table border=\"1\" class=\"dataframe\">\n",
       "  <thead>\n",
       "    <tr style=\"text-align: right;\">\n",
       "      <th></th>\n",
       "      <th>country</th>\n",
       "      <th>points</th>\n",
       "      <th>price</th>\n",
       "      <th>taster_name</th>\n",
       "      <th>Year</th>\n",
       "      <th>Lat_x</th>\n",
       "      <th>Long_x</th>\n",
       "      <th>temp_anual</th>\n",
       "      <th>temp_max_anual</th>\n",
       "      <th>temp_min_anual</th>\n",
       "      <th>pre_anual</th>\n",
       "      <th>etp_anual</th>\n",
       "    </tr>\n",
       "  </thead>\n",
       "  <tbody>\n",
       "    <tr>\n",
       "      <th>0</th>\n",
       "      <td>Portugal</td>\n",
       "      <td>87</td>\n",
       "      <td>15.0</td>\n",
       "      <td>Roger Voss</td>\n",
       "      <td>2011</td>\n",
       "      <td>41.75</td>\n",
       "      <td>-5.75</td>\n",
       "      <td>13.01</td>\n",
       "      <td>19.44</td>\n",
       "      <td>6.61</td>\n",
       "      <td>388.5</td>\n",
       "      <td>1200</td>\n",
       "    </tr>\n",
       "    <tr>\n",
       "      <th>1</th>\n",
       "      <td>Portugal</td>\n",
       "      <td>87</td>\n",
       "      <td>15.0</td>\n",
       "      <td>Roger Voss</td>\n",
       "      <td>2011</td>\n",
       "      <td>41.75</td>\n",
       "      <td>-5.75</td>\n",
       "      <td>13.01</td>\n",
       "      <td>19.44</td>\n",
       "      <td>6.61</td>\n",
       "      <td>388.5</td>\n",
       "      <td>1200</td>\n",
       "    </tr>\n",
       "    <tr>\n",
       "      <th>2</th>\n",
       "      <td>Portugal</td>\n",
       "      <td>87</td>\n",
       "      <td>17.0</td>\n",
       "      <td>Roger Voss</td>\n",
       "      <td>2011</td>\n",
       "      <td>41.75</td>\n",
       "      <td>-5.75</td>\n",
       "      <td>13.01</td>\n",
       "      <td>19.44</td>\n",
       "      <td>6.61</td>\n",
       "      <td>388.5</td>\n",
       "      <td>1200</td>\n",
       "    </tr>\n",
       "    <tr>\n",
       "      <th>3</th>\n",
       "      <td>Portugal</td>\n",
       "      <td>91</td>\n",
       "      <td>12.0</td>\n",
       "      <td>Roger Voss</td>\n",
       "      <td>2011</td>\n",
       "      <td>41.75</td>\n",
       "      <td>-5.75</td>\n",
       "      <td>13.01</td>\n",
       "      <td>19.44</td>\n",
       "      <td>6.61</td>\n",
       "      <td>388.5</td>\n",
       "      <td>1200</td>\n",
       "    </tr>\n",
       "    <tr>\n",
       "      <th>4</th>\n",
       "      <td>Portugal</td>\n",
       "      <td>87</td>\n",
       "      <td>8.0</td>\n",
       "      <td>Roger Voss</td>\n",
       "      <td>2011</td>\n",
       "      <td>41.75</td>\n",
       "      <td>-5.75</td>\n",
       "      <td>13.01</td>\n",
       "      <td>19.44</td>\n",
       "      <td>6.61</td>\n",
       "      <td>388.5</td>\n",
       "      <td>1200</td>\n",
       "    </tr>\n",
       "    <tr>\n",
       "      <th>...</th>\n",
       "      <td>...</td>\n",
       "      <td>...</td>\n",
       "      <td>...</td>\n",
       "      <td>...</td>\n",
       "      <td>...</td>\n",
       "      <td>...</td>\n",
       "      <td>...</td>\n",
       "      <td>...</td>\n",
       "      <td>...</td>\n",
       "      <td>...</td>\n",
       "      <td>...</td>\n",
       "      <td>...</td>\n",
       "    </tr>\n",
       "    <tr>\n",
       "      <th>70025</th>\n",
       "      <td>USA</td>\n",
       "      <td>84</td>\n",
       "      <td>25.0</td>\n",
       "      <td>Matt Kettmann</td>\n",
       "      <td>2012</td>\n",
       "      <td>34.75</td>\n",
       "      <td>-118.25</td>\n",
       "      <td>13.96</td>\n",
       "      <td>20.23</td>\n",
       "      <td>7.75</td>\n",
       "      <td>325.0</td>\n",
       "      <td>1176</td>\n",
       "    </tr>\n",
       "    <tr>\n",
       "      <th>70026</th>\n",
       "      <td>Switzerland</td>\n",
       "      <td>90</td>\n",
       "      <td>21.0</td>\n",
       "      <td>Jeff Jenssen</td>\n",
       "      <td>2012</td>\n",
       "      <td>46.75</td>\n",
       "      <td>6.75</td>\n",
       "      <td>9.15</td>\n",
       "      <td>13.46</td>\n",
       "      <td>4.87</td>\n",
       "      <td>1382.5</td>\n",
       "      <td>696</td>\n",
       "    </tr>\n",
       "    <tr>\n",
       "      <th>70027</th>\n",
       "      <td>France</td>\n",
       "      <td>89</td>\n",
       "      <td>14.0</td>\n",
       "      <td>Roger Voss</td>\n",
       "      <td>2012</td>\n",
       "      <td>45.25</td>\n",
       "      <td>6.25</td>\n",
       "      <td>5.61</td>\n",
       "      <td>9.20</td>\n",
       "      <td>2.05</td>\n",
       "      <td>1386.2</td>\n",
       "      <td>714</td>\n",
       "    </tr>\n",
       "    <tr>\n",
       "      <th>70028</th>\n",
       "      <td>France</td>\n",
       "      <td>89</td>\n",
       "      <td>18.0</td>\n",
       "      <td>Roger Voss</td>\n",
       "      <td>2012</td>\n",
       "      <td>45.75</td>\n",
       "      <td>5.75</td>\n",
       "      <td>10.71</td>\n",
       "      <td>15.25</td>\n",
       "      <td>6.22</td>\n",
       "      <td>976.2</td>\n",
       "      <td>807</td>\n",
       "    </tr>\n",
       "    <tr>\n",
       "      <th>70029</th>\n",
       "      <td>Italy</td>\n",
       "      <td>87</td>\n",
       "      <td>25.0</td>\n",
       "      <td>Kerin O’Keefe</td>\n",
       "      <td>2012</td>\n",
       "      <td>40.25</td>\n",
       "      <td>15.25</td>\n",
       "      <td>15.09</td>\n",
       "      <td>18.80</td>\n",
       "      <td>11.40</td>\n",
       "      <td>269.6</td>\n",
       "      <td>1077</td>\n",
       "    </tr>\n",
       "  </tbody>\n",
       "</table>\n",
       "<p>70030 rows × 12 columns</p>\n",
       "</div>"
      ],
      "text/plain": [
       "           country  points  price    taster_name  Year  Lat_x  Long_x  \\\n",
       "0         Portugal      87   15.0     Roger Voss  2011  41.75   -5.75   \n",
       "1         Portugal      87   15.0     Roger Voss  2011  41.75   -5.75   \n",
       "2         Portugal      87   17.0     Roger Voss  2011  41.75   -5.75   \n",
       "3         Portugal      91   12.0     Roger Voss  2011  41.75   -5.75   \n",
       "4         Portugal      87    8.0     Roger Voss  2011  41.75   -5.75   \n",
       "...            ...     ...    ...            ...   ...    ...     ...   \n",
       "70025          USA      84   25.0  Matt Kettmann  2012  34.75 -118.25   \n",
       "70026  Switzerland      90   21.0   Jeff Jenssen  2012  46.75    6.75   \n",
       "70027       France      89   14.0     Roger Voss  2012  45.25    6.25   \n",
       "70028       France      89   18.0     Roger Voss  2012  45.75    5.75   \n",
       "70029        Italy      87   25.0  Kerin O’Keefe  2012  40.25   15.25   \n",
       "\n",
       "       temp_anual  temp_max_anual  temp_min_anual  pre_anual  etp_anual  \n",
       "0           13.01           19.44            6.61      388.5       1200  \n",
       "1           13.01           19.44            6.61      388.5       1200  \n",
       "2           13.01           19.44            6.61      388.5       1200  \n",
       "3           13.01           19.44            6.61      388.5       1200  \n",
       "4           13.01           19.44            6.61      388.5       1200  \n",
       "...           ...             ...             ...        ...        ...  \n",
       "70025       13.96           20.23            7.75      325.0       1176  \n",
       "70026        9.15           13.46            4.87     1382.5        696  \n",
       "70027        5.61            9.20            2.05     1386.2        714  \n",
       "70028       10.71           15.25            6.22      976.2        807  \n",
       "70029       15.09           18.80           11.40      269.6       1077  \n",
       "\n",
       "[70030 rows x 12 columns]"
      ]
     },
     "execution_count": 6,
     "metadata": {},
     "output_type": "execute_result"
    }
   ],
   "source": [
    "df.drop(columns=['description', 'variety', 'winery', 'Latitude', 'Longitude', 'region', 'Unnamed: 0'], inplace=True)\n",
    "df"
   ]
  },
  {
   "cell_type": "code",
   "execution_count": 7,
   "metadata": {
    "id": "-KGr2Rk6IUgF"
   },
   "outputs": [],
   "source": [
    "df = pd.get_dummies(df, columns=['country', 'taster_name'])"
   ]
  },
  {
   "cell_type": "code",
   "execution_count": 8,
   "metadata": {
    "id": "Ztr-QMPpIUgG"
   },
   "outputs": [],
   "source": [
    "data = df"
   ]
  },
  {
   "cell_type": "code",
   "execution_count": 9,
   "metadata": {
    "colab": {
     "base_uri": "https://localhost:8080/"
    },
    "id": "JWMiGW8QIUgG",
    "outputId": "076bd999-df3c-4e93-db1c-e1ce5c3ca7a6"
   },
   "outputs": [
    {
     "name": "stdout",
     "output_type": "stream",
     "text": [
      "<class 'pandas.core.frame.DataFrame'>\n",
      "Int64Index: 70030 entries, 0 to 70029\n",
      "Data columns (total 70 columns):\n",
      " #   Column                          Non-Null Count  Dtype  \n",
      "---  ------                          --------------  -----  \n",
      " 0   points                          70030 non-null  int64  \n",
      " 1   price                           70030 non-null  float64\n",
      " 2   Year                            70030 non-null  int64  \n",
      " 3   Lat_x                           70030 non-null  float64\n",
      " 4   Long_x                          70030 non-null  float64\n",
      " 5   temp_anual                      70030 non-null  float64\n",
      " 6   temp_max_anual                  70030 non-null  float64\n",
      " 7   temp_min_anual                  70030 non-null  float64\n",
      " 8   pre_anual                       70030 non-null  float64\n",
      " 9   etp_anual                       70030 non-null  int64  \n",
      " 10  country_Argentina               70030 non-null  uint8  \n",
      " 11  country_Australia               70030 non-null  uint8  \n",
      " 12  country_Austria                 70030 non-null  uint8  \n",
      " 13  country_Bosnia and Herzegovina  70030 non-null  uint8  \n",
      " 14  country_Brazil                  70030 non-null  uint8  \n",
      " 15  country_Bulgaria                70030 non-null  uint8  \n",
      " 16  country_Canada                  70030 non-null  uint8  \n",
      " 17  country_Chile                   70030 non-null  uint8  \n",
      " 18  country_China                   70030 non-null  uint8  \n",
      " 19  country_Croatia                 70030 non-null  uint8  \n",
      " 20  country_Cyprus                  70030 non-null  uint8  \n",
      " 21  country_Czech Republic          70030 non-null  uint8  \n",
      " 22  country_England                 70030 non-null  uint8  \n",
      " 23  country_France                  70030 non-null  uint8  \n",
      " 24  country_Georgia                 70030 non-null  uint8  \n",
      " 25  country_Germany                 70030 non-null  uint8  \n",
      " 26  country_Greece                  70030 non-null  uint8  \n",
      " 27  country_Hungary                 70030 non-null  uint8  \n",
      " 28  country_India                   70030 non-null  uint8  \n",
      " 29  country_Israel                  70030 non-null  uint8  \n",
      " 30  country_Italy                   70030 non-null  uint8  \n",
      " 31  country_Lebanon                 70030 non-null  uint8  \n",
      " 32  country_Macedonia               70030 non-null  uint8  \n",
      " 33  country_Mexico                  70030 non-null  uint8  \n",
      " 34  country_Moldova                 70030 non-null  uint8  \n",
      " 35  country_Morocco                 70030 non-null  uint8  \n",
      " 36  country_New Zealand             70030 non-null  uint8  \n",
      " 37  country_Peru                    70030 non-null  uint8  \n",
      " 38  country_Portugal                70030 non-null  uint8  \n",
      " 39  country_Romania                 70030 non-null  uint8  \n",
      " 40  country_Serbia                  70030 non-null  uint8  \n",
      " 41  country_Slovakia                70030 non-null  uint8  \n",
      " 42  country_Slovenia                70030 non-null  uint8  \n",
      " 43  country_South Africa            70030 non-null  uint8  \n",
      " 44  country_Spain                   70030 non-null  uint8  \n",
      " 45  country_Switzerland             70030 non-null  uint8  \n",
      " 46  country_Turkey                  70030 non-null  uint8  \n",
      " 47  country_USA                     70030 non-null  uint8  \n",
      " 48  country_Ukraine                 70030 non-null  uint8  \n",
      " 49  country_Uruguay                 70030 non-null  uint8  \n",
      " 50  taster_name_Alexander Peartree  70030 non-null  uint8  \n",
      " 51  taster_name_Anna Lee C. Iijima  70030 non-null  uint8  \n",
      " 52  taster_name_Anne Krebiehl MW    70030 non-null  uint8  \n",
      " 53  taster_name_Anonimo             70030 non-null  uint8  \n",
      " 54  taster_name_Carrie Dykes        70030 non-null  uint8  \n",
      " 55  taster_name_Christina Pickard   70030 non-null  uint8  \n",
      " 56  taster_name_Fiona Adams         70030 non-null  uint8  \n",
      " 57  taster_name_Jeff Jenssen        70030 non-null  uint8  \n",
      " 58  taster_name_Jim Gordon          70030 non-null  uint8  \n",
      " 59  taster_name_Joe Czerwinski      70030 non-null  uint8  \n",
      " 60  taster_name_Kerin O’Keefe       70030 non-null  uint8  \n",
      " 61  taster_name_Lauren Buzzeo       70030 non-null  uint8  \n",
      " 62  taster_name_Matt Kettmann       70030 non-null  uint8  \n",
      " 63  taster_name_Michael Schachner   70030 non-null  uint8  \n",
      " 64  taster_name_Mike DeSimone       70030 non-null  uint8  \n",
      " 65  taster_name_Paul Gregutt        70030 non-null  uint8  \n",
      " 66  taster_name_Roger Voss          70030 non-null  uint8  \n",
      " 67  taster_name_Sean P. Sullivan    70030 non-null  uint8  \n",
      " 68  taster_name_Susan Kostrzewa     70030 non-null  uint8  \n",
      " 69  taster_name_Virginie Boone      70030 non-null  uint8  \n",
      "dtypes: float64(7), int64(3), uint8(60)\n",
      "memory usage: 9.9 MB\n"
     ]
    }
   ],
   "source": [
    "df.info()"
   ]
  },
  {
   "cell_type": "code",
   "execution_count": 10,
   "metadata": {
    "id": "nqhW56Z2IUgG"
   },
   "outputs": [],
   "source": [
    "#First we separate our info, the X will be all the columns except the output variable, then the output variable, the test size 20% and the random state to have always the same output\n",
    "# is like X, X_test, y, y_test = train_test_split(variables_X, variable_Y, test_size, random_state)\n",
    "X, X_test, y, y_test = train_test_split(data.drop(columns='points'), data.points, test_size=0.2, random_state=42)"
   ]
  },
  {
   "cell_type": "markdown",
   "metadata": {
    "id": "v8twELoMIUgG"
   },
   "source": [
    "## Modelo 1: *Ridge con Polynomial Features*"
   ]
  },
  {
   "cell_type": "code",
   "execution_count": 11,
   "metadata": {
    "colab": {
     "base_uri": "https://localhost:8080/"
    },
    "id": "No8TeKycIUgH",
    "outputId": "75d397dc-808f-403e-ea3f-6f437e40992e"
   },
   "outputs": [
    {
     "name": "stdout",
     "output_type": "stream",
     "text": [
      "Wall time: 5min 48s\n"
     ]
    },
    {
     "data": {
      "text/plain": [
       "RandomizedSearchCV(cv=5,\n",
       "                   estimator=Pipeline(steps=[('scaler', StandardScaler()),\n",
       "                                             ('poly',\n",
       "                                              PolynomialFeatures(include_bias=False)),\n",
       "                                             ('ridge', Ridge())]),\n",
       "                   n_iter=30,\n",
       "                   param_distributions={'poly__degree': [1, 2],\n",
       "                                        'ridge__alpha': <scipy.stats._distn_infrastructure.rv_frozen object at 0x0000025271E20A90>})"
      ]
     },
     "execution_count": 11,
     "metadata": {},
     "output_type": "execute_result"
    }
   ],
   "source": [
    "%%time\n",
    "#We create the Pipeline. First step, Normalize data, include the Polynomimal \n",
    "#(include bias false to remove from the Polynomial for X[0]=1) and then use the Ridge method\n",
    "ridge_pipe = Pipeline([\n",
    "    ('scaler', StandardScaler()),\n",
    "    ('poly', PolynomialFeatures(include_bias=False)),\n",
    "    ('ridge', Ridge())\n",
    "])\n",
    "\n",
    "#In a dictionary, Step name _ _ and then parameter name, and then : with the type to do\n",
    "dists = {'ridge__alpha' : uniform(loc=0, scale=200), 'poly__degree' : [1, 2]}\n",
    "#Cross Validation (CV uses the n parts (1/5) for cv=5, n_inter is the number of models, )\n",
    "ridge_CV = RandomizedSearchCV(ridge_pipe, param_distributions=dists, n_iter=30, cv=5)\n",
    "#Now we train the model\n",
    "ridge_CV.fit(X, y)"
   ]
  },
  {
   "cell_type": "code",
   "execution_count": 12,
   "metadata": {
    "colab": {
     "base_uri": "https://localhost:8080/"
    },
    "id": "dFDDehBtIUgH",
    "outputId": "412b79b0-b20f-4ba2-af7d-0d9e4b1ae26f"
   },
   "outputs": [
    {
     "data": {
      "text/plain": [
       "{'poly__degree': 2, 'ridge__alpha': 106.04738003831098}"
      ]
     },
     "execution_count": 12,
     "metadata": {},
     "output_type": "execute_result"
    }
   ],
   "source": [
    "ridge_CV.best_params_"
   ]
  },
  {
   "cell_type": "code",
   "execution_count": 13,
   "metadata": {
    "colab": {
     "base_uri": "https://localhost:8080/"
    },
    "id": "Us1u_OSEIUgH",
    "outputId": "3f2a5cb9-2132-4d19-b4ac-5a5d851959f5"
   },
   "outputs": [
    {
     "data": {
      "text/plain": [
       "0.3824740087167675"
      ]
     },
     "execution_count": 13,
     "metadata": {},
     "output_type": "execute_result"
    }
   ],
   "source": [
    "ridge_CV.score(X, y)"
   ]
  },
  {
   "cell_type": "code",
   "execution_count": 14,
   "metadata": {
    "colab": {
     "base_uri": "https://localhost:8080/"
    },
    "id": "cMI4r5bfIUgH",
    "outputId": "3d091ff6-6748-4d16-beb1-b69b5f369c6a"
   },
   "outputs": [
    {
     "data": {
      "text/plain": [
       "0.3788614549483983"
      ]
     },
     "execution_count": 14,
     "metadata": {},
     "output_type": "execute_result"
    }
   ],
   "source": [
    "ridge_CV.score(X_test, y_test)"
   ]
  },
  {
   "cell_type": "code",
   "execution_count": 15,
   "metadata": {
    "colab": {
     "base_uri": "https://localhost:8080/"
    },
    "id": "6EBPk4StIUgI",
    "outputId": "0a10baf4-d657-4a40-f477-476bf9c35e5a"
   },
   "outputs": [
    {
     "name": "stdout",
     "output_type": "stream",
     "text": [
      "Error absoluto medio (MAE): 1.9610044245379328\n",
      "Error Cuadrático Medio (MSE): 6.131935281376576\n",
      "Raíz del Error Cuadrático Medio (RMSE): 2.476274476179201\n",
      "Coeficiente de determinación R2: 0.3824740087167675\n"
     ]
    }
   ],
   "source": [
    "#Medidas de entrenamiento\n",
    "print('Error absoluto medio (MAE):',mean_absolute_error(ridge_CV.predict(X), y))\n",
    "print('Error Cuadrático Medio (MSE):',mean_squared_error(ridge_CV.predict(X), y))\n",
    "print('Raíz del Error Cuadrático Medio (RMSE):',np.sqrt(mean_squared_error(ridge_CV.predict(X), y)))\n",
    "print('Coeficiente de determinación R2:',r2_score(y,ridge_CV.predict(X)))"
   ]
  },
  {
   "cell_type": "code",
   "execution_count": 16,
   "metadata": {
    "colab": {
     "base_uri": "https://localhost:8080/"
    },
    "id": "MujgPeQ5IUgI",
    "outputId": "d9580b95-f8d3-4a4d-a6ac-40099a777c15"
   },
   "outputs": [
    {
     "name": "stdout",
     "output_type": "stream",
     "text": [
      "Error absoluto medio (MAE): 1.9834259935819853\n",
      "Error Cuadrático Medio (MSE): 6.187401014267267\n",
      "Raíz del Error Cuadrático Medio (RMSE): 2.4874486958060595\n",
      "Coeficiente de determinación R2: 0.3788614549483983\n"
     ]
    }
   ],
   "source": [
    "#Medidas en la prueba\n",
    "print('Error absoluto medio (MAE):',mean_absolute_error(ridge_CV.predict(X_test), y_test))\n",
    "print('Error Cuadrático Medio (MSE):',mean_squared_error(ridge_CV.predict(X_test), y_test))\n",
    "print('Raíz del Error Cuadrático Medio (RMSE):',np.sqrt(mean_squared_error(ridge_CV.predict(X_test), y_test)))\n",
    "print('Coeficiente de determinación R2:',r2_score(y_test,ridge_CV.predict(X_test)))"
   ]
  },
  {
   "cell_type": "markdown",
   "metadata": {
    "id": "hH_1jBvFIUgI"
   },
   "source": [
    "## Modelo 2: *Arbol de decisión*"
   ]
  },
  {
   "cell_type": "code",
   "execution_count": 17,
   "metadata": {
    "colab": {
     "base_uri": "https://localhost:8080/"
    },
    "id": "MIwv5nuGIUgI",
    "outputId": "554bc829-d3cd-4a35-80b5-14f06d5911e4"
   },
   "outputs": [
    {
     "name": "stdout",
     "output_type": "stream",
     "text": [
      "Wall time: 1min 6s\n"
     ]
    },
    {
     "data": {
      "text/plain": [
       "GridSearchCV(estimator=DecisionTreeRegressor(),\n",
       "             param_grid={'max_depth': [10, 11, 12, 13, 14, 15],\n",
       "                         'min_samples_leaf': [47, 48, 49, 50, 51, 52, 53]})"
      ]
     },
     "execution_count": 17,
     "metadata": {},
     "output_type": "execute_result"
    }
   ],
   "source": [
    "%%time\n",
    "#Now we try a Tree Regressor\n",
    "tree = DecisionTreeRegressor()\n",
    "\n",
    "#In a dictionary, Step name _ _ and then parameter name, and then : with the type to do\n",
    "param_grid = {'max_depth' : [10, 11, 12, 13, 14, 15], 'min_samples_leaf' : [47, 48, 49, 50, 51, 52, 53]}\n",
    "\n",
    "#Cross Validation (CV uses the n parts (1/5) for cv=5, n_inter is the number of models, )\n",
    "tree_CV = GridSearchCV(tree, param_grid=param_grid)\n",
    "#Now we train the model\n",
    "tree_CV.fit(X, y)"
   ]
  },
  {
   "cell_type": "code",
   "execution_count": 18,
   "metadata": {
    "colab": {
     "base_uri": "https://localhost:8080/"
    },
    "id": "jU6i1OcXIUgJ",
    "outputId": "979ebd16-0ebe-4527-f5b2-7e48bcdb91dc"
   },
   "outputs": [
    {
     "name": "stdout",
     "output_type": "stream",
     "text": [
      "The best Parameters are : {'max_depth': 11, 'min_samples_leaf': 48}\n",
      "The best X,y score is:  0.4729605577155309\n",
      "The best X,y test score is:  0.4354889867418916\n"
     ]
    }
   ],
   "source": [
    "print(\"The best Parameters are :\", tree_CV.best_params_)\n",
    "print(\"The best X,y score is: \", tree_CV.score(X, y))\n",
    "print(\"The best X,y test score is: \", tree_CV.score(X_test, y_test))"
   ]
  },
  {
   "cell_type": "code",
   "execution_count": 19,
   "metadata": {
    "colab": {
     "base_uri": "https://localhost:8080/"
    },
    "id": "nmrqcna8IUgJ",
    "outputId": "6495e5c7-a347-44c5-cdb5-73189e197261"
   },
   "outputs": [
    {
     "name": "stdout",
     "output_type": "stream",
     "text": [
      "Error absoluto medio (MAE): 1.8068251155425177\n",
      "Error Cuadrático Medio (MSE): 5.233418182294606\n",
      "Raíz del Error Cuadrático Medio (RMSE): 2.2876665365158897\n",
      "Coeficiente de determinación R2: 0.4729605577155309\n"
     ]
    }
   ],
   "source": [
    "#Medidas de entrenamiento\n",
    "print('Error absoluto medio (MAE):',mean_absolute_error(tree_CV.predict(X), y))\n",
    "print('Error Cuadrático Medio (MSE):',mean_squared_error(tree_CV.predict(X), y))\n",
    "print('Raíz del Error Cuadrático Medio (RMSE):',np.sqrt(mean_squared_error(tree_CV.predict(X), y)))\n",
    "print('Coeficiente de determinación R2:',r2_score(y,tree_CV.predict(X)))"
   ]
  },
  {
   "cell_type": "code",
   "execution_count": 20,
   "metadata": {
    "colab": {
     "base_uri": "https://localhost:8080/"
    },
    "id": "Ql6qlTobIUgJ",
    "outputId": "9203f51c-715e-44dc-8529-00358de17d1d"
   },
   "outputs": [
    {
     "name": "stdout",
     "output_type": "stream",
     "text": [
      "Error absoluto medio (MAE): 1.8706447170762823\n",
      "Error Cuadrático Medio (MSE): 5.623312292925067\n",
      "Raíz del Error Cuadrático Medio (RMSE): 2.3713524185420156\n",
      "Coeficiente de determinación R2: 0.4354889867418916\n"
     ]
    }
   ],
   "source": [
    "#Medidas en la prueba\n",
    "print('Error absoluto medio (MAE):',mean_absolute_error(tree_CV.predict(X_test), y_test))\n",
    "print('Error Cuadrático Medio (MSE):',mean_squared_error(tree_CV.predict(X_test), y_test))\n",
    "print('Raíz del Error Cuadrático Medio (RMSE):',np.sqrt(mean_squared_error(tree_CV.predict(X_test), y_test)))\n",
    "print('Coeficiente de determinación R2:',r2_score(y_test,tree_CV.predict(X_test)))"
   ]
  },
  {
   "cell_type": "markdown",
   "metadata": {
    "id": "HsytChxiIUgJ"
   },
   "source": [
    "## Modelo 3: *PCA + Ridge*"
   ]
  },
  {
   "cell_type": "code",
   "execution_count": 21,
   "metadata": {
    "colab": {
     "base_uri": "https://localhost:8080/"
    },
    "id": "JFodgmx5IUgJ",
    "outputId": "6b624f8d-edc6-43fd-c886-35d407d401b4"
   },
   "outputs": [
    {
     "name": "stdout",
     "output_type": "stream",
     "text": [
      "Wall time: 1min 5s\n"
     ]
    },
    {
     "data": {
      "text/plain": [
       "RandomizedSearchCV(cv=5,\n",
       "                   estimator=Pipeline(steps=[('scaler', StandardScaler()),\n",
       "                                             ('pca', PCA()),\n",
       "                                             ('ridge', Ridge())]),\n",
       "                   n_iter=30,\n",
       "                   param_distributions={'pca__n_components': [10, 20, 30, 40,\n",
       "                                                              60],\n",
       "                                        'ridge__alpha': <scipy.stats._distn_infrastructure.rv_frozen object at 0x0000025271E33F70>})"
      ]
     },
     "execution_count": 21,
     "metadata": {},
     "output_type": "execute_result"
    }
   ],
   "source": [
    "%%time\n",
    "#We create the Pipeline. First step, Normalize data, include the Polynomimal \n",
    "#(include bias false to remove from the Polynomial for X[0]=1) and then use the Ridge method\n",
    "ridge_pipe = Pipeline([\n",
    "    ('scaler', StandardScaler()),\n",
    "    ('pca', PCA()),\n",
    "    ('ridge', Ridge())\n",
    "])\n",
    "\n",
    "#In a dictionary, Step name _ _ and then parameter name, and then : with the type to do\n",
    "dists = {'ridge__alpha' : uniform(loc=0, scale=200), 'pca__n_components' : [10, 20, 30, 40, 60]}\n",
    "#Cross Validation (CV uses the n parts (1/5) for cv=5, n_inter is the number of models, )\n",
    "ridge_CV = RandomizedSearchCV(ridge_pipe, param_distributions=dists, n_iter=30, cv=5)\n",
    "#Now we train the model\n",
    "ridge_CV.fit(X, y)"
   ]
  },
  {
   "cell_type": "code",
   "execution_count": 22,
   "metadata": {
    "colab": {
     "base_uri": "https://localhost:8080/"
    },
    "id": "Rhn--jWyIUgK",
    "outputId": "df9396fd-71a6-4863-cacc-49d5ddbf7947"
   },
   "outputs": [
    {
     "data": {
      "text/plain": [
       "{'pca__n_components': 60, 'ridge__alpha': 171.1039731019309}"
      ]
     },
     "execution_count": 22,
     "metadata": {},
     "output_type": "execute_result"
    }
   ],
   "source": [
    "ridge_CV.best_params_"
   ]
  },
  {
   "cell_type": "code",
   "execution_count": 23,
   "metadata": {
    "colab": {
     "base_uri": "https://localhost:8080/"
    },
    "id": "RMku_viFIUgK",
    "outputId": "509381d5-dd7b-4db8-a366-1ccebffb88d3"
   },
   "outputs": [
    {
     "data": {
      "text/plain": [
       "0.2548818219235661"
      ]
     },
     "execution_count": 23,
     "metadata": {},
     "output_type": "execute_result"
    }
   ],
   "source": [
    "ridge_CV.score(X, y)"
   ]
  },
  {
   "cell_type": "code",
   "execution_count": 24,
   "metadata": {
    "colab": {
     "base_uri": "https://localhost:8080/"
    },
    "id": "vzeIWyu-IUgK",
    "outputId": "bc2d2ec3-fedf-425e-d2b6-afc475e0b300"
   },
   "outputs": [
    {
     "data": {
      "text/plain": [
       "0.2760474887881852"
      ]
     },
     "execution_count": 24,
     "metadata": {},
     "output_type": "execute_result"
    }
   ],
   "source": [
    "ridge_CV.score(X_test, y_test)"
   ]
  },
  {
   "cell_type": "code",
   "execution_count": 25,
   "metadata": {
    "colab": {
     "base_uri": "https://localhost:8080/"
    },
    "id": "z3gBxxIgIUgK",
    "outputId": "39e5790a-3f5d-434f-a580-e4b5cf9bd443"
   },
   "outputs": [
    {
     "name": "stdout",
     "output_type": "stream",
     "text": [
      "Error absoluto medio (MAE): 2.152764063564753\n",
      "Error Cuadrático Medio (MSE): 7.398905486467708\n",
      "Raíz del Error Cuadrático Medio (RMSE): 2.7200929187194522\n",
      "Coeficiente de determinación R2: 0.2548818219235661\n"
     ]
    }
   ],
   "source": [
    "#Medidas de entrenamiento\n",
    "print('Error absoluto medio (MAE):',mean_absolute_error(ridge_CV.predict(X), y))\n",
    "print('Error Cuadrático Medio (MSE):',mean_squared_error(ridge_CV.predict(X), y))\n",
    "print('Raíz del Error Cuadrático Medio (RMSE):',np.sqrt(mean_squared_error(ridge_CV.predict(X), y)))\n",
    "print('Coeficiente de determinación R2:',r2_score(y,ridge_CV.predict(X)))"
   ]
  },
  {
   "cell_type": "code",
   "execution_count": 26,
   "metadata": {
    "colab": {
     "base_uri": "https://localhost:8080/"
    },
    "id": "Tm9qCxEPIUgK",
    "outputId": "6a182129-0218-4643-91fc-f1e8e3c89ca7"
   },
   "outputs": [
    {
     "name": "stdout",
     "output_type": "stream",
     "text": [
      "Error absoluto medio (MAE): 2.163466513095849\n",
      "Error Cuadrático Medio (MSE): 7.211570651731472\n",
      "Raíz del Error Cuadrático Medio (RMSE): 2.6854367711289484\n",
      "Coeficiente de determinación R2: 0.2760474887881852\n"
     ]
    }
   ],
   "source": [
    "#Medidas en la prueba\n",
    "print('Error absoluto medio (MAE):',mean_absolute_error(ridge_CV.predict(X_test), y_test))\n",
    "print('Error Cuadrático Medio (MSE):',mean_squared_error(ridge_CV.predict(X_test), y_test))\n",
    "print('Raíz del Error Cuadrático Medio (RMSE):',np.sqrt(mean_squared_error(ridge_CV.predict(X_test), y_test)))\n",
    "print('Coeficiente de determinación R2:',r2_score(y_test,ridge_CV.predict(X_test)))"
   ]
  },
  {
   "cell_type": "markdown",
   "metadata": {
    "id": "l1aiP28QIUgL"
   },
   "source": [
    "**Se repite el modelo con nuevos parametros**"
   ]
  },
  {
   "cell_type": "code",
   "execution_count": 27,
   "metadata": {
    "colab": {
     "base_uri": "https://localhost:8080/"
    },
    "id": "I-usHiknIUgL",
    "outputId": "09b503e7-fc6f-4bd5-f020-bdaf81384bd8"
   },
   "outputs": [
    {
     "name": "stdout",
     "output_type": "stream",
     "text": [
      "Wall time: 51.4 s\n"
     ]
    },
    {
     "data": {
      "text/plain": [
       "RandomizedSearchCV(cv=5,\n",
       "                   estimator=Pipeline(steps=[('scaler', StandardScaler()),\n",
       "                                             ('pca', PCA()),\n",
       "                                             ('ridge', Ridge())]),\n",
       "                   n_iter=30,\n",
       "                   param_distributions={'pca__n_components': [60, 62, 64, 66],\n",
       "                                        'ridge__alpha': <scipy.stats._distn_infrastructure.rv_frozen object at 0x000002526E7DF490>})"
      ]
     },
     "execution_count": 27,
     "metadata": {},
     "output_type": "execute_result"
    }
   ],
   "source": [
    "%%time\n",
    "#We create the Pipeline. First step, Normalize data, include the Polynomimal \n",
    "#(include bias false to remove from the Polynomial for X[0]=1) and then use the Ridge method\n",
    "ridge_pipe = Pipeline([\n",
    "    ('scaler', StandardScaler()),\n",
    "    ('pca', PCA()),\n",
    "    ('ridge', Ridge())\n",
    "])\n",
    "\n",
    "#In a dictionary, Step name _ _ and then parameter name, and then : with the type to do\n",
    "dists = {'ridge__alpha' : uniform(loc=0, scale=200), 'pca__n_components' : [60, 62, 64, 66]}\n",
    "#Cross Validation (CV uses the n parts (1/5) for cv=5, n_inter is the number of models, )\n",
    "ridge_CV = RandomizedSearchCV(ridge_pipe, param_distributions=dists, n_iter=30, cv=5)\n",
    "#Now we train the model\n",
    "ridge_CV.fit(X, y)"
   ]
  },
  {
   "cell_type": "code",
   "execution_count": 28,
   "metadata": {
    "colab": {
     "base_uri": "https://localhost:8080/"
    },
    "id": "8_vzG53FIUgM",
    "outputId": "37151eb5-475e-4a46-8bea-c6d5be60ab25"
   },
   "outputs": [
    {
     "data": {
      "text/plain": [
       "{'pca__n_components': 66, 'ridge__alpha': 194.54291174331303}"
      ]
     },
     "execution_count": 28,
     "metadata": {},
     "output_type": "execute_result"
    }
   ],
   "source": [
    "ridge_CV.best_params_"
   ]
  },
  {
   "cell_type": "code",
   "execution_count": 29,
   "metadata": {
    "colab": {
     "base_uri": "https://localhost:8080/"
    },
    "id": "jjZygbNHIUgM",
    "outputId": "61403290-9ce2-4200-ae37-ff361d4bc969"
   },
   "outputs": [
    {
     "data": {
      "text/plain": [
       "0.2556264870482724"
      ]
     },
     "execution_count": 29,
     "metadata": {},
     "output_type": "execute_result"
    }
   ],
   "source": [
    "ridge_CV.score(X, y)"
   ]
  },
  {
   "cell_type": "code",
   "execution_count": 30,
   "metadata": {
    "colab": {
     "base_uri": "https://localhost:8080/"
    },
    "id": "6b0LEp6HIUgM",
    "outputId": "a0894f6b-ce54-4a99-a6f2-2dc339051454"
   },
   "outputs": [
    {
     "data": {
      "text/plain": [
       "0.2763337663713801"
      ]
     },
     "execution_count": 30,
     "metadata": {},
     "output_type": "execute_result"
    }
   ],
   "source": [
    "ridge_CV.score(X_test, y_test)"
   ]
  },
  {
   "cell_type": "code",
   "execution_count": 31,
   "metadata": {
    "colab": {
     "base_uri": "https://localhost:8080/"
    },
    "id": "25sXOIDSIUgM",
    "outputId": "20494b7f-56ae-4093-bff8-6ab8acb57faa"
   },
   "outputs": [
    {
     "name": "stdout",
     "output_type": "stream",
     "text": [
      "Error absoluto medio (MAE): 2.1514005375839265\n",
      "Error Cuadrático Medio (MSE): 7.391511079729445\n",
      "Raíz del Error Cuadrático Medio (RMSE): 2.718733359439547\n",
      "Coeficiente de determinación R2: 0.2556264870482724\n"
     ]
    }
   ],
   "source": [
    "#Medidas de entrenamiento\n",
    "print('Error absoluto medio (MAE):',mean_absolute_error(ridge_CV.predict(X), y))\n",
    "print('Error Cuadrático Medio (MSE):',mean_squared_error(ridge_CV.predict(X), y))\n",
    "print('Raíz del Error Cuadrático Medio (RMSE):',np.sqrt(mean_squared_error(ridge_CV.predict(X), y)))\n",
    "print('Coeficiente de determinación R2:',r2_score(y,ridge_CV.predict(X)))"
   ]
  },
  {
   "cell_type": "code",
   "execution_count": 32,
   "metadata": {
    "colab": {
     "base_uri": "https://localhost:8080/"
    },
    "id": "cmA5rvUVIUgM",
    "outputId": "a2043b6e-ab7d-4f03-d61e-aa679caeb49e"
   },
   "outputs": [
    {
     "name": "stdout",
     "output_type": "stream",
     "text": [
      "Error absoluto medio (MAE): 2.1631227038269514\n",
      "Error Cuadrático Medio (MSE): 7.208718930126472\n",
      "Raíz del Error Cuadrático Medio (RMSE): 2.684905758146172\n",
      "Coeficiente de determinación R2: 0.2763337663713801\n"
     ]
    }
   ],
   "source": [
    "#Medidas en la prueba\n",
    "print('Error absoluto medio (MAE):',mean_absolute_error(ridge_CV.predict(X_test), y_test))\n",
    "print('Error Cuadrático Medio (MSE):',mean_squared_error(ridge_CV.predict(X_test), y_test))\n",
    "print('Raíz del Error Cuadrático Medio (RMSE):',np.sqrt(mean_squared_error(ridge_CV.predict(X_test), y_test)))\n",
    "print('Coeficiente de determinación R2:',r2_score(y_test,ridge_CV.predict(X_test)))"
   ]
  },
  {
   "cell_type": "markdown",
   "metadata": {
    "id": "LwLesLuvIUgM"
   },
   "source": [
    "## Modelo 4: *PCA + Ridge + Polynomial Features*"
   ]
  },
  {
   "cell_type": "code",
   "execution_count": 33,
   "metadata": {
    "id": "-ytwWZgZIUgN",
    "outputId": "94af10d7-7d9b-44d5-f4fc-28c8443a394c"
   },
   "outputs": [
    {
     "name": "stdout",
     "output_type": "stream",
     "text": [
      "Wall time: 8min 58s\n"
     ]
    },
    {
     "data": {
      "text/plain": [
       "RandomizedSearchCV(cv=5,\n",
       "                   estimator=Pipeline(steps=[('scaler', StandardScaler()),\n",
       "                                             ('poly',\n",
       "                                              PolynomialFeatures(include_bias=False)),\n",
       "                                             ('pca', PCA()),\n",
       "                                             ('ridge', Ridge())]),\n",
       "                   n_iter=30,\n",
       "                   param_distributions={'pca__n_components': [30, 40, 50, 60],\n",
       "                                        'poly__degree': [1, 2],\n",
       "                                        'ridge__alpha': <scipy.stats._distn_infrastructure.rv_frozen object at 0x0000025271CE0100>})"
      ]
     },
     "execution_count": 33,
     "metadata": {},
     "output_type": "execute_result"
    }
   ],
   "source": [
    "%%time\n",
    "#We create the Pipeline. First step, Normalize data, include the Polynomimal \n",
    "#(include bias false to remove from the Polynomial for X[0]=1) and then use the Ridge method\n",
    "ridge_pipe = Pipeline([\n",
    "    ('scaler', StandardScaler()),\n",
    "    ('poly', PolynomialFeatures(include_bias=False)),\n",
    "    ('pca', PCA()),\n",
    "    ('ridge', Ridge())\n",
    "])\n",
    "\n",
    "#In a dictionary, Step name _ _ and then parameter name, and then : with the type to do\n",
    "dists = {'ridge__alpha' : uniform(loc=0, scale=200), 'poly__degree': [1,2], 'pca__n_components' : [30, 40, 50, 60]}\n",
    "#Cross Validation (CV uses the n parts (1/5) for cv=5, n_inter is the number of models, )\n",
    "ridge_CV = RandomizedSearchCV(ridge_pipe, param_distributions=dists, n_iter=30, cv=5)\n",
    "#Now we train the model\n",
    "ridge_CV.fit(X, y)"
   ]
  },
  {
   "cell_type": "code",
   "execution_count": 34,
   "metadata": {
    "id": "BzXmqqdRIUgN",
    "outputId": "56cb68c7-7647-48df-f059-bbec0a7b465d"
   },
   "outputs": [
    {
     "name": "stdout",
     "output_type": "stream",
     "text": [
      "The best Parameters are : {'pca__n_components': 60, 'poly__degree': 1, 'ridge__alpha': 196.27535047048482}\n",
      "The best X,y score is:  0.25488112513872285\n",
      "The best X,y test score is:  0.27601389380117225\n",
      "The MAE X,y is:  2.1528495243624697\n",
      "The MAE test X,y is:  2.1635619060054876\n"
     ]
    }
   ],
   "source": [
    "print(\"The best Parameters are :\", ridge_CV.best_params_)\n",
    "print(\"The best X,y score is: \", ridge_CV.score(X, y))\n",
    "print(\"The best X,y test score is: \", ridge_CV.score(X_test, y_test))\n",
    "print(\"The MAE X,y is: \", mean_absolute_error(ridge_CV.predict(X), y))\n",
    "print(\"The MAE test X,y is: \", mean_absolute_error(ridge_CV.predict(X_test), y_test))"
   ]
  },
  {
   "cell_type": "code",
   "execution_count": 35,
   "metadata": {
    "id": "NUu_0RKtIUgN"
   },
   "outputs": [
    {
     "name": "stdout",
     "output_type": "stream",
     "text": [
      "Error absoluto medio (MAE): 2.1528495243624697\n",
      "Error Cuadrático Medio (MSE): 7.398912405430836\n",
      "Raíz del Error Cuadrático Medio (RMSE): 2.7200941905439295\n",
      "Coeficiente de determinación R2: -1.9409891676088904\n"
     ]
    }
   ],
   "source": [
    "#Medidas de entrenamiento\n",
    "print('Error absoluto medio (MAE):',mean_absolute_error(ridge_CV.predict(X), y))\n",
    "print('Error Cuadrático Medio (MSE):',mean_squared_error(ridge_CV.predict(X), y))\n",
    "print('Raíz del Error Cuadrático Medio (RMSE):',np.sqrt(mean_squared_error(ridge_CV.predict(X), y)))\n",
    "print('Coeficiente de determinación R2:',r2_score(ridge_CV.predict(X), y))"
   ]
  },
  {
   "cell_type": "code",
   "execution_count": 36,
   "metadata": {
    "id": "zvoM4pUCIUgO"
   },
   "outputs": [
    {
     "name": "stdout",
     "output_type": "stream",
     "text": [
      "Error absoluto medio (MAE): 2.1635619060054876\n",
      "Error Cuadrático Medio (MSE): 7.211905304375998\n",
      "Raíz del Error Cuadrático Medio (RMSE): 2.685499079198501\n",
      "Coeficiente de determinación R2: -2.522297792280127\n"
     ]
    }
   ],
   "source": [
    "#Medidas en la prueba\n",
    "print('Error absoluto medio (MAE):',mean_absolute_error(ridge_CV.predict(X_test), y_test))\n",
    "print('Error Cuadrático Medio (MSE):',mean_squared_error(ridge_CV.predict(X_test), y_test))\n",
    "print('Raíz del Error Cuadrático Medio (RMSE):',np.sqrt(mean_squared_error(ridge_CV.predict(X_test), y_test)))\n",
    "print('Coeficiente de determinación R2:',r2_score(ridge_CV.predict(X_test), y_test))"
   ]
  },
  {
   "cell_type": "markdown",
   "metadata": {
    "id": "AMAyrxUcIUgO"
   },
   "source": [
    "## Modelo 5: *Regresión lineal*"
   ]
  },
  {
   "cell_type": "code",
   "execution_count": 37,
   "metadata": {
    "colab": {
     "base_uri": "https://localhost:8080/"
    },
    "id": "5jQhb_hIIUgO",
    "outputId": "e3ed1861-4f69-421a-c8d3-55f21c30117c"
   },
   "outputs": [
    {
     "name": "stdout",
     "output_type": "stream",
     "text": [
      "Wall time: 321 ms\n"
     ]
    },
    {
     "data": {
      "text/plain": [
       "Pipeline(steps=[('scaler', StandardScaler()), ('linear', LinearRegression())])"
      ]
     },
     "execution_count": 37,
     "metadata": {},
     "output_type": "execute_result"
    }
   ],
   "source": [
    "%%time\n",
    "#We create the Pipeline. First step, Normalize data, include the Polynomimal \n",
    "#(include bias false to remove from the Polynomial for X[0]=1) and then use the Ridge method\n",
    "linear_pipe = Pipeline([\n",
    "    ('scaler', StandardScaler()),\n",
    "    ('linear', LinearRegression())\n",
    "])\n",
    "\n",
    "#In a dictionary, Step name _ _ and then parameter name, and then : with the type to do\n",
    "#dists = {'ridge__alpha' : uniform(loc=0, scale=200), 'poly__degree': [1,2], 'pca__n_components' : [30, 40, 50, 60]}\n",
    "#Cross Validation (CV uses the n parts (1/5) for cv=5, n_inter is the number of models, )\n",
    "#Now we train the model\n",
    "linear_pipe.fit(X, y)"
   ]
  },
  {
   "cell_type": "code",
   "execution_count": 38,
   "metadata": {
    "colab": {
     "base_uri": "https://localhost:8080/"
    },
    "id": "mFYPqYKWIUgP",
    "outputId": "6676517a-a076-4278-8d77-645251fd8afb"
   },
   "outputs": [
    {
     "name": "stdout",
     "output_type": "stream",
     "text": [
      "The best X,y score is:  0.2562773006049426\n",
      "The best X,y test score is:  -1.2877764535941084e+18\n",
      "The MAE X,y is:  2.1501943618043127\n",
      "The MAE test X,y is:  30263775.16614799\n"
     ]
    }
   ],
   "source": [
    "print(\"The best X,y score is: \", linear_pipe.score(X, y))\n",
    "print(\"The best X,y test score is: \", linear_pipe.score(X_test, y_test))\n",
    "print(\"The MAE X,y is: \", mean_absolute_error(linear_pipe.predict(X), y))\n",
    "print(\"The MAE test X,y is: \", mean_absolute_error(linear_pipe.predict(X_test), y_test))"
   ]
  },
  {
   "cell_type": "code",
   "execution_count": 39,
   "metadata": {
    "colab": {
     "base_uri": "https://localhost:8080/"
    },
    "id": "PfPZQ2kYIUgP",
    "outputId": "a130bc14-3273-46d6-856f-5fb85adb4674"
   },
   "outputs": [
    {
     "name": "stdout",
     "output_type": "stream",
     "text": [
      "Error absoluto medio (MAE): 2.1501943618043127\n",
      "Error Cuadrático Medio (MSE): 7.385048604196308\n",
      "Raíz del Error Cuadrático Medio (RMSE): 2.7175445910226217\n",
      "Coeficiente de determinación R2: 0.2562773006049426\n"
     ]
    }
   ],
   "source": [
    "#Medidas de entrenamiento\n",
    "print('Error absoluto medio (MAE):',mean_absolute_error(linear_pipe.predict(X), y))\n",
    "print('Error Cuadrático Medio (MSE):',mean_squared_error(linear_pipe.predict(X), y))\n",
    "print('Raíz del Error Cuadrático Medio (RMSE):',np.sqrt(mean_squared_error(linear_pipe.predict(X), y)))\n",
    "print('Coeficiente de determinación R2:',r2_score(y,linear_pipe.predict(X)))"
   ]
  },
  {
   "cell_type": "code",
   "execution_count": 40,
   "metadata": {
    "colab": {
     "base_uri": "https://localhost:8080/"
    },
    "id": "wlPmEv0aIUgP",
    "outputId": "defd50ae-8f9c-487d-9a94-22da9db9399f"
   },
   "outputs": [
    {
     "name": "stdout",
     "output_type": "stream",
     "text": [
      "Error absoluto medio (MAE): 30263775.16614799\n",
      "Error Cuadrático Medio (MSE): 1.282803876622363e+19\n",
      "Raíz del Error Cuadrático Medio (RMSE): 3581625157.135184\n",
      "Coeficiente de determinación R2: -1.2877764535941084e+18\n"
     ]
    }
   ],
   "source": [
    "#Medidas en la prueba\n",
    "print('Error absoluto medio (MAE):',mean_absolute_error(linear_pipe.predict(X_test), y_test))\n",
    "print('Error Cuadrático Medio (MSE):',mean_squared_error(linear_pipe.predict(X_test), y_test))\n",
    "print('Raíz del Error Cuadrático Medio (RMSE):',np.sqrt(mean_squared_error(linear_pipe.predict(X_test), y_test)))\n",
    "print('Coeficiente de determinación R2:',r2_score(y_test,linear_pipe.predict(X_test)))"
   ]
  },
  {
   "cell_type": "markdown",
   "metadata": {
    "id": "RJ2mYQAUIUgP"
   },
   "source": [
    "## Modelo 6: *Support Vector Machines, SVM*"
   ]
  },
  {
   "cell_type": "code",
   "execution_count": 41,
   "metadata": {
    "colab": {
     "base_uri": "https://localhost:8080/"
    },
    "id": "YYMPLOeSIUgQ",
    "outputId": "c6c6cc21-30dd-4c14-b34e-cf67aaf3a407"
   },
   "outputs": [
    {
     "name": "stdout",
     "output_type": "stream",
     "text": [
      "Wall time: 2min 51s\n"
     ]
    },
    {
     "name": "stderr",
     "output_type": "stream",
     "text": [
      "C:\\ProgramData\\Anaconda3\\lib\\site-packages\\sklearn\\svm\\_base.py:976: ConvergenceWarning: Liblinear failed to converge, increase the number of iterations.\n",
      "  warnings.warn(\"Liblinear failed to converge, increase \"\n"
     ]
    },
    {
     "data": {
      "text/plain": [
       "Pipeline(steps=[('scaler', StandardScaler()),\n",
       "                ('svm',\n",
       "                 LinearSVR(C=1000, epsilon=1, max_iter=10000,\n",
       "                           random_state=42))])"
      ]
     },
     "execution_count": 41,
     "metadata": {},
     "output_type": "execute_result"
    }
   ],
   "source": [
    "%%time\n",
    "svm = Pipeline([\n",
    "    ('scaler', StandardScaler()),\n",
    "    ('svm', LinearSVR(C=1000, epsilon=1, max_iter=10000, random_state=42))\n",
    "])\n",
    "\n",
    "svm.fit(X, y)"
   ]
  },
  {
   "cell_type": "code",
   "execution_count": 42,
   "metadata": {
    "id": "nJRHmPpgIUgQ",
    "outputId": "213fb048-e18a-4f26-93d0-a367df90e96f"
   },
   "outputs": [
    {
     "name": "stdout",
     "output_type": "stream",
     "text": [
      "The best X,y score is:  0.03367518705837347\n",
      "The best X,y test score is:  0.14272707474426827\n",
      "The MAE X,y is:  2.2704148752770594\n",
      "The MAE test X,y is:  2.2635366707544993\n"
     ]
    }
   ],
   "source": [
    "print(\"The best X,y score is: \", svm.score(X, y))\n",
    "print(\"The best X,y test score is: \", svm.score(X_test, y_test))\n",
    "print(\"The MAE X,y is: \", mean_absolute_error(svm.predict(X), y))\n",
    "print(\"The MAE test X,y is: \", mean_absolute_error(svm.predict(X_test), y_test))"
   ]
  },
  {
   "cell_type": "code",
   "execution_count": 43,
   "metadata": {
    "id": "KPNzzVxAIUgQ"
   },
   "outputs": [
    {
     "name": "stdout",
     "output_type": "stream",
     "text": [
      "Error absoluto medio (MAE): 2.2704148752770594\n",
      "Error Cuadrático Medio (MSE): 9.595452332999269\n",
      "Raíz del Error Cuadrático Medio (RMSE): 3.0976527134266147\n",
      "Coeficiente de determinación R2: 0.03367518705837347\n"
     ]
    }
   ],
   "source": [
    "#Medidas de entrenamiento\n",
    "print('Error absoluto medio (MAE):',mean_absolute_error(svm.predict(X), y))\n",
    "print('Error Cuadrático Medio (MSE):',mean_squared_error(svm.predict(X), y))\n",
    "print('Raíz del Error Cuadrático Medio (RMSE):',np.sqrt(mean_squared_error(svm.predict(X), y)))\n",
    "print('Coeficiente de determinación R2:',r2_score(y,svm.predict(X)))"
   ]
  },
  {
   "cell_type": "code",
   "execution_count": 44,
   "metadata": {
    "id": "KfoX9t2EIUgQ"
   },
   "outputs": [
    {
     "name": "stdout",
     "output_type": "stream",
     "text": [
      "Error absoluto medio (MAE): 2.2635366707544993\n",
      "Error Cuadrático Medio (MSE): 8.539626802246707\n",
      "Raíz del Error Cuadrático Medio (RMSE): 2.922263985721808\n",
      "Coeficiente de determinación R2: 0.14272707474426827\n"
     ]
    }
   ],
   "source": [
    "#Medidas en la prueba\n",
    "print('Error absoluto medio (MAE):',mean_absolute_error(svm.predict(X_test), y_test))\n",
    "print('Error Cuadrático Medio (MSE):',mean_squared_error(svm.predict(X_test), y_test))\n",
    "print('Raíz del Error Cuadrático Medio (RMSE):',np.sqrt(mean_squared_error(svm.predict(X_test), y_test)))\n",
    "print('Coeficiente de determinación R2:',r2_score(y_test,svm.predict(X_test)))"
   ]
  },
  {
   "cell_type": "markdown",
   "metadata": {
    "id": "zo3yrilwIUgQ"
   },
   "source": [
    "## Modelo 7: *Support Vector Machines, SVM con RBF Kernel*"
   ]
  },
  {
   "cell_type": "code",
   "execution_count": 45,
   "metadata": {
    "id": "fTNkIb5gIUgR",
    "outputId": "630b14e7-f02b-42d2-9177-28d6c4c975ef"
   },
   "outputs": [
    {
     "name": "stdout",
     "output_type": "stream",
     "text": [
      "Wall time: 22min 37s\n"
     ]
    },
    {
     "data": {
      "text/plain": [
       "Pipeline(steps=[('scaler', StandardScaler()),\n",
       "                ('svm', SVR(C=1000, epsilon=0.5))])"
      ]
     },
     "execution_count": 45,
     "metadata": {},
     "output_type": "execute_result"
    }
   ],
   "source": [
    "%%time\n",
    "svm = Pipeline([\n",
    "    ('scaler', StandardScaler()),\n",
    "    ('svm', SVR(kernel='rbf', C=1000, epsilon=0.5))\n",
    "])\n",
    "\n",
    "svm.fit(X, y)"
   ]
  },
  {
   "cell_type": "code",
   "execution_count": 46,
   "metadata": {
    "id": "0GxN7a4FIUgR",
    "outputId": "9aaefd39-0927-498e-c045-4091a3264d64"
   },
   "outputs": [
    {
     "name": "stdout",
     "output_type": "stream",
     "text": [
      "The best X,y score is:  0.48239334737287676\n",
      "The best X,y test score is:  0.4509594337442103\n",
      "The MAE X,y is:  1.7598939589719105\n",
      "The MAE test X,y is:  1.825131240668002\n"
     ]
    }
   ],
   "source": [
    "print(\"The best X,y score is: \", svm.score(X, y))\n",
    "print(\"The best X,y test score is: \", svm.score(X_test, y_test))\n",
    "print(\"The MAE X,y is: \", mean_absolute_error(svm.predict(X), y))\n",
    "print(\"The MAE test X,y is: \", mean_absolute_error(svm.predict(X_test), y_test))"
   ]
  },
  {
   "cell_type": "code",
   "execution_count": 47,
   "metadata": {
    "id": "VglcZNL9IUgR"
   },
   "outputs": [
    {
     "name": "stdout",
     "output_type": "stream",
     "text": [
      "Error absoluto medio (MAE): 1.7598939589719105\n",
      "Error Cuadrático Medio (MSE): 5.139752075089163\n",
      "Raíz del Error Cuadrático Medio (RMSE): 2.2671021315964492\n",
      "Coeficiente de determinación R2: 0.48239334737287676\n"
     ]
    }
   ],
   "source": [
    "#Medidas de entrenamiento\n",
    "print('Error absoluto medio (MAE):',mean_absolute_error(svm.predict(X), y))\n",
    "print('Error Cuadrático Medio (MSE):',mean_squared_error(svm.predict(X), y))\n",
    "print('Raíz del Error Cuadrático Medio (RMSE):',np.sqrt(mean_squared_error(svm.predict(X), y)))\n",
    "print('Coeficiente de determinación R2:',r2_score(y,svm.predict(X)))"
   ]
  },
  {
   "cell_type": "code",
   "execution_count": 48,
   "metadata": {
    "id": "Ly5I3ywZIUgR"
   },
   "outputs": [
    {
     "name": "stdout",
     "output_type": "stream",
     "text": [
      "Error absoluto medio (MAE): 1.825131240668002\n",
      "Error Cuadrático Medio (MSE): 5.469205193573564\n",
      "Raíz del Error Cuadrático Medio (RMSE): 2.3386331891884122\n",
      "Coeficiente de determinación R2: 0.4509594337442103\n"
     ]
    }
   ],
   "source": [
    "#Medidas en la prueba\n",
    "print('Error absoluto medio (MAE):',mean_absolute_error(svm.predict(X_test), y_test))\n",
    "print('Error Cuadrático Medio (MSE):',mean_squared_error(svm.predict(X_test), y_test))\n",
    "print('Raíz del Error Cuadrático Medio (RMSE):',np.sqrt(mean_squared_error(svm.predict(X_test), y_test)))\n",
    "print('Coeficiente de determinación R2:',r2_score(y_test,svm.predict(X_test)))"
   ]
  },
  {
   "cell_type": "markdown",
   "metadata": {
    "id": "PNtlqMchIUgR"
   },
   "source": [
    "## Modelo 7: *Naïve Bayes*"
   ]
  },
  {
   "cell_type": "code",
   "execution_count": 49,
   "metadata": {
    "colab": {
     "base_uri": "https://localhost:8080/"
    },
    "id": "AD6IRUqHIUgS",
    "outputId": "8ea8b911-c443-4818-9424-0e0ed55e5247"
   },
   "outputs": [
    {
     "name": "stdout",
     "output_type": "stream",
     "text": [
      "Wall time: 150 ms\n"
     ]
    },
    {
     "data": {
      "text/plain": [
       "Pipeline(steps=[('scaler', MinMaxScaler()), ('gnb', GaussianNB())])"
      ]
     },
     "execution_count": 49,
     "metadata": {},
     "output_type": "execute_result"
    }
   ],
   "source": [
    "%%time\n",
    "#We create the Pipeline. First step, Normalize data, include the Polynomimal \n",
    "#(include bias false to remove from the Polynomial for X[0]=1) and then use the Ridge method\n",
    "gnb_pipe = Pipeline([\n",
    "    ('scaler', MinMaxScaler()),\n",
    "    ('gnb', GaussianNB())\n",
    "])\n",
    "\n",
    "#In a dictionary, Step name _ _ and then parameter name, and then : with the type to do\n",
    "#dists = {'gnb__alpha' : uniform(loc=0, scale=200)}\n",
    "#Cross Validation (CV uses the n parts (1/5) for cv=5, n_inter is the number of models, )\n",
    "#ridge_CV = RandomizedSearchCV(ridge_pipe, param_distributions=dists, n_iter=30, cv=5)\n",
    "#Now we train the model\n",
    "gnb_pipe.fit(X, y)"
   ]
  },
  {
   "cell_type": "code",
   "execution_count": 50,
   "metadata": {
    "colab": {
     "base_uri": "https://localhost:8080/"
    },
    "id": "ebZROlKSIUgS",
    "outputId": "fae7ac54-448d-4c80-aabc-6b715cadadb4"
   },
   "outputs": [
    {
     "name": "stdout",
     "output_type": "stream",
     "text": [
      "The best X,y score is:  0.006657860916749964\n",
      "The best X,y test score is:  0.005997429672997287\n",
      "The MAE X,y is:  10.130515493359988\n",
      "The MAE test X,y is:  10.173639868627731\n"
     ]
    }
   ],
   "source": [
    "print(\"The best X,y score is: \", gnb_pipe.score(X, y))\n",
    "print(\"The best X,y test score is: \", gnb_pipe.score(X_test, y_test))\n",
    "print(\"The MAE X,y is: \", mean_absolute_error(gnb_pipe.predict(X), y))\n",
    "print(\"The MAE test X,y is: \", mean_absolute_error(y_test,gnb_pipe.predict(X_test)))"
   ]
  },
  {
   "cell_type": "code",
   "execution_count": 51,
   "metadata": {
    "colab": {
     "base_uri": "https://localhost:8080/"
    },
    "id": "q5GccXvOIUgS",
    "outputId": "15b89b32-6686-42da-efc8-917650deb4ec"
   },
   "outputs": [
    {
     "name": "stdout",
     "output_type": "stream",
     "text": [
      "Error absoluto medio (MAE): 10.130515493359988\n",
      "Error Cuadrático Medio (MSE): 116.98725546194488\n",
      "Raíz del Error Cuadrático Medio (RMSE): 10.816064693868324\n",
      "Coeficiente de determinación R2: -10.78138182835229\n"
     ]
    }
   ],
   "source": [
    "#Medidas de entrenamiento\n",
    "print('Error absoluto medio (MAE):',mean_absolute_error(gnb_pipe.predict(X), y))\n",
    "print('Error Cuadrático Medio (MSE):',mean_squared_error(gnb_pipe.predict(X), y))\n",
    "print('Raíz del Error Cuadrático Medio (RMSE):',np.sqrt(mean_squared_error(gnb_pipe.predict(X), y)))\n",
    "print('Coeficiente de determinación R2:',r2_score(y,gnb_pipe.predict(X)))"
   ]
  },
  {
   "cell_type": "code",
   "execution_count": 52,
   "metadata": {
    "colab": {
     "base_uri": "https://localhost:8080/"
    },
    "id": "mCqS90KVIUgS",
    "outputId": "2225da62-866a-459d-8ff2-e59b89c52470"
   },
   "outputs": [
    {
     "name": "stdout",
     "output_type": "stream",
     "text": [
      "Error absoluto medio (MAE): 10.173639868627731\n",
      "Error Cuadrático Medio (MSE): 117.79251749250321\n",
      "Raíz del Error Cuadrático Medio (RMSE): 10.853226132929471\n",
      "Coeficiente de determinación R2: -10.824912069631436\n"
     ]
    }
   ],
   "source": [
    "#Medidas en la prueba\n",
    "print('Error absoluto medio (MAE):',mean_absolute_error(gnb_pipe.predict(X_test), y_test))\n",
    "print('Error Cuadrático Medio (MSE):',mean_squared_error(gnb_pipe.predict(X_test), y_test))\n",
    "print('Raíz del Error Cuadrático Medio (RMSE):',np.sqrt(mean_squared_error(gnb_pipe.predict(X_test), y_test)))\n",
    "print('Coeficiente de determinación R2:',r2_score(y_test,gnb_pipe.predict(X_test)))"
   ]
  },
  {
   "cell_type": "markdown",
   "metadata": {
    "id": "NIqj6TDKIUgS"
   },
   "source": [
    "## Modelo 8: *Support Vector Machines, SVM con RandomizedSearch*"
   ]
  },
  {
   "cell_type": "code",
   "execution_count": 53,
   "metadata": {
    "id": "2zMaMb4IIUgT",
    "outputId": "73f5549c-dc76-4bfc-9389-2cc09da92103"
   },
   "outputs": [
    {
     "name": "stdout",
     "output_type": "stream",
     "text": [
      "Wall time: 6h 39min 54s\n"
     ]
    },
    {
     "data": {
      "text/plain": [
       "RandomizedSearchCV(cv=5,\n",
       "                   estimator=Pipeline(steps=[('scaler', StandardScaler()),\n",
       "                                             ('svm',\n",
       "                                              SVR(C=1000, epsilon=0.5))]),\n",
       "                   n_iter=3,\n",
       "                   param_distributions={'svm__C': [1000, 3000, 5000],\n",
       "                                        'svm__epsilon': [0.001, 0.1, 1]})"
      ]
     },
     "execution_count": 53,
     "metadata": {},
     "output_type": "execute_result"
    }
   ],
   "source": [
    "%%time\n",
    "#We create the Pipeline. First step, Normalize data, include the Polynomimal \n",
    "#(include bias false to remove from the Polynomial for X[0]=1) and then use the Ridge method\n",
    "svr_pipe = Pipeline([\n",
    "    ('scaler', StandardScaler()),\n",
    "    ('svm', SVR(C=1000, epsilon=0.5))\n",
    "])\n",
    "\n",
    "#In a dictionary, Step name _ _ and then parameter name, and then : with the type to do\n",
    "dists = {'svm__C' : [1000, 3000, 5000], 'svm__epsilon': [0.001, 0.1, 1]}\n",
    "#Cross Validation (CV uses the n parts (1/5) for cv=5, n_inter is the number of models, )\n",
    "svr_CV = RandomizedSearchCV(svr_pipe, param_distributions=dists, n_iter=3, cv=5)\n",
    "#Now we train the model\n",
    "svr_CV.fit(X, y)"
   ]
  },
  {
   "cell_type": "code",
   "execution_count": 54,
   "metadata": {
    "id": "9iYoZI9zIUgT",
    "outputId": "ace1281a-1bf8-454c-ceb2-37a0defbda9e"
   },
   "outputs": [
    {
     "name": "stdout",
     "output_type": "stream",
     "text": [
      "The best Parameters are : {'svm__epsilon': 1, 'svm__C': 3000}\n",
      "The best X,y score is:  0.4892262046029604\n",
      "The best X,y test score is:  0.4533705691135935\n",
      "The MAE X,y is:  1.7562167644751827\n",
      "The MAE test X,y is:  1.822215663862444\n"
     ]
    }
   ],
   "source": [
    "print(\"The best Parameters are :\", svr_CV.best_params_)\n",
    "print(\"The best X,y score is: \", svr_CV.score(X, y))\n",
    "print(\"The best X,y test score is: \", svr_CV.score(X_test, y_test))\n",
    "print(\"The MAE X,y is: \", mean_absolute_error(svr_CV.predict(X), y))\n",
    "print(\"The MAE test X,y is: \", mean_absolute_error(svr_CV.predict(X_test), y_test))"
   ]
  },
  {
   "cell_type": "code",
   "execution_count": 55,
   "metadata": {
    "id": "nHwtYhKrIUgT"
   },
   "outputs": [
    {
     "name": "stdout",
     "output_type": "stream",
     "text": [
      "Error absoluto medio (MAE): 1.7562167644751827\n",
      "Error Cuadrático Medio (MSE): 5.071902885074192\n",
      "Raíz del Error Cuadrático Medio (RMSE): 2.252088560664121\n",
      "Coeficiente de determinación R2: 0.48239334737287676\n"
     ]
    }
   ],
   "source": [
    "#Medidas de entrenamiento\n",
    "print('Error absoluto medio (MAE):',mean_absolute_error(svr_CV.predict(X), y))\n",
    "print('Error Cuadrático Medio (MSE):',mean_squared_error(svr_CV.predict(X), y))\n",
    "print('Raíz del Error Cuadrático Medio (RMSE):',np.sqrt(mean_squared_error(svr_CV.predict(X), y)))\n",
    "print('Coeficiente de determinación R2:',r2_score(y,svm.predict(X)))"
   ]
  },
  {
   "cell_type": "code",
   "execution_count": 56,
   "metadata": {
    "id": "EP-nujUGIUgU"
   },
   "outputs": [
    {
     "name": "stdout",
     "output_type": "stream",
     "text": [
      "Error absoluto medio (MAE): 1.822215663862444\n",
      "Error Cuadrático Medio (MSE): 5.445186942655296\n",
      "Raíz del Error Cuadrático Medio (RMSE): 2.333492434668537\n",
      "Coeficiente de determinación R2: 0.4533705691135935\n"
     ]
    }
   ],
   "source": [
    "#Medidas en la prueba\n",
    "print('Error absoluto medio (MAE):',mean_absolute_error(svr_CV.predict(X_test), y_test))\n",
    "print('Error Cuadrático Medio (MSE):',mean_squared_error(svr_CV.predict(X_test), y_test))\n",
    "print('Raíz del Error Cuadrático Medio (RMSE):',np.sqrt(mean_squared_error(svr_CV.predict(X_test), y_test)))\n",
    "print('Coeficiente de determinación R2:',r2_score(y_test,svr_CV.predict(X_test)))"
   ]
  },
  {
   "cell_type": "markdown",
   "metadata": {
    "id": "LB9B9tI_gRsw"
   },
   "source": [
    "## Modelo 9: *Random Forest*"
   ]
  },
  {
   "cell_type": "markdown",
   "metadata": {
    "id": "RHGyXyie3XVX"
   },
   "source": [
    "**Se utiliza un cross validation para encontrar los mejores hiperparámetros para la función RandomForestRegresor**"
   ]
  },
  {
   "cell_type": "code",
   "execution_count": 57,
   "metadata": {
    "colab": {
     "base_uri": "https://localhost:8080/"
    },
    "id": "FlVUAohhgGJ9",
    "outputId": "0fabe73f-560d-407a-c734-87ab61bee168"
   },
   "outputs": [
    {
     "name": "stdout",
     "output_type": "stream",
     "text": [
      "Wall time: 52min 45s\n"
     ]
    },
    {
     "data": {
      "text/plain": [
       "GridSearchCV(estimator=RandomForestRegressor(random_state=123),\n",
       "             param_grid={'max_depth': [None, 1, 3, 10, 20],\n",
       "                         'min_samples_leaf': [2, 3, 5],\n",
       "                         'n_estimators': [50, 100, 150]})"
      ]
     },
     "execution_count": 57,
     "metadata": {},
     "output_type": "execute_result"
    }
   ],
   "source": [
    "%%time\n",
    "param_grid = {'n_estimators': [50,100,150],\n",
    "              'min_samples_leaf': [2, 3, 5],\n",
    "              'max_depth'   : [None,1, 3, 10, 20]\n",
    "             }\n",
    "grid = GridSearchCV(\n",
    "        estimator  = RandomForestRegressor(random_state = 123),\n",
    "        param_grid = param_grid,\n",
    "       )\n",
    "\n",
    "grid.fit(X = X, y = y)"
   ]
  },
  {
   "cell_type": "code",
   "execution_count": 58,
   "metadata": {
    "colab": {
     "base_uri": "https://localhost:8080/"
    },
    "id": "JF8X3Fk-gZWI",
    "outputId": "c5f30b32-17f2-46fa-dc63-dbdcd11da949"
   },
   "outputs": [
    {
     "name": "stdout",
     "output_type": "stream",
     "text": [
      "Mejores hiperparámetros encontrados (cv)\n",
      "{'max_depth': 10, 'min_samples_leaf': 2, 'n_estimators': 150} : 0.46055530868663 None\n"
     ]
    }
   ],
   "source": [
    "print(\"Mejores hiperparámetros encontrados (cv)\")\n",
    "print(grid.best_params_, \":\", grid.best_score_, grid.scoring)"
   ]
  },
  {
   "cell_type": "code",
   "execution_count": 59,
   "metadata": {
    "colab": {
     "base_uri": "https://localhost:8080/"
    },
    "id": "ZOBtpJwZgcsn",
    "outputId": "7da8637a-50c7-459b-d2ca-9b20680e641d"
   },
   "outputs": [
    {
     "name": "stdout",
     "output_type": "stream",
     "text": [
      "Error absoluto medio (MAE): 1.7409488831046758\n",
      "Error Cuadrático Medio (MSE): 4.870506568666651\n",
      "Raíz del Error Cuadrático Medio (RMSE): 2.206922420173997\n",
      "Coeficiente de determinación R2: 0.5095081309807676\n"
     ]
    }
   ],
   "source": [
    "#Medidas de entrenamiento\n",
    "print('Error absoluto medio (MAE):',mean_absolute_error(grid.predict(X), y))\n",
    "print('Error Cuadrático Medio (MSE):',mean_squared_error(grid.predict(X), y))\n",
    "print('Raíz del Error Cuadrático Medio (RMSE):',np.sqrt(mean_squared_error(grid.predict(X), y)))\n",
    "print('Coeficiente de determinación R2:',r2_score(y,grid.predict(X)))"
   ]
  },
  {
   "cell_type": "code",
   "execution_count": 60,
   "metadata": {
    "colab": {
     "base_uri": "https://localhost:8080/"
    },
    "id": "-pwJu7j7ggYp",
    "outputId": "4ac0e0a7-ed44-47c2-ee6c-5157d753c3fa"
   },
   "outputs": [
    {
     "name": "stdout",
     "output_type": "stream",
     "text": [
      "Error absoluto medio (MAE): 1.824030968341125\n",
      "Error Cuadrático Medio (MSE): 5.355657435106631\n",
      "Raíz del Error Cuadrático Medio (RMSE): 2.314229339349631\n",
      "Coeficiente de determinación R2: 0.4623582245006834\n"
     ]
    }
   ],
   "source": [
    "#Medidas en la prueba\n",
    "print('Error absoluto medio (MAE):',mean_absolute_error(grid.predict(X_test), y_test))\n",
    "print('Error Cuadrático Medio (MSE):',mean_squared_error(grid.predict(X_test), y_test))\n",
    "print('Raíz del Error Cuadrático Medio (RMSE):',np.sqrt(mean_squared_error(grid.predict(X_test), y_test)))\n",
    "print('Coeficiente de determinación R2:',r2_score(y_test,grid.predict(X_test)))"
   ]
  },
  {
   "cell_type": "markdown",
   "metadata": {
    "id": "qekmQlu335F2"
   },
   "source": [
    "**Se entrena upor segunda vez acotando los resultados para encontrar los mejores hiperparámetros para la función RandomForestRegresor** "
   ]
  },
  {
   "cell_type": "code",
   "execution_count": 61,
   "metadata": {},
   "outputs": [
    {
     "data": {
      "text/plain": [
       "GridSearchCV(estimator=RandomForestRegressor(random_state=123),\n",
       "             param_grid={'max_depth': [10, 11, 13],\n",
       "                         'min_samples_leaf': [1, 3, 5, 7],\n",
       "                         'n_estimators': [150, 200]})"
      ]
     },
     "execution_count": 61,
     "metadata": {},
     "output_type": "execute_result"
    }
   ],
   "source": [
    "param_grid = {'n_estimators': [150,200],\n",
    "              'min_samples_leaf': [1,3,5,7],\n",
    "              'max_depth'   : [10,11,13]\n",
    "             }\n",
    "grid2 = GridSearchCV(\n",
    "        estimator  = RandomForestRegressor(random_state = 123),\n",
    "        param_grid = param_grid,\n",
    "       )\n",
    "\n",
    "grid2.fit(X = X, y = y)"
   ]
  },
  {
   "cell_type": "code",
   "execution_count": 62,
   "metadata": {},
   "outputs": [
    {
     "name": "stdout",
     "output_type": "stream",
     "text": [
      "Mejores hiperparámetros encontrados (cv)\n",
      "{'max_depth': 13, 'min_samples_leaf': 3, 'n_estimators': 200} : 0.4656596774864118 None\n"
     ]
    }
   ],
   "source": [
    "print(\"Mejores hiperparámetros encontrados (cv)\")\n",
    "print(grid2.best_params_, \":\", grid2.best_score_, grid2.scoring)"
   ]
  },
  {
   "cell_type": "code",
   "execution_count": 63,
   "metadata": {
    "id": "bFv1-3gSRDMH"
   },
   "outputs": [
    {
     "name": "stdout",
     "output_type": "stream",
     "text": [
      "Error absoluto medio (MAE): 1.6244253573836287\n",
      "Error Cuadrático Medio (MSE): 4.295151347269928\n",
      "Raíz del Error Cuadrático Medio (RMSE): 2.072474691587313\n",
      "Coeficiente de determinación R2: 0.5674501651232469\n"
     ]
    }
   ],
   "source": [
    "#Medidas de entrenamiento\n",
    "print('Error absoluto medio (MAE):',mean_absolute_error(grid2.predict(X), y))\n",
    "print('Error Cuadrático Medio (MSE):',mean_squared_error(grid2.predict(X), y))\n",
    "print('Raíz del Error Cuadrático Medio (RMSE):',np.sqrt(mean_squared_error(grid2.predict(X), y)))\n",
    "print('Coeficiente de determinación R2:',r2_score(y,grid2.predict(X)))"
   ]
  },
  {
   "cell_type": "code",
   "execution_count": 64,
   "metadata": {
    "id": "pvKC7istRLM5"
   },
   "outputs": [
    {
     "name": "stdout",
     "output_type": "stream",
     "text": [
      "Error absoluto medio (MAE): 1.7980386676980966\n",
      "Error Cuadrático Medio (MSE): 5.244478817465031\n",
      "Raíz del Error Cuadrático Medio (RMSE): 2.2900827097432597\n",
      "Coeficiente de determinación R2: 0.4735191828163826\n"
     ]
    }
   ],
   "source": [
    "#Medidas en la prueba\n",
    "print('Error absoluto medio (MAE):',mean_absolute_error(grid2.predict(X_test), y_test))\n",
    "print('Error Cuadrático Medio (MSE):',mean_squared_error(grid2.predict(X_test), y_test))\n",
    "print('Raíz del Error Cuadrático Medio (RMSE):',np.sqrt(mean_squared_error(grid2.predict(X_test), y_test)))\n",
    "print('Coeficiente de determinación R2:',r2_score(y_test,grid2.predict(X_test)))"
   ]
  },
  {
   "cell_type": "markdown",
   "metadata": {},
   "source": [
    "## Modelo 10: *Gradient Boosting*"
   ]
  },
  {
   "cell_type": "code",
   "execution_count": 65,
   "metadata": {},
   "outputs": [
    {
     "name": "stdout",
     "output_type": "stream",
     "text": [
      "Wall time: 2h 41min 23s\n"
     ]
    },
    {
     "data": {
      "text/plain": [
       "GridSearchCV(cv=5, estimator=GradientBoostingRegressor(random_state=42),\n",
       "             param_grid={'max_depth': [2, 4, 6, 8, 10],\n",
       "                         'min_samples_leaf': [2, 3, 4],\n",
       "                         'n_estimators': [100, 200, 300, 350]})"
      ]
     },
     "execution_count": 65,
     "metadata": {},
     "output_type": "execute_result"
    }
   ],
   "source": [
    "%%time\n",
    "\n",
    "grad_est = GradientBoostingRegressor(random_state= 42)\n",
    "\n",
    "params = {'n_estimators': [100, 200, 300, 350],\n",
    "          'max_depth': [2, 4, 6, 8, 10],\n",
    "          'min_samples_leaf': [2, 3, 4],\n",
    "          }\n",
    "\n",
    "grad_model = GridSearchCV(grad_est, param_grid = params, cv= 5)\n",
    "\n",
    "grad_model.fit(X,y)"
   ]
  },
  {
   "cell_type": "code",
   "execution_count": 66,
   "metadata": {},
   "outputs": [
    {
     "name": "stdout",
     "output_type": "stream",
     "text": [
      "The mean squared error (MSE) on test set: 5.1326\n"
     ]
    }
   ],
   "source": [
    "mse = mean_squared_error(y_test, grad_model.predict(X_test))\n",
    "print(\"The mean squared error (MSE) on test set: {:.4f}\".format(mse))"
   ]
  },
  {
   "cell_type": "code",
   "execution_count": 67,
   "metadata": {},
   "outputs": [
    {
     "name": "stdout",
     "output_type": "stream",
     "text": [
      "Mejores hiperparámetros encontrados (cv)\n",
      "{'max_depth': 6, 'min_samples_leaf': 4, 'n_estimators': 350} : 0.48116458120665034 None\n"
     ]
    }
   ],
   "source": [
    "print(\"Mejores hiperparámetros encontrados (cv)\")\n",
    "print(grad_model.best_params_, \":\", grad_model.best_score_, grad_model.scoring)"
   ]
  },
  {
   "cell_type": "code",
   "execution_count": 68,
   "metadata": {},
   "outputs": [
    {
     "name": "stdout",
     "output_type": "stream",
     "text": [
      "Error absoluto medio (MAE): 1.6244253573836287\n",
      "Error Cuadrático Medio (MSE): 4.295151347269928\n",
      "Raíz del Error Cuadrático Medio (RMSE): 2.072474691587313\n",
      "Coeficiente de determinación R2: 0.5674501651232469\n"
     ]
    }
   ],
   "source": [
    "#Medidas de entrenamiento\n",
    "print('Error absoluto medio (MAE):',mean_absolute_error(grid2.predict(X), y))\n",
    "print('Error Cuadrático Medio (MSE):',mean_squared_error(grid2.predict(X), y))\n",
    "print('Raíz del Error Cuadrático Medio (RMSE):',np.sqrt(mean_squared_error(grid2.predict(X), y)))\n",
    "print('Coeficiente de determinación R2:',r2_score(y,grid2.predict(X)))"
   ]
  },
  {
   "cell_type": "code",
   "execution_count": 69,
   "metadata": {},
   "outputs": [
    {
     "name": "stdout",
     "output_type": "stream",
     "text": [
      "Error absoluto medio (MAE): 1.7980386676980966\n",
      "Error Cuadrático Medio (MSE): 5.244478817465031\n",
      "Raíz del Error Cuadrático Medio (RMSE): 2.2900827097432597\n",
      "Coeficiente de determinación R2: 0.4735191828163826\n"
     ]
    }
   ],
   "source": [
    "#Medidas en la prueba\n",
    "print('Error absoluto medio (MAE):',mean_absolute_error(grid2.predict(X_test), y_test))\n",
    "print('Error Cuadrático Medio (MSE):',mean_squared_error(grid2.predict(X_test), y_test))\n",
    "print('Raíz del Error Cuadrático Medio (RMSE):',np.sqrt(mean_squared_error(grid2.predict(X_test), y_test)))\n",
    "print('Coeficiente de determinación R2:',r2_score(y_test,grid2.predict(X_test)))"
   ]
  },
  {
   "cell_type": "code",
   "execution_count": 73,
   "metadata": {},
   "outputs": [],
   "source": [
    "def plot_feature_importances(clf, X_train, y_train=None, top_n=10, figsize=(8,8), print_table=False, title=\"Feature Importances\"):\n",
    "    clf.fit(X_train, y_train)\n",
    "    feat_imp = pd.DataFrame({'importance': clf.feature_importances})    \n",
    "    feat_imp['feature'] = X_train.columns\n",
    "    feat_imp.sort_values(by='importance', ascending=False, inplace=True)\n",
    "    feat_imp = feat_imp.iloc[:top_n]\n",
    "    \n",
    "    feat_imp.sort_values(by='importance', inplace=True)\n",
    "    feat_imp = feat_imp.set_index('feature', drop=True)\n",
    "    feat_imp.plot.barh(title=title, figsize=figsize)\n",
    "    plt.xlabel('Feature Importance Score')\n",
    "    plt.show()\n",
    "    \n",
    "    if print_table:\n",
    "        from IPython.display import display\n",
    "        print(\"Top {} features in descending order of importance\".format(top_n))\n",
    "        display(feat_imp.sort_values(by='importance', ascending=False))\n",
    "        \n",
    "    return feat_imp"
   ]
  },
  {
   "cell_type": "code",
   "execution_count": null,
   "metadata": {},
   "outputs": [],
   "source": [
    "plot_feature_importances(grad_model, X, y, title = 'Gradient Boosting')"
   ]
  },
  {
   "cell_type": "code",
   "execution_count": null,
   "metadata": {},
   "outputs": [],
   "source": [
    "plot_feature_importances(grid2, X_train, y_train, title = 'Gradient Boosting')"
   ]
  },
  {
   "cell_type": "code",
   "execution_count": null,
   "metadata": {},
   "outputs": [],
   "source": []
  }
 ],
 "metadata": {
  "colab": {
   "collapsed_sections": [],
   "name": "ML_winereviews.ipynb",
   "provenance": []
  },
  "kernelspec": {
   "display_name": "Python 3",
   "language": "python",
   "name": "python3"
  },
  "language_info": {
   "codemirror_mode": {
    "name": "ipython",
    "version": 3
   },
   "file_extension": ".py",
   "mimetype": "text/x-python",
   "name": "python",
   "nbconvert_exporter": "python",
   "pygments_lexer": "ipython3",
   "version": "3.8.5"
  }
 },
 "nbformat": 4,
 "nbformat_minor": 1
}
