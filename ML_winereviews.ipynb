{
  "nbformat": 4,
  "nbformat_minor": 0,
  "metadata": {
    "kernelspec": {
      "display_name": "Python 3",
      "language": "python",
      "name": "python3"
    },
    "language_info": {
      "codemirror_mode": {
        "name": "ipython",
        "version": 3
      },
      "file_extension": ".py",
      "mimetype": "text/x-python",
      "name": "python",
      "nbconvert_exporter": "python",
      "pygments_lexer": "ipython3",
      "version": "3.8.5"
    },
    "colab": {
      "name": "ML_winereviews.ipynb",
      "provenance": [],
      "collapsed_sections": []
    }
  },
  "cells": [
    {
      "cell_type": "markdown",
      "metadata": {
        "id": "S-X6oiYjIUf6"
      },
      "source": [
        "# Modelos"
      ]
    },
    {
      "cell_type": "code",
      "metadata": {
        "colab": {
          "resources": {
            "http://localhost:8080/nbextensions/google.colab/files.js": {
              "data": "Ly8gQ29weXJpZ2h0IDIwMTcgR29vZ2xlIExMQwovLwovLyBMaWNlbnNlZCB1bmRlciB0aGUgQXBhY2hlIExpY2Vuc2UsIFZlcnNpb24gMi4wICh0aGUgIkxpY2Vuc2UiKTsKLy8geW91IG1heSBub3QgdXNlIHRoaXMgZmlsZSBleGNlcHQgaW4gY29tcGxpYW5jZSB3aXRoIHRoZSBMaWNlbnNlLgovLyBZb3UgbWF5IG9idGFpbiBhIGNvcHkgb2YgdGhlIExpY2Vuc2UgYXQKLy8KLy8gICAgICBodHRwOi8vd3d3LmFwYWNoZS5vcmcvbGljZW5zZXMvTElDRU5TRS0yLjAKLy8KLy8gVW5sZXNzIHJlcXVpcmVkIGJ5IGFwcGxpY2FibGUgbGF3IG9yIGFncmVlZCB0byBpbiB3cml0aW5nLCBzb2Z0d2FyZQovLyBkaXN0cmlidXRlZCB1bmRlciB0aGUgTGljZW5zZSBpcyBkaXN0cmlidXRlZCBvbiBhbiAiQVMgSVMiIEJBU0lTLAovLyBXSVRIT1VUIFdBUlJBTlRJRVMgT1IgQ09ORElUSU9OUyBPRiBBTlkgS0lORCwgZWl0aGVyIGV4cHJlc3Mgb3IgaW1wbGllZC4KLy8gU2VlIHRoZSBMaWNlbnNlIGZvciB0aGUgc3BlY2lmaWMgbGFuZ3VhZ2UgZ292ZXJuaW5nIHBlcm1pc3Npb25zIGFuZAovLyBsaW1pdGF0aW9ucyB1bmRlciB0aGUgTGljZW5zZS4KCi8qKgogKiBAZmlsZW92ZXJ2aWV3IEhlbHBlcnMgZm9yIGdvb2dsZS5jb2xhYiBQeXRob24gbW9kdWxlLgogKi8KKGZ1bmN0aW9uKHNjb3BlKSB7CmZ1bmN0aW9uIHNwYW4odGV4dCwgc3R5bGVBdHRyaWJ1dGVzID0ge30pIHsKICBjb25zdCBlbGVtZW50ID0gZG9jdW1lbnQuY3JlYXRlRWxlbWVudCgnc3BhbicpOwogIGVsZW1lbnQudGV4dENvbnRlbnQgPSB0ZXh0OwogIGZvciAoY29uc3Qga2V5IG9mIE9iamVjdC5rZXlzKHN0eWxlQXR0cmlidXRlcykpIHsKICAgIGVsZW1lbnQuc3R5bGVba2V5XSA9IHN0eWxlQXR0cmlidXRlc1trZXldOwogIH0KICByZXR1cm4gZWxlbWVudDsKfQoKLy8gTWF4IG51bWJlciBvZiBieXRlcyB3aGljaCB3aWxsIGJlIHVwbG9hZGVkIGF0IGEgdGltZS4KY29uc3QgTUFYX1BBWUxPQURfU0laRSA9IDEwMCAqIDEwMjQ7CgpmdW5jdGlvbiBfdXBsb2FkRmlsZXMoaW5wdXRJZCwgb3V0cHV0SWQpIHsKICBjb25zdCBzdGVwcyA9IHVwbG9hZEZpbGVzU3RlcChpbnB1dElkLCBvdXRwdXRJZCk7CiAgY29uc3Qgb3V0cHV0RWxlbWVudCA9IGRvY3VtZW50LmdldEVsZW1lbnRCeUlkKG91dHB1dElkKTsKICAvLyBDYWNoZSBzdGVwcyBvbiB0aGUgb3V0cHV0RWxlbWVudCB0byBtYWtlIGl0IGF2YWlsYWJsZSBmb3IgdGhlIG5leHQgY2FsbAogIC8vIHRvIHVwbG9hZEZpbGVzQ29udGludWUgZnJvbSBQeXRob24uCiAgb3V0cHV0RWxlbWVudC5zdGVwcyA9IHN0ZXBzOwoKICByZXR1cm4gX3VwbG9hZEZpbGVzQ29udGludWUob3V0cHV0SWQpOwp9CgovLyBUaGlzIGlzIHJvdWdobHkgYW4gYXN5bmMgZ2VuZXJhdG9yIChub3Qgc3VwcG9ydGVkIGluIHRoZSBicm93c2VyIHlldCksCi8vIHdoZXJlIHRoZXJlIGFyZSBtdWx0aXBsZSBhc3luY2hyb25vdXMgc3RlcHMgYW5kIHRoZSBQeXRob24gc2lkZSBpcyBnb2luZwovLyB0byBwb2xsIGZvciBjb21wbGV0aW9uIG9mIGVhY2ggc3RlcC4KLy8gVGhpcyB1c2VzIGEgUHJvbWlzZSB0byBibG9jayB0aGUgcHl0aG9uIHNpZGUgb24gY29tcGxldGlvbiBvZiBlYWNoIHN0ZXAsCi8vIHRoZW4gcGFzc2VzIHRoZSByZXN1bHQgb2YgdGhlIHByZXZpb3VzIHN0ZXAgYXMgdGhlIGlucHV0IHRvIHRoZSBuZXh0IHN0ZXAuCmZ1bmN0aW9uIF91cGxvYWRGaWxlc0NvbnRpbnVlKG91dHB1dElkKSB7CiAgY29uc3Qgb3V0cHV0RWxlbWVudCA9IGRvY3VtZW50LmdldEVsZW1lbnRCeUlkKG91dHB1dElkKTsKICBjb25zdCBzdGVwcyA9IG91dHB1dEVsZW1lbnQuc3RlcHM7CgogIGNvbnN0IG5leHQgPSBzdGVwcy5uZXh0KG91dHB1dEVsZW1lbnQubGFzdFByb21pc2VWYWx1ZSk7CiAgcmV0dXJuIFByb21pc2UucmVzb2x2ZShuZXh0LnZhbHVlLnByb21pc2UpLnRoZW4oKHZhbHVlKSA9PiB7CiAgICAvLyBDYWNoZSB0aGUgbGFzdCBwcm9taXNlIHZhbHVlIHRvIG1ha2UgaXQgYXZhaWxhYmxlIHRvIHRoZSBuZXh0CiAgICAvLyBzdGVwIG9mIHRoZSBnZW5lcmF0b3IuCiAgICBvdXRwdXRFbGVtZW50Lmxhc3RQcm9taXNlVmFsdWUgPSB2YWx1ZTsKICAgIHJldHVybiBuZXh0LnZhbHVlLnJlc3BvbnNlOwogIH0pOwp9CgovKioKICogR2VuZXJhdG9yIGZ1bmN0aW9uIHdoaWNoIGlzIGNhbGxlZCBiZXR3ZWVuIGVhY2ggYXN5bmMgc3RlcCBvZiB0aGUgdXBsb2FkCiAqIHByb2Nlc3MuCiAqIEBwYXJhbSB7c3RyaW5nfSBpbnB1dElkIEVsZW1lbnQgSUQgb2YgdGhlIGlucHV0IGZpbGUgcGlja2VyIGVsZW1lbnQuCiAqIEBwYXJhbSB7c3RyaW5nfSBvdXRwdXRJZCBFbGVtZW50IElEIG9mIHRoZSBvdXRwdXQgZGlzcGxheS4KICogQHJldHVybiB7IUl0ZXJhYmxlPCFPYmplY3Q+fSBJdGVyYWJsZSBvZiBuZXh0IHN0ZXBzLgogKi8KZnVuY3Rpb24qIHVwbG9hZEZpbGVzU3RlcChpbnB1dElkLCBvdXRwdXRJZCkgewogIGNvbnN0IGlucHV0RWxlbWVudCA9IGRvY3VtZW50LmdldEVsZW1lbnRCeUlkKGlucHV0SWQpOwogIGlucHV0RWxlbWVudC5kaXNhYmxlZCA9IGZhbHNlOwoKICBjb25zdCBvdXRwdXRFbGVtZW50ID0gZG9jdW1lbnQuZ2V0RWxlbWVudEJ5SWQob3V0cHV0SWQpOwogIG91dHB1dEVsZW1lbnQuaW5uZXJIVE1MID0gJyc7CgogIGNvbnN0IHBpY2tlZFByb21pc2UgPSBuZXcgUHJvbWlzZSgocmVzb2x2ZSkgPT4gewogICAgaW5wdXRFbGVtZW50LmFkZEV2ZW50TGlzdGVuZXIoJ2NoYW5nZScsIChlKSA9PiB7CiAgICAgIHJlc29sdmUoZS50YXJnZXQuZmlsZXMpOwogICAgfSk7CiAgfSk7CgogIGNvbnN0IGNhbmNlbCA9IGRvY3VtZW50LmNyZWF0ZUVsZW1lbnQoJ2J1dHRvbicpOwogIGlucHV0RWxlbWVudC5wYXJlbnRFbGVtZW50LmFwcGVuZENoaWxkKGNhbmNlbCk7CiAgY2FuY2VsLnRleHRDb250ZW50ID0gJ0NhbmNlbCB1cGxvYWQnOwogIGNvbnN0IGNhbmNlbFByb21pc2UgPSBuZXcgUHJvbWlzZSgocmVzb2x2ZSkgPT4gewogICAgY2FuY2VsLm9uY2xpY2sgPSAoKSA9PiB7CiAgICAgIHJlc29sdmUobnVsbCk7CiAgICB9OwogIH0pOwoKICAvLyBXYWl0IGZvciB0aGUgdXNlciB0byBwaWNrIHRoZSBmaWxlcy4KICBjb25zdCBmaWxlcyA9IHlpZWxkIHsKICAgIHByb21pc2U6IFByb21pc2UucmFjZShbcGlja2VkUHJvbWlzZSwgY2FuY2VsUHJvbWlzZV0pLAogICAgcmVzcG9uc2U6IHsKICAgICAgYWN0aW9uOiAnc3RhcnRpbmcnLAogICAgfQogIH07CgogIGNhbmNlbC5yZW1vdmUoKTsKCiAgLy8gRGlzYWJsZSB0aGUgaW5wdXQgZWxlbWVudCBzaW5jZSBmdXJ0aGVyIHBpY2tzIGFyZSBub3QgYWxsb3dlZC4KICBpbnB1dEVsZW1lbnQuZGlzYWJsZWQgPSB0cnVlOwoKICBpZiAoIWZpbGVzKSB7CiAgICByZXR1cm4gewogICAgICByZXNwb25zZTogewogICAgICAgIGFjdGlvbjogJ2NvbXBsZXRlJywKICAgICAgfQogICAgfTsKICB9CgogIGZvciAoY29uc3QgZmlsZSBvZiBmaWxlcykgewogICAgY29uc3QgbGkgPSBkb2N1bWVudC5jcmVhdGVFbGVtZW50KCdsaScpOwogICAgbGkuYXBwZW5kKHNwYW4oZmlsZS5uYW1lLCB7Zm9udFdlaWdodDogJ2JvbGQnfSkpOwogICAgbGkuYXBwZW5kKHNwYW4oCiAgICAgICAgYCgke2ZpbGUudHlwZSB8fCAnbi9hJ30pIC0gJHtmaWxlLnNpemV9IGJ5dGVzLCBgICsKICAgICAgICBgbGFzdCBtb2RpZmllZDogJHsKICAgICAgICAgICAgZmlsZS5sYXN0TW9kaWZpZWREYXRlID8gZmlsZS5sYXN0TW9kaWZpZWREYXRlLnRvTG9jYWxlRGF0ZVN0cmluZygpIDoKICAgICAgICAgICAgICAgICAgICAgICAgICAgICAgICAgICAgJ24vYSd9IC0gYCkpOwogICAgY29uc3QgcGVyY2VudCA9IHNwYW4oJzAlIGRvbmUnKTsKICAgIGxpLmFwcGVuZENoaWxkKHBlcmNlbnQpOwoKICAgIG91dHB1dEVsZW1lbnQuYXBwZW5kQ2hpbGQobGkpOwoKICAgIGNvbnN0IGZpbGVEYXRhUHJvbWlzZSA9IG5ldyBQcm9taXNlKChyZXNvbHZlKSA9PiB7CiAgICAgIGNvbnN0IHJlYWRlciA9IG5ldyBGaWxlUmVhZGVyKCk7CiAgICAgIHJlYWRlci5vbmxvYWQgPSAoZSkgPT4gewogICAgICAgIHJlc29sdmUoZS50YXJnZXQucmVzdWx0KTsKICAgICAgfTsKICAgICAgcmVhZGVyLnJlYWRBc0FycmF5QnVmZmVyKGZpbGUpOwogICAgfSk7CiAgICAvLyBXYWl0IGZvciB0aGUgZGF0YSB0byBiZSByZWFkeS4KICAgIGxldCBmaWxlRGF0YSA9IHlpZWxkIHsKICAgICAgcHJvbWlzZTogZmlsZURhdGFQcm9taXNlLAogICAgICByZXNwb25zZTogewogICAgICAgIGFjdGlvbjogJ2NvbnRpbnVlJywKICAgICAgfQogICAgfTsKCiAgICAvLyBVc2UgYSBjaHVua2VkIHNlbmRpbmcgdG8gYXZvaWQgbWVzc2FnZSBzaXplIGxpbWl0cy4gU2VlIGIvNjIxMTU2NjAuCiAgICBsZXQgcG9zaXRpb24gPSAwOwogICAgd2hpbGUgKHBvc2l0aW9uIDwgZmlsZURhdGEuYnl0ZUxlbmd0aCkgewogICAgICBjb25zdCBsZW5ndGggPSBNYXRoLm1pbihmaWxlRGF0YS5ieXRlTGVuZ3RoIC0gcG9zaXRpb24sIE1BWF9QQVlMT0FEX1NJWkUpOwogICAgICBjb25zdCBjaHVuayA9IG5ldyBVaW50OEFycmF5KGZpbGVEYXRhLCBwb3NpdGlvbiwgbGVuZ3RoKTsKICAgICAgcG9zaXRpb24gKz0gbGVuZ3RoOwoKICAgICAgY29uc3QgYmFzZTY0ID0gYnRvYShTdHJpbmcuZnJvbUNoYXJDb2RlLmFwcGx5KG51bGwsIGNodW5rKSk7CiAgICAgIHlpZWxkIHsKICAgICAgICByZXNwb25zZTogewogICAgICAgICAgYWN0aW9uOiAnYXBwZW5kJywKICAgICAgICAgIGZpbGU6IGZpbGUubmFtZSwKICAgICAgICAgIGRhdGE6IGJhc2U2NCwKICAgICAgICB9LAogICAgICB9OwogICAgICBwZXJjZW50LnRleHRDb250ZW50ID0KICAgICAgICAgIGAke01hdGgucm91bmQoKHBvc2l0aW9uIC8gZmlsZURhdGEuYnl0ZUxlbmd0aCkgKiAxMDApfSUgZG9uZWA7CiAgICB9CiAgfQoKICAvLyBBbGwgZG9uZS4KICB5aWVsZCB7CiAgICByZXNwb25zZTogewogICAgICBhY3Rpb246ICdjb21wbGV0ZScsCiAgICB9CiAgfTsKfQoKc2NvcGUuZ29vZ2xlID0gc2NvcGUuZ29vZ2xlIHx8IHt9OwpzY29wZS5nb29nbGUuY29sYWIgPSBzY29wZS5nb29nbGUuY29sYWIgfHwge307CnNjb3BlLmdvb2dsZS5jb2xhYi5fZmlsZXMgPSB7CiAgX3VwbG9hZEZpbGVzLAogIF91cGxvYWRGaWxlc0NvbnRpbnVlLAp9Owp9KShzZWxmKTsK",
              "ok": true,
              "headers": [
                [
                  "content-type",
                  "application/javascript"
                ]
              ],
              "status": 200,
              "status_text": ""
            }
          },
          "base_uri": "https://localhost:8080/",
          "height": 89
        },
        "id": "86FidZEkIWHm",
        "outputId": "92b7f811-49dd-4ab9-979f-e89853b1754f"
      },
      "source": [
        "from google.colab import files\n",
        "\n",
        "uploaded = files.upload()\n",
        "\n",
        "for fn in uploaded.keys():\n",
        "    print('User uploaded file \"{name}\" with length {length} bytes'.format(\n",
        "      name=fn, length=len(uploaded[fn])))"
      ],
      "execution_count": 3,
      "outputs": [
        {
          "output_type": "display_data",
          "data": {
            "text/html": [
              "\n",
              "     <input type=\"file\" id=\"files-3a43b95f-3c20-47fb-a3fc-8816c2bf86ad\" name=\"files[]\" multiple disabled\n",
              "        style=\"border:none\" />\n",
              "     <output id=\"result-3a43b95f-3c20-47fb-a3fc-8816c2bf86ad\">\n",
              "      Upload widget is only available when the cell has been executed in the\n",
              "      current browser session. Please rerun this cell to enable.\n",
              "      </output>\n",
              "      <script src=\"/nbextensions/google.colab/files.js\"></script> "
            ],
            "text/plain": [
              "<IPython.core.display.HTML object>"
            ]
          },
          "metadata": {
            "tags": []
          }
        },
        {
          "output_type": "stream",
          "text": [
            "Saving Wine_reviews_climate_prediction.csv to Wine_reviews_climate_prediction.csv\n",
            "User uploaded file \"Wine_reviews_climate_prediction.csv\" with length 29206594 bytes\n"
          ],
          "name": "stdout"
        }
      ]
    },
    {
      "cell_type": "markdown",
      "metadata": {
        "id": "2yq6FYrUIUgC"
      },
      "source": [
        "## 1. Cargue de Librerias, base de datos y entrenamiento."
      ]
    },
    {
      "cell_type": "code",
      "metadata": {
        "id": "G3XGyF0YIUgC"
      },
      "source": [
        "import pandas as pd\n",
        "import numpy as np\n",
        "import matplotlib.pyplot as plt\n",
        "\n",
        "from sklearn.linear_model import LinearRegression, Ridge\n",
        "from sklearn.model_selection import train_test_split\n",
        "from sklearn.model_selection import RandomizedSearchCV, GridSearchCV\n",
        "from sklearn.tree import DecisionTreeClassifier\n",
        "from sklearn import tree\n",
        "\n",
        "from sklearn.decomposition import PCA\n",
        "\n",
        "from sklearn.metrics import accuracy_score, confusion_matrix, mean_squared_error,r2_score,mean_absolute_error,mean_squared_error\n",
        "\n",
        "from sklearn.preprocessing import PolynomialFeatures\n",
        "from sklearn.preprocessing import MinMaxScaler\n",
        "from sklearn.preprocessing import StandardScaler\n",
        "\n",
        "from scipy.stats import uniform\n",
        "\n",
        "from sklearn.pipeline import Pipeline\n",
        "\n",
        "from sklearn.tree import DecisionTreeRegressor\n",
        "\n",
        "from sklearn.svm import SVC, SVR, LinearSVR\n",
        "\n",
        "from sklearn.naive_bayes import GaussianNB\n",
        "from sklearn.ensemble import RandomForestRegressor\n",
        "\n",
        "pd.set_option('display.max_columns', None)"
      ],
      "execution_count": 4,
      "outputs": []
    },
    {
      "cell_type": "code",
      "metadata": {
        "id": "nLroPoUdIUgD"
      },
      "source": [
        "df = pd.read_csv('Wine_reviews_climate_prediction.csv')"
      ],
      "execution_count": 5,
      "outputs": []
    },
    {
      "cell_type": "code",
      "metadata": {
        "colab": {
          "base_uri": "https://localhost:8080/"
        },
        "id": "SIGwkI1qIUgD",
        "outputId": "75e8af60-6440-4383-e16c-ea282073afbf"
      },
      "source": [
        "df.info()"
      ],
      "execution_count": null,
      "outputs": [
        {
          "output_type": "stream",
          "text": [
            "<class 'pandas.core.frame.DataFrame'>\n",
            "RangeIndex: 70030 entries, 0 to 70029\n",
            "Data columns (total 19 columns):\n",
            " #   Column          Non-Null Count  Dtype  \n",
            "---  ------          --------------  -----  \n",
            " 0   Unnamed: 0      70030 non-null  int64  \n",
            " 1   country         70030 non-null  object \n",
            " 2   description     70030 non-null  object \n",
            " 3   points          70030 non-null  int64  \n",
            " 4   price           70030 non-null  float64\n",
            " 5   taster_name     70030 non-null  object \n",
            " 6   variety         70030 non-null  object \n",
            " 7   winery          70030 non-null  object \n",
            " 8   Year            70030 non-null  int64  \n",
            " 9   region          70030 non-null  object \n",
            " 10  Latitude        70030 non-null  float64\n",
            " 11  Longitude       70030 non-null  float64\n",
            " 12  Lat_x           70030 non-null  float64\n",
            " 13  Long_x          70030 non-null  float64\n",
            " 14  temp_anual      70030 non-null  float64\n",
            " 15  temp_max_anual  70030 non-null  float64\n",
            " 16  temp_min_anual  70030 non-null  float64\n",
            " 17  pre_anual       70030 non-null  float64\n",
            " 18  etp_anual       70030 non-null  int64  \n",
            "dtypes: float64(9), int64(4), object(6)\n",
            "memory usage: 10.2+ MB\n"
          ],
          "name": "stdout"
        }
      ]
    },
    {
      "cell_type": "code",
      "metadata": {
        "colab": {
          "base_uri": "https://localhost:8080/"
        },
        "id": "riF_YzzKIUgE",
        "outputId": "49d932bd-0f73-4fab-8c02-2e33367f4e98"
      },
      "source": [
        "df.isnull().sum()"
      ],
      "execution_count": 6,
      "outputs": [
        {
          "output_type": "execute_result",
          "data": {
            "text/plain": [
              "Unnamed: 0        0\n",
              "country           0\n",
              "description       0\n",
              "points            0\n",
              "price             0\n",
              "taster_name       0\n",
              "variety           0\n",
              "winery            0\n",
              "Year              0\n",
              "region            0\n",
              "Latitude          0\n",
              "Longitude         0\n",
              "Lat_x             0\n",
              "Long_x            0\n",
              "temp_anual        0\n",
              "temp_max_anual    0\n",
              "temp_min_anual    0\n",
              "pre_anual         0\n",
              "etp_anual         0\n",
              "dtype: int64"
            ]
          },
          "metadata": {
            "tags": []
          },
          "execution_count": 6
        }
      ]
    },
    {
      "cell_type": "code",
      "metadata": {
        "colab": {
          "base_uri": "https://localhost:8080/"
        },
        "id": "ZyevuB35IUgF",
        "outputId": "8436107e-e850-4001-97ff-2ff8df022dbf"
      },
      "source": [
        "#Deleteing rows with price = 0\n",
        "df.dropna(subset = ['price'], inplace=True)\n",
        "df.isnull().sum()"
      ],
      "execution_count": null,
      "outputs": [
        {
          "output_type": "execute_result",
          "data": {
            "text/plain": [
              "Unnamed: 0        0\n",
              "country           0\n",
              "description       0\n",
              "points            0\n",
              "price             0\n",
              "taster_name       0\n",
              "variety           0\n",
              "winery            0\n",
              "Year              0\n",
              "region            0\n",
              "Latitude          0\n",
              "Longitude         0\n",
              "Lat_x             0\n",
              "Long_x            0\n",
              "temp_anual        0\n",
              "temp_max_anual    0\n",
              "temp_min_anual    0\n",
              "pre_anual         0\n",
              "etp_anual         0\n",
              "dtype: int64"
            ]
          },
          "metadata": {
            "tags": []
          },
          "execution_count": 9
        }
      ]
    },
    {
      "cell_type": "code",
      "metadata": {
        "colab": {
          "base_uri": "https://localhost:8080/",
          "height": 419
        },
        "id": "XbtGWZX8IUgF",
        "outputId": "e18a8c51-2443-4cf1-d584-26f4dbdc990d"
      },
      "source": [
        "df.drop(columns=['description', 'variety', 'winery', 'Latitude', 'Longitude', 'region', 'Unnamed: 0'], inplace=True)\n",
        "df"
      ],
      "execution_count": 7,
      "outputs": [
        {
          "output_type": "execute_result",
          "data": {
            "text/html": [
              "<div>\n",
              "<style scoped>\n",
              "    .dataframe tbody tr th:only-of-type {\n",
              "        vertical-align: middle;\n",
              "    }\n",
              "\n",
              "    .dataframe tbody tr th {\n",
              "        vertical-align: top;\n",
              "    }\n",
              "\n",
              "    .dataframe thead th {\n",
              "        text-align: right;\n",
              "    }\n",
              "</style>\n",
              "<table border=\"1\" class=\"dataframe\">\n",
              "  <thead>\n",
              "    <tr style=\"text-align: right;\">\n",
              "      <th></th>\n",
              "      <th>country</th>\n",
              "      <th>points</th>\n",
              "      <th>price</th>\n",
              "      <th>taster_name</th>\n",
              "      <th>Year</th>\n",
              "      <th>Lat_x</th>\n",
              "      <th>Long_x</th>\n",
              "      <th>temp_anual</th>\n",
              "      <th>temp_max_anual</th>\n",
              "      <th>temp_min_anual</th>\n",
              "      <th>pre_anual</th>\n",
              "      <th>etp_anual</th>\n",
              "    </tr>\n",
              "  </thead>\n",
              "  <tbody>\n",
              "    <tr>\n",
              "      <th>0</th>\n",
              "      <td>Portugal</td>\n",
              "      <td>87</td>\n",
              "      <td>15.0</td>\n",
              "      <td>Roger Voss</td>\n",
              "      <td>2011</td>\n",
              "      <td>41.75</td>\n",
              "      <td>-5.75</td>\n",
              "      <td>13.01</td>\n",
              "      <td>19.44</td>\n",
              "      <td>6.61</td>\n",
              "      <td>388.5</td>\n",
              "      <td>1200</td>\n",
              "    </tr>\n",
              "    <tr>\n",
              "      <th>1</th>\n",
              "      <td>Portugal</td>\n",
              "      <td>87</td>\n",
              "      <td>15.0</td>\n",
              "      <td>Roger Voss</td>\n",
              "      <td>2011</td>\n",
              "      <td>41.75</td>\n",
              "      <td>-5.75</td>\n",
              "      <td>13.01</td>\n",
              "      <td>19.44</td>\n",
              "      <td>6.61</td>\n",
              "      <td>388.5</td>\n",
              "      <td>1200</td>\n",
              "    </tr>\n",
              "    <tr>\n",
              "      <th>2</th>\n",
              "      <td>Portugal</td>\n",
              "      <td>87</td>\n",
              "      <td>17.0</td>\n",
              "      <td>Roger Voss</td>\n",
              "      <td>2011</td>\n",
              "      <td>41.75</td>\n",
              "      <td>-5.75</td>\n",
              "      <td>13.01</td>\n",
              "      <td>19.44</td>\n",
              "      <td>6.61</td>\n",
              "      <td>388.5</td>\n",
              "      <td>1200</td>\n",
              "    </tr>\n",
              "    <tr>\n",
              "      <th>3</th>\n",
              "      <td>Portugal</td>\n",
              "      <td>91</td>\n",
              "      <td>12.0</td>\n",
              "      <td>Roger Voss</td>\n",
              "      <td>2011</td>\n",
              "      <td>41.75</td>\n",
              "      <td>-5.75</td>\n",
              "      <td>13.01</td>\n",
              "      <td>19.44</td>\n",
              "      <td>6.61</td>\n",
              "      <td>388.5</td>\n",
              "      <td>1200</td>\n",
              "    </tr>\n",
              "    <tr>\n",
              "      <th>4</th>\n",
              "      <td>Portugal</td>\n",
              "      <td>87</td>\n",
              "      <td>8.0</td>\n",
              "      <td>Roger Voss</td>\n",
              "      <td>2011</td>\n",
              "      <td>41.75</td>\n",
              "      <td>-5.75</td>\n",
              "      <td>13.01</td>\n",
              "      <td>19.44</td>\n",
              "      <td>6.61</td>\n",
              "      <td>388.5</td>\n",
              "      <td>1200</td>\n",
              "    </tr>\n",
              "    <tr>\n",
              "      <th>...</th>\n",
              "      <td>...</td>\n",
              "      <td>...</td>\n",
              "      <td>...</td>\n",
              "      <td>...</td>\n",
              "      <td>...</td>\n",
              "      <td>...</td>\n",
              "      <td>...</td>\n",
              "      <td>...</td>\n",
              "      <td>...</td>\n",
              "      <td>...</td>\n",
              "      <td>...</td>\n",
              "      <td>...</td>\n",
              "    </tr>\n",
              "    <tr>\n",
              "      <th>70025</th>\n",
              "      <td>USA</td>\n",
              "      <td>84</td>\n",
              "      <td>25.0</td>\n",
              "      <td>Matt Kettmann</td>\n",
              "      <td>2012</td>\n",
              "      <td>34.75</td>\n",
              "      <td>-118.25</td>\n",
              "      <td>13.96</td>\n",
              "      <td>20.23</td>\n",
              "      <td>7.75</td>\n",
              "      <td>325.0</td>\n",
              "      <td>1176</td>\n",
              "    </tr>\n",
              "    <tr>\n",
              "      <th>70026</th>\n",
              "      <td>Switzerland</td>\n",
              "      <td>90</td>\n",
              "      <td>21.0</td>\n",
              "      <td>Jeff Jenssen</td>\n",
              "      <td>2012</td>\n",
              "      <td>46.75</td>\n",
              "      <td>6.75</td>\n",
              "      <td>9.15</td>\n",
              "      <td>13.46</td>\n",
              "      <td>4.87</td>\n",
              "      <td>1382.5</td>\n",
              "      <td>696</td>\n",
              "    </tr>\n",
              "    <tr>\n",
              "      <th>70027</th>\n",
              "      <td>France</td>\n",
              "      <td>89</td>\n",
              "      <td>14.0</td>\n",
              "      <td>Roger Voss</td>\n",
              "      <td>2012</td>\n",
              "      <td>45.25</td>\n",
              "      <td>6.25</td>\n",
              "      <td>5.61</td>\n",
              "      <td>9.20</td>\n",
              "      <td>2.05</td>\n",
              "      <td>1386.2</td>\n",
              "      <td>714</td>\n",
              "    </tr>\n",
              "    <tr>\n",
              "      <th>70028</th>\n",
              "      <td>France</td>\n",
              "      <td>89</td>\n",
              "      <td>18.0</td>\n",
              "      <td>Roger Voss</td>\n",
              "      <td>2012</td>\n",
              "      <td>45.75</td>\n",
              "      <td>5.75</td>\n",
              "      <td>10.71</td>\n",
              "      <td>15.25</td>\n",
              "      <td>6.22</td>\n",
              "      <td>976.2</td>\n",
              "      <td>807</td>\n",
              "    </tr>\n",
              "    <tr>\n",
              "      <th>70029</th>\n",
              "      <td>Italy</td>\n",
              "      <td>87</td>\n",
              "      <td>25.0</td>\n",
              "      <td>Kerin O’Keefe</td>\n",
              "      <td>2012</td>\n",
              "      <td>40.25</td>\n",
              "      <td>15.25</td>\n",
              "      <td>15.09</td>\n",
              "      <td>18.80</td>\n",
              "      <td>11.40</td>\n",
              "      <td>269.6</td>\n",
              "      <td>1077</td>\n",
              "    </tr>\n",
              "  </tbody>\n",
              "</table>\n",
              "<p>70030 rows × 12 columns</p>\n",
              "</div>"
            ],
            "text/plain": [
              "           country  points  price    taster_name  Year  Lat_x  Long_x  \\\n",
              "0         Portugal      87   15.0     Roger Voss  2011  41.75   -5.75   \n",
              "1         Portugal      87   15.0     Roger Voss  2011  41.75   -5.75   \n",
              "2         Portugal      87   17.0     Roger Voss  2011  41.75   -5.75   \n",
              "3         Portugal      91   12.0     Roger Voss  2011  41.75   -5.75   \n",
              "4         Portugal      87    8.0     Roger Voss  2011  41.75   -5.75   \n",
              "...            ...     ...    ...            ...   ...    ...     ...   \n",
              "70025          USA      84   25.0  Matt Kettmann  2012  34.75 -118.25   \n",
              "70026  Switzerland      90   21.0   Jeff Jenssen  2012  46.75    6.75   \n",
              "70027       France      89   14.0     Roger Voss  2012  45.25    6.25   \n",
              "70028       France      89   18.0     Roger Voss  2012  45.75    5.75   \n",
              "70029        Italy      87   25.0  Kerin O’Keefe  2012  40.25   15.25   \n",
              "\n",
              "       temp_anual  temp_max_anual  temp_min_anual  pre_anual  etp_anual  \n",
              "0           13.01           19.44            6.61      388.5       1200  \n",
              "1           13.01           19.44            6.61      388.5       1200  \n",
              "2           13.01           19.44            6.61      388.5       1200  \n",
              "3           13.01           19.44            6.61      388.5       1200  \n",
              "4           13.01           19.44            6.61      388.5       1200  \n",
              "...           ...             ...             ...        ...        ...  \n",
              "70025       13.96           20.23            7.75      325.0       1176  \n",
              "70026        9.15           13.46            4.87     1382.5        696  \n",
              "70027        5.61            9.20            2.05     1386.2        714  \n",
              "70028       10.71           15.25            6.22      976.2        807  \n",
              "70029       15.09           18.80           11.40      269.6       1077  \n",
              "\n",
              "[70030 rows x 12 columns]"
            ]
          },
          "metadata": {
            "tags": []
          },
          "execution_count": 7
        }
      ]
    },
    {
      "cell_type": "code",
      "metadata": {
        "id": "-KGr2Rk6IUgF"
      },
      "source": [
        "df = pd.get_dummies(df, columns=['country', 'taster_name'])"
      ],
      "execution_count": 8,
      "outputs": []
    },
    {
      "cell_type": "code",
      "metadata": {
        "id": "Ztr-QMPpIUgG"
      },
      "source": [
        "data = df"
      ],
      "execution_count": 9,
      "outputs": []
    },
    {
      "cell_type": "code",
      "metadata": {
        "colab": {
          "base_uri": "https://localhost:8080/"
        },
        "id": "JWMiGW8QIUgG",
        "outputId": "076bd999-df3c-4e93-db1c-e1ce5c3ca7a6"
      },
      "source": [
        "df.info()"
      ],
      "execution_count": 10,
      "outputs": [
        {
          "output_type": "stream",
          "text": [
            "<class 'pandas.core.frame.DataFrame'>\n",
            "RangeIndex: 70030 entries, 0 to 70029\n",
            "Data columns (total 70 columns):\n",
            " #   Column                          Non-Null Count  Dtype  \n",
            "---  ------                          --------------  -----  \n",
            " 0   points                          70030 non-null  int64  \n",
            " 1   price                           70030 non-null  float64\n",
            " 2   Year                            70030 non-null  int64  \n",
            " 3   Lat_x                           70030 non-null  float64\n",
            " 4   Long_x                          70030 non-null  float64\n",
            " 5   temp_anual                      70030 non-null  float64\n",
            " 6   temp_max_anual                  70030 non-null  float64\n",
            " 7   temp_min_anual                  70030 non-null  float64\n",
            " 8   pre_anual                       70030 non-null  float64\n",
            " 9   etp_anual                       70030 non-null  int64  \n",
            " 10  country_Argentina               70030 non-null  uint8  \n",
            " 11  country_Australia               70030 non-null  uint8  \n",
            " 12  country_Austria                 70030 non-null  uint8  \n",
            " 13  country_Bosnia and Herzegovina  70030 non-null  uint8  \n",
            " 14  country_Brazil                  70030 non-null  uint8  \n",
            " 15  country_Bulgaria                70030 non-null  uint8  \n",
            " 16  country_Canada                  70030 non-null  uint8  \n",
            " 17  country_Chile                   70030 non-null  uint8  \n",
            " 18  country_China                   70030 non-null  uint8  \n",
            " 19  country_Croatia                 70030 non-null  uint8  \n",
            " 20  country_Cyprus                  70030 non-null  uint8  \n",
            " 21  country_Czech Republic          70030 non-null  uint8  \n",
            " 22  country_England                 70030 non-null  uint8  \n",
            " 23  country_France                  70030 non-null  uint8  \n",
            " 24  country_Georgia                 70030 non-null  uint8  \n",
            " 25  country_Germany                 70030 non-null  uint8  \n",
            " 26  country_Greece                  70030 non-null  uint8  \n",
            " 27  country_Hungary                 70030 non-null  uint8  \n",
            " 28  country_India                   70030 non-null  uint8  \n",
            " 29  country_Israel                  70030 non-null  uint8  \n",
            " 30  country_Italy                   70030 non-null  uint8  \n",
            " 31  country_Lebanon                 70030 non-null  uint8  \n",
            " 32  country_Macedonia               70030 non-null  uint8  \n",
            " 33  country_Mexico                  70030 non-null  uint8  \n",
            " 34  country_Moldova                 70030 non-null  uint8  \n",
            " 35  country_Morocco                 70030 non-null  uint8  \n",
            " 36  country_New Zealand             70030 non-null  uint8  \n",
            " 37  country_Peru                    70030 non-null  uint8  \n",
            " 38  country_Portugal                70030 non-null  uint8  \n",
            " 39  country_Romania                 70030 non-null  uint8  \n",
            " 40  country_Serbia                  70030 non-null  uint8  \n",
            " 41  country_Slovakia                70030 non-null  uint8  \n",
            " 42  country_Slovenia                70030 non-null  uint8  \n",
            " 43  country_South Africa            70030 non-null  uint8  \n",
            " 44  country_Spain                   70030 non-null  uint8  \n",
            " 45  country_Switzerland             70030 non-null  uint8  \n",
            " 46  country_Turkey                  70030 non-null  uint8  \n",
            " 47  country_USA                     70030 non-null  uint8  \n",
            " 48  country_Ukraine                 70030 non-null  uint8  \n",
            " 49  country_Uruguay                 70030 non-null  uint8  \n",
            " 50  taster_name_Alexander Peartree  70030 non-null  uint8  \n",
            " 51  taster_name_Anna Lee C. Iijima  70030 non-null  uint8  \n",
            " 52  taster_name_Anne Krebiehl MW    70030 non-null  uint8  \n",
            " 53  taster_name_Anonimo             70030 non-null  uint8  \n",
            " 54  taster_name_Carrie Dykes        70030 non-null  uint8  \n",
            " 55  taster_name_Christina Pickard   70030 non-null  uint8  \n",
            " 56  taster_name_Fiona Adams         70030 non-null  uint8  \n",
            " 57  taster_name_Jeff Jenssen        70030 non-null  uint8  \n",
            " 58  taster_name_Jim Gordon          70030 non-null  uint8  \n",
            " 59  taster_name_Joe Czerwinski      70030 non-null  uint8  \n",
            " 60  taster_name_Kerin O’Keefe       70030 non-null  uint8  \n",
            " 61  taster_name_Lauren Buzzeo       70030 non-null  uint8  \n",
            " 62  taster_name_Matt Kettmann       70030 non-null  uint8  \n",
            " 63  taster_name_Michael Schachner   70030 non-null  uint8  \n",
            " 64  taster_name_Mike DeSimone       70030 non-null  uint8  \n",
            " 65  taster_name_Paul Gregutt        70030 non-null  uint8  \n",
            " 66  taster_name_Roger Voss          70030 non-null  uint8  \n",
            " 67  taster_name_Sean P. Sullivan    70030 non-null  uint8  \n",
            " 68  taster_name_Susan Kostrzewa     70030 non-null  uint8  \n",
            " 69  taster_name_Virginie Boone      70030 non-null  uint8  \n",
            "dtypes: float64(7), int64(3), uint8(60)\n",
            "memory usage: 9.4 MB\n"
          ],
          "name": "stdout"
        }
      ]
    },
    {
      "cell_type": "code",
      "metadata": {
        "id": "nqhW56Z2IUgG"
      },
      "source": [
        "#First we separate our info, the X will be all the columns except the output variable, then the output variable, the test size 20% and the random state to have always the same output\n",
        "# is like X, X_test, y, y_test = train_test_split(variables_X, variable_Y, test_size, random_state)\n",
        "X, X_test, y, y_test = train_test_split(data.drop(columns='points'), data.points, test_size=0.2, random_state=42)"
      ],
      "execution_count": 11,
      "outputs": []
    },
    {
      "cell_type": "markdown",
      "metadata": {
        "id": "v8twELoMIUgG"
      },
      "source": [
        "## Modelo 1: *Ridge con Polynomial Features*"
      ]
    },
    {
      "cell_type": "code",
      "metadata": {
        "colab": {
          "base_uri": "https://localhost:8080/"
        },
        "id": "No8TeKycIUgH",
        "outputId": "75d397dc-808f-403e-ea3f-6f437e40992e"
      },
      "source": [
        "%%time\n",
        "#We create the Pipeline. First step, Normalize data, include the Polynomimal \n",
        "#(include bias false to remove from the Polynomial for X[0]=1) and then use the Ridge method\n",
        "ridge_pipe = Pipeline([\n",
        "    ('scaler', StandardScaler()),\n",
        "    ('poly', PolynomialFeatures(include_bias=False)),\n",
        "    ('ridge', Ridge())\n",
        "])\n",
        "\n",
        "#In a dictionary, Step name _ _ and then parameter name, and then : with the type to do\n",
        "dists = {'ridge__alpha' : uniform(loc=0, scale=200), 'poly__degree' : [1, 2]}\n",
        "#Cross Validation (CV uses the n parts (1/5) for cv=5, n_inter is the number of models, )\n",
        "ridge_CV = RandomizedSearchCV(ridge_pipe, param_distributions=dists, n_iter=30, cv=5)\n",
        "#Now we train the model\n",
        "ridge_CV.fit(X, y)"
      ],
      "execution_count": null,
      "outputs": [
        {
          "output_type": "stream",
          "text": [
            "CPU times: user 22min 15s, sys: 1min 21s, total: 23min 36s\n",
            "Wall time: 12min 44s\n"
          ],
          "name": "stdout"
        }
      ]
    },
    {
      "cell_type": "code",
      "metadata": {
        "colab": {
          "base_uri": "https://localhost:8080/"
        },
        "id": "dFDDehBtIUgH",
        "outputId": "412b79b0-b20f-4ba2-af7d-0d9e4b1ae26f"
      },
      "source": [
        "ridge_CV.best_params_"
      ],
      "execution_count": null,
      "outputs": [
        {
          "output_type": "execute_result",
          "data": {
            "text/plain": [
              "{'poly__degree': 2, 'ridge__alpha': 99.8182086475239}"
            ]
          },
          "metadata": {
            "tags": []
          },
          "execution_count": 15
        }
      ]
    },
    {
      "cell_type": "code",
      "metadata": {
        "colab": {
          "base_uri": "https://localhost:8080/"
        },
        "id": "Us1u_OSEIUgH",
        "outputId": "3f2a5cb9-2132-4d19-b4ac-5a5d851959f5"
      },
      "source": [
        "ridge_CV.score(X, y)"
      ],
      "execution_count": null,
      "outputs": [
        {
          "output_type": "execute_result",
          "data": {
            "text/plain": [
              "0.3825488102240244"
            ]
          },
          "metadata": {
            "tags": []
          },
          "execution_count": 16
        }
      ]
    },
    {
      "cell_type": "code",
      "metadata": {
        "colab": {
          "base_uri": "https://localhost:8080/"
        },
        "id": "cMI4r5bfIUgH",
        "outputId": "3d091ff6-6748-4d16-beb1-b69b5f369c6a"
      },
      "source": [
        "ridge_CV.score(X_test, y_test)"
      ],
      "execution_count": null,
      "outputs": [
        {
          "output_type": "execute_result",
          "data": {
            "text/plain": [
              "0.37879961343187485"
            ]
          },
          "metadata": {
            "tags": []
          },
          "execution_count": 17
        }
      ]
    },
    {
      "cell_type": "code",
      "metadata": {
        "colab": {
          "base_uri": "https://localhost:8080/"
        },
        "id": "6EBPk4StIUgI",
        "outputId": "0a10baf4-d657-4a40-f477-476bf9c35e5a"
      },
      "source": [
        "#Medidas de entrenamiento\n",
        "print('Error absoluto medio (MAE):',mean_absolute_error(ridge_CV.predict(X), y))\n",
        "print('Error Cuadrático Medio (MSE):',mean_squared_error(ridge_CV.predict(X), y))\n",
        "print('Raíz del Error Cuadrático Medio (RMSE):',np.sqrt(mean_squared_error(ridge_CV.predict(X), y)))\n",
        "print('Coeficiente de determinación R2:',r2_score(y,ridge_CV.predict(X)))"
      ],
      "execution_count": null,
      "outputs": [
        {
          "output_type": "stream",
          "text": [
            "Error absoluto medio (MAE): 1.9608568194536513\n",
            "Error Cuadrático Medio (MSE): 6.131192514257583\n",
            "Raíz del Error Cuadrático Medio (RMSE): 2.476124494902787\n",
            "Coeficiente de determinación R2: -0.6392490725811766\n"
          ],
          "name": "stdout"
        }
      ]
    },
    {
      "cell_type": "code",
      "metadata": {
        "colab": {
          "base_uri": "https://localhost:8080/"
        },
        "id": "MujgPeQ5IUgI",
        "outputId": "d9580b95-f8d3-4a4d-a6ac-40099a777c15"
      },
      "source": [
        "#Medidas en la prueba\n",
        "print('Error absoluto medio (MAE):',mean_absolute_error(ridge_CV.predict(X_test), y_test))\n",
        "print('Error Cuadrático Medio (MSE):',mean_squared_error(ridge_CV.predict(X_test), y_test))\n",
        "print('Raíz del Error Cuadrático Medio (RMSE):',np.sqrt(mean_squared_error(ridge_CV.predict(X_test), y_test)))\n",
        "print('Coeficiente de determinación R2:',r2_score(y_test,ridge_CV.predict(X_test)))"
      ],
      "execution_count": null,
      "outputs": [
        {
          "output_type": "stream",
          "text": [
            "Error absoluto medio (MAE): 1.9834422010623907\n",
            "Error Cuadrático Medio (MSE): 6.188017041504844\n",
            "Raíz del Error Cuadrático Medio (RMSE): 2.487572519848385\n",
            "Coeficiente de determinación R2: -0.7039695549971567\n"
          ],
          "name": "stdout"
        }
      ]
    },
    {
      "cell_type": "markdown",
      "metadata": {
        "id": "hH_1jBvFIUgI"
      },
      "source": [
        "## Modelo 2: *Arbol de decisión*"
      ]
    },
    {
      "cell_type": "code",
      "metadata": {
        "colab": {
          "base_uri": "https://localhost:8080/"
        },
        "id": "MIwv5nuGIUgI",
        "outputId": "554bc829-d3cd-4a35-80b5-14f06d5911e4"
      },
      "source": [
        "%%time\n",
        "#Now we try a Tree Regressor\n",
        "tree = DecisionTreeRegressor()\n",
        "\n",
        "#In a dictionary, Step name _ _ and then parameter name, and then : with the type to do\n",
        "param_grid = {'max_depth' : [10, 11, 12, 13, 14, 15], 'min_samples_leaf' : [47, 48, 49, 50, 51, 52, 53]}\n",
        "\n",
        "#Cross Validation (CV uses the n parts (1/5) for cv=5, n_inter is the number of models, )\n",
        "tree_CV = GridSearchCV(tree, param_grid=param_grid)\n",
        "#Now we train the model\n",
        "tree_CV.fit(X, y)"
      ],
      "execution_count": null,
      "outputs": [
        {
          "output_type": "stream",
          "text": [
            "CPU times: user 59.5 s, sys: 322 ms, total: 59.8 s\n",
            "Wall time: 59.7 s\n"
          ],
          "name": "stdout"
        }
      ]
    },
    {
      "cell_type": "code",
      "metadata": {
        "colab": {
          "base_uri": "https://localhost:8080/"
        },
        "id": "jU6i1OcXIUgJ",
        "outputId": "979ebd16-0ebe-4527-f5b2-7e48bcdb91dc"
      },
      "source": [
        "print(\"The best Parameters are :\", tree_CV.best_params_)\n",
        "print(\"The best X,y score is: \", tree_CV.score(X, y))\n",
        "print(\"The best X,y test score is: \", tree_CV.score(X_test, y_test))"
      ],
      "execution_count": null,
      "outputs": [
        {
          "output_type": "stream",
          "text": [
            "The best Parameters are : {'max_depth': 11, 'min_samples_leaf': 48}\n",
            "The best X,y score is:  0.4729605577155309\n",
            "The best X,y test score is:  0.43547837376177856\n"
          ],
          "name": "stdout"
        }
      ]
    },
    {
      "cell_type": "code",
      "metadata": {
        "colab": {
          "base_uri": "https://localhost:8080/"
        },
        "id": "nmrqcna8IUgJ",
        "outputId": "6495e5c7-a347-44c5-cdb5-73189e197261"
      },
      "source": [
        "#Medidas de entrenamiento\n",
        "print('Error absoluto medio (MAE):',mean_absolute_error(tree_CV.predict(X), y))\n",
        "print('Error Cuadrático Medio (MSE):',mean_squared_error(tree_CV.predict(X), y))\n",
        "print('Raíz del Error Cuadrático Medio (RMSE):',np.sqrt(mean_squared_error(tree_CV.predict(X), y)))\n",
        "print('Coeficiente de determinación R2:',r2_score(y,tree_CV.predict(X)))"
      ],
      "execution_count": null,
      "outputs": [
        {
          "output_type": "stream",
          "text": [
            "Error absoluto medio (MAE): 1.8068385026623235\n",
            "Error Cuadrático Medio (MSE): 5.233418182294606\n",
            "Raíz del Error Cuadrático Medio (RMSE): 2.2876665365158897\n",
            "Coeficiente de determinación R2: 0.4729605577155309\n"
          ],
          "name": "stdout"
        }
      ]
    },
    {
      "cell_type": "code",
      "metadata": {
        "colab": {
          "base_uri": "https://localhost:8080/"
        },
        "id": "Ql6qlTobIUgJ",
        "outputId": "9203f51c-715e-44dc-8529-00358de17d1d"
      },
      "source": [
        "#Medidas en la prueba\n",
        "print('Error absoluto medio (MAE):',mean_absolute_error(tree_CV.predict(X_test), y_test))\n",
        "print('Error Cuadrático Medio (MSE):',mean_squared_error(tree_CV.predict(X_test), y_test))\n",
        "print('Raíz del Error Cuadrático Medio (RMSE):',np.sqrt(mean_squared_error(tree_CV.predict(X_test), y_test)))\n",
        "print('Coeficiente de determinación R2:',r2_score(y_test,tree_CV.predict(X_test)))"
      ],
      "execution_count": null,
      "outputs": [
        {
          "output_type": "stream",
          "text": [
            "Error absoluto medio (MAE): 1.8706502617401\n",
            "Error Cuadrático Medio (MSE): 5.623418012920129\n",
            "Raíz del Error Cuadrático Medio (RMSE): 2.371374709513477\n",
            "Coeficiente de determinación R2: 0.43547837376177856\n"
          ],
          "name": "stdout"
        }
      ]
    },
    {
      "cell_type": "markdown",
      "metadata": {
        "id": "HsytChxiIUgJ"
      },
      "source": [
        "## Modelo 3: *PCA + Ridge*"
      ]
    },
    {
      "cell_type": "code",
      "metadata": {
        "colab": {
          "base_uri": "https://localhost:8080/"
        },
        "id": "JFodgmx5IUgJ",
        "outputId": "6b624f8d-edc6-43fd-c886-35d407d401b4"
      },
      "source": [
        "%%time\n",
        "#We create the Pipeline. First step, Normalize data, include the Polynomimal \n",
        "#(include bias false to remove from the Polynomial for X[0]=1) and then use the Ridge method\n",
        "ridge_pipe = Pipeline([\n",
        "    ('scaler', StandardScaler()),\n",
        "    ('pca', PCA()),\n",
        "    ('ridge', Ridge())\n",
        "])\n",
        "\n",
        "#In a dictionary, Step name _ _ and then parameter name, and then : with the type to do\n",
        "dists = {'ridge__alpha' : uniform(loc=0, scale=200), 'pca__n_components' : [10, 20, 30, 40, 60]}\n",
        "#Cross Validation (CV uses the n parts (1/5) for cv=5, n_inter is the number of models, )\n",
        "ridge_CV = RandomizedSearchCV(ridge_pipe, param_distributions=dists, n_iter=30, cv=5)\n",
        "#Now we train the model\n",
        "ridge_CV.fit(X, y)"
      ],
      "execution_count": null,
      "outputs": [
        {
          "output_type": "stream",
          "text": [
            "CPU times: user 1min 39s, sys: 1min 15s, total: 2min 54s\n",
            "Wall time: 1min 29s\n"
          ],
          "name": "stdout"
        }
      ]
    },
    {
      "cell_type": "code",
      "metadata": {
        "colab": {
          "base_uri": "https://localhost:8080/"
        },
        "id": "Rhn--jWyIUgK",
        "outputId": "df9396fd-71a6-4863-cacc-49d5ddbf7947"
      },
      "source": [
        "ridge_CV.best_params_"
      ],
      "execution_count": null,
      "outputs": [
        {
          "output_type": "execute_result",
          "data": {
            "text/plain": [
              "{'pca__n_components': 60, 'ridge__alpha': 181.33453634789183}"
            ]
          },
          "metadata": {
            "tags": []
          },
          "execution_count": 27
        }
      ]
    },
    {
      "cell_type": "code",
      "metadata": {
        "colab": {
          "base_uri": "https://localhost:8080/"
        },
        "id": "RMku_viFIUgK",
        "outputId": "509381d5-dd7b-4db8-a366-1ccebffb88d3"
      },
      "source": [
        "ridge_CV.score(X, y)"
      ],
      "execution_count": null,
      "outputs": [
        {
          "output_type": "execute_result",
          "data": {
            "text/plain": [
              "0.2548815500808175"
            ]
          },
          "metadata": {
            "tags": []
          },
          "execution_count": 28
        }
      ]
    },
    {
      "cell_type": "code",
      "metadata": {
        "colab": {
          "base_uri": "https://localhost:8080/"
        },
        "id": "vzeIWyu-IUgK",
        "outputId": "bc2d2ec3-fedf-425e-d2b6-afc475e0b300"
      },
      "source": [
        "ridge_CV.score(X_test, y_test)"
      ],
      "execution_count": null,
      "outputs": [
        {
          "output_type": "execute_result",
          "data": {
            "text/plain": [
              "0.2760338393516947"
            ]
          },
          "metadata": {
            "tags": []
          },
          "execution_count": 29
        }
      ]
    },
    {
      "cell_type": "code",
      "metadata": {
        "colab": {
          "base_uri": "https://localhost:8080/"
        },
        "id": "z3gBxxIgIUgK",
        "outputId": "39e5790a-3f5d-434f-a580-e4b5cf9bd443"
      },
      "source": [
        "#Medidas de entrenamiento\n",
        "print('Error absoluto medio (MAE):',mean_absolute_error(ridge_CV.predict(X), y))\n",
        "print('Error Cuadrático Medio (MSE):',mean_squared_error(ridge_CV.predict(X), y))\n",
        "print('Raíz del Error Cuadrático Medio (RMSE):',np.sqrt(mean_squared_error(ridge_CV.predict(X), y)))\n",
        "print('Coeficiente de determinación R2:',r2_score(y,ridge_CV.predict(X)))"
      ],
      "execution_count": null,
      "outputs": [
        {
          "output_type": "stream",
          "text": [
            "Error absoluto medio (MAE): 2.1527988077283338\n",
            "Error Cuadrático Medio (MSE): 7.398908185823144\n",
            "Raíz del Error Cuadrático Medio (RMSE): 2.7200934149075\n",
            "Coeficiente de determinación R2: -1.9396454897372628\n"
          ],
          "name": "stdout"
        }
      ]
    },
    {
      "cell_type": "code",
      "metadata": {
        "colab": {
          "base_uri": "https://localhost:8080/"
        },
        "id": "Tm9qCxEPIUgK",
        "outputId": "6a182129-0218-4643-91fc-f1e8e3c89ca7"
      },
      "source": [
        "#Medidas en la prueba\n",
        "print('Error absoluto medio (MAE):',mean_absolute_error(ridge_CV.predict(X_test), y_test))\n",
        "print('Error Cuadrático Medio (MSE):',mean_squared_error(ridge_CV.predict(X_test), y_test))\n",
        "print('Raíz del Error Cuadrático Medio (RMSE):',np.sqrt(mean_squared_error(ridge_CV.predict(X_test), y_test)))\n",
        "print('Coeficiente de determinación R2:',r2_score(y_test,ridge_CV.predict(X_test)))"
      ],
      "execution_count": null,
      "outputs": [
        {
          "output_type": "stream",
          "text": [
            "Error absoluto medio (MAE): 2.1635052958599075\n",
            "Error Cuadrático Medio (MSE): 7.211706619041597\n",
            "Raíz del Error Cuadrático Medio (RMSE): 2.6854620866885455\n",
            "Coeficiente de determinación R2: -2.5206655084528107\n"
          ],
          "name": "stdout"
        }
      ]
    },
    {
      "cell_type": "markdown",
      "metadata": {
        "id": "l1aiP28QIUgL"
      },
      "source": [
        "**Se repite el modelo con nuevos parametros**"
      ]
    },
    {
      "cell_type": "code",
      "metadata": {
        "colab": {
          "base_uri": "https://localhost:8080/"
        },
        "id": "I-usHiknIUgL",
        "outputId": "09b503e7-fc6f-4bd5-f020-bdaf81384bd8"
      },
      "source": [
        "%%time\n",
        "#We create the Pipeline. First step, Normalize data, include the Polynomimal \n",
        "#(include bias false to remove from the Polynomial for X[0]=1) and then use the Ridge method\n",
        "ridge_pipe = Pipeline([\n",
        "    ('scaler', StandardScaler()),\n",
        "    ('pca', PCA()),\n",
        "    ('ridge', Ridge())\n",
        "])\n",
        "\n",
        "#In a dictionary, Step name _ _ and then parameter name, and then : with the type to do\n",
        "dists = {'ridge__alpha' : uniform(loc=0, scale=200), 'pca__n_components' : [60, 62, 64, 66]}\n",
        "#Cross Validation (CV uses the n parts (1/5) for cv=5, n_inter is the number of models, )\n",
        "ridge_CV = RandomizedSearchCV(ridge_pipe, param_distributions=dists, n_iter=30, cv=5)\n",
        "#Now we train the model\n",
        "ridge_CV.fit(X, y)"
      ],
      "execution_count": null,
      "outputs": [
        {
          "output_type": "stream",
          "text": [
            "CPU times: user 1min 23s, sys: 27.4 s, total: 1min 50s\n",
            "Wall time: 58 s\n"
          ],
          "name": "stdout"
        }
      ]
    },
    {
      "cell_type": "code",
      "metadata": {
        "colab": {
          "base_uri": "https://localhost:8080/"
        },
        "id": "8_vzG53FIUgM",
        "outputId": "37151eb5-475e-4a46-8bea-c6d5be60ab25"
      },
      "source": [
        "ridge_CV.best_params_"
      ],
      "execution_count": null,
      "outputs": [
        {
          "output_type": "execute_result",
          "data": {
            "text/plain": [
              "{'pca__n_components': 66, 'ridge__alpha': 150.3017831570962}"
            ]
          },
          "metadata": {
            "tags": []
          },
          "execution_count": 34
        }
      ]
    },
    {
      "cell_type": "code",
      "metadata": {
        "colab": {
          "base_uri": "https://localhost:8080/"
        },
        "id": "jjZygbNHIUgM",
        "outputId": "61403290-9ce2-4200-ae37-ff361d4bc969"
      },
      "source": [
        "ridge_CV.score(X, y)"
      ],
      "execution_count": null,
      "outputs": [
        {
          "output_type": "execute_result",
          "data": {
            "text/plain": [
              "0.25563303886045785"
            ]
          },
          "metadata": {
            "tags": []
          },
          "execution_count": 35
        }
      ]
    },
    {
      "cell_type": "code",
      "metadata": {
        "colab": {
          "base_uri": "https://localhost:8080/"
        },
        "id": "6b0LEp6HIUgM",
        "outputId": "a0894f6b-ce54-4a99-a6f2-2dc339051454"
      },
      "source": [
        "ridge_CV.score(X_test, y_test)"
      ],
      "execution_count": null,
      "outputs": [
        {
          "output_type": "execute_result",
          "data": {
            "text/plain": [
              "0.27637978309300126"
            ]
          },
          "metadata": {
            "tags": []
          },
          "execution_count": 36
        }
      ]
    },
    {
      "cell_type": "code",
      "metadata": {
        "colab": {
          "base_uri": "https://localhost:8080/"
        },
        "id": "25sXOIDSIUgM",
        "outputId": "20494b7f-56ae-4093-bff8-6ab8acb57faa"
      },
      "source": [
        "#Medidas de entrenamiento\n",
        "print('Error absoluto medio (MAE):',mean_absolute_error(ridge_CV.predict(X), y))\n",
        "print('Error Cuadrático Medio (MSE):',mean_squared_error(ridge_CV.predict(X), y))\n",
        "print('Raíz del Error Cuadrático Medio (RMSE):',np.sqrt(mean_squared_error(ridge_CV.predict(X), y)))\n",
        "print('Coeficiente de determinación R2:',r2_score(y,ridge_CV.predict(X)))"
      ],
      "execution_count": null,
      "outputs": [
        {
          "output_type": "stream",
          "text": [
            "Error absoluto medio (MAE): 2.1512349713500676\n",
            "Error Cuadrático Medio (MSE): 7.391446021272208\n",
            "Raíz del Error Cuadrático Medio (RMSE): 2.7187213945662414\n",
            "Coeficiente de determinación R2: 0.25563303886045785\n"
          ],
          "name": "stdout"
        }
      ]
    },
    {
      "cell_type": "code",
      "metadata": {
        "colab": {
          "base_uri": "https://localhost:8080/"
        },
        "id": "cmA5rvUVIUgM",
        "outputId": "a2043b6e-ab7d-4f03-d61e-aa679caeb49e"
      },
      "source": [
        "#Medidas en la prueba\n",
        "print('Error absoluto medio (MAE):',mean_absolute_error(ridge_CV.predict(X_test), y_test))\n",
        "print('Error Cuadrático Medio (MSE):',mean_squared_error(ridge_CV.predict(X_test), y_test))\n",
        "print('Raíz del Error Cuadrático Medio (RMSE):',np.sqrt(mean_squared_error(ridge_CV.predict(X_test), y_test)))\n",
        "print('Coeficiente de determinación R2:',r2_score(y_test,ridge_CV.predict(X_test)))"
      ],
      "execution_count": null,
      "outputs": [
        {
          "output_type": "stream",
          "text": [
            "Error absoluto medio (MAE): 2.162978655305005\n",
            "Error Cuadrático Medio (MSE): 7.208260539784574\n",
            "Raíz del Error Cuadrático Medio (RMSE): 2.6848203924628877\n",
            "Coeficiente de determinación R2: 0.27637978309300126\n"
          ],
          "name": "stdout"
        }
      ]
    },
    {
      "cell_type": "markdown",
      "metadata": {
        "id": "LwLesLuvIUgM"
      },
      "source": [
        "## Modelo 4: *PCA + Ridge + Polynomial Features*"
      ]
    },
    {
      "cell_type": "code",
      "metadata": {
        "id": "-ytwWZgZIUgN",
        "outputId": "94af10d7-7d9b-44d5-f4fc-28c8443a394c"
      },
      "source": [
        "%%time\n",
        "#We create the Pipeline. First step, Normalize data, include the Polynomimal \n",
        "#(include bias false to remove from the Polynomial for X[0]=1) and then use the Ridge method\n",
        "ridge_pipe = Pipeline([\n",
        "    ('scaler', StandardScaler()),\n",
        "    ('poly', PolynomialFeatures(include_bias=False)),\n",
        "    ('pca', PCA()),\n",
        "    ('ridge', Ridge())\n",
        "])\n",
        "\n",
        "#In a dictionary, Step name _ _ and then parameter name, and then : with the type to do\n",
        "dists = {'ridge__alpha' : uniform(loc=0, scale=200), 'poly__degree': [1,2], 'pca__n_components' : [30, 40, 50, 60]}\n",
        "#Cross Validation (CV uses the n parts (1/5) for cv=5, n_inter is the number of models, )\n",
        "ridge_CV = RandomizedSearchCV(ridge_pipe, param_distributions=dists, n_iter=30, cv=5)\n",
        "#Now we train the model\n",
        "ridge_CV.fit(X, y)"
      ],
      "execution_count": null,
      "outputs": [
        {
          "output_type": "stream",
          "text": [
            "Wall time: 5min 44s\n"
          ],
          "name": "stdout"
        },
        {
          "output_type": "execute_result",
          "data": {
            "text/plain": [
              "RandomizedSearchCV(cv=5,\n",
              "                   estimator=Pipeline(steps=[('scaler', StandardScaler()),\n",
              "                                             ('poly',\n",
              "                                              PolynomialFeatures(include_bias=False)),\n",
              "                                             ('pca', PCA()),\n",
              "                                             ('ridge', Ridge())]),\n",
              "                   n_iter=30,\n",
              "                   param_distributions={'pca__n_components': [30, 40, 50, 60],\n",
              "                                        'poly__degree': [1, 2],\n",
              "                                        'ridge__alpha': <scipy.stats._distn_infrastructure.rv_frozen object at 0x000001BF44E5AF40>})"
            ]
          },
          "metadata": {
            "tags": []
          },
          "execution_count": 31
        }
      ]
    },
    {
      "cell_type": "code",
      "metadata": {
        "id": "BzXmqqdRIUgN",
        "outputId": "56cb68c7-7647-48df-f059-bbec0a7b465d"
      },
      "source": [
        "print(\"The best Parameters are :\", ridge_CV.best_params_)\n",
        "print(\"The best X,y score is: \", ridge_CV.score(X, y))\n",
        "print(\"The best X,y test score is: \", ridge_CV.score(X_test, y_test))\n",
        "print(\"The MAE X,y is: \", mean_absolute_error(ridge_CV.predict(X), y))\n",
        "print(\"The MAE test X,y is: \", mean_absolute_error(ridge_CV.predict(X_test), y_test))"
      ],
      "execution_count": null,
      "outputs": [
        {
          "output_type": "stream",
          "text": [
            "The best Parameters are : {'pca__n_components': 60, 'poly__degree': 1, 'ridge__alpha': 172.52565962730432}\n",
            "The best X,y score is:  0.2548817850785814\n",
            "The best X,y test score is:  0.27604559239218884\n",
            "The MAE X,y is:  2.152768892577137\n",
            "The MAE test X,y is:  2.1634719034809025\n"
          ],
          "name": "stdout"
        }
      ]
    },
    {
      "cell_type": "code",
      "metadata": {
        "id": "NUu_0RKtIUgN"
      },
      "source": [
        "#Medidas de entrenamiento\n",
        "print('Error absoluto medio (MAE):',mean_absolute_error(ridge_CV.predict(X), y))\n",
        "print('Error Cuadrático Medio (MSE):',mean_squared_error(ridge_CV.predict(X), y))\n",
        "print('Raíz del Error Cuadrático Medio (RMSE):',np.sqrt(mean_squared_error(ridge_CV.predict(X), y)))\n",
        "print('Coeficiente de determinación R2:',r2_score(ridge_CV.predict(X), y))"
      ],
      "execution_count": null,
      "outputs": []
    },
    {
      "cell_type": "code",
      "metadata": {
        "id": "zvoM4pUCIUgO"
      },
      "source": [
        "#Medidas en la prueba\n",
        "print('Error absoluto medio (MAE):',mean_absolute_error(ridge_CV.predict(X_test), y_test))\n",
        "print('Error Cuadrático Medio (MSE):',mean_squared_error(ridge_CV.predict(X_test), y_test))\n",
        "print('Raíz del Error Cuadrático Medio (RMSE):',np.sqrt(mean_squared_error(ridge_CV.predict(X_test), y_test)))\n",
        "print('Coeficiente de determinación R2:',r2_score(ridge_CV.predict(X_test), y_test))"
      ],
      "execution_count": null,
      "outputs": []
    },
    {
      "cell_type": "markdown",
      "metadata": {
        "id": "AMAyrxUcIUgO"
      },
      "source": [
        "## Modelo 5: *Regresión lineal*"
      ]
    },
    {
      "cell_type": "code",
      "metadata": {
        "colab": {
          "base_uri": "https://localhost:8080/"
        },
        "id": "5jQhb_hIIUgO",
        "outputId": "e3ed1861-4f69-421a-c8d3-55f21c30117c"
      },
      "source": [
        "%%time\n",
        "#We create the Pipeline. First step, Normalize data, include the Polynomimal \n",
        "#(include bias false to remove from the Polynomial for X[0]=1) and then use the Ridge method\n",
        "linear_pipe = Pipeline([\n",
        "    ('scaler', StandardScaler()),\n",
        "    ('linear', LinearRegression())\n",
        "])\n",
        "\n",
        "#In a dictionary, Step name _ _ and then parameter name, and then : with the type to do\n",
        "#dists = {'ridge__alpha' : uniform(loc=0, scale=200), 'poly__degree': [1,2], 'pca__n_components' : [30, 40, 50, 60]}\n",
        "#Cross Validation (CV uses the n parts (1/5) for cv=5, n_inter is the number of models, )\n",
        "#Now we train the model\n",
        "linear_pipe.fit(X, y)"
      ],
      "execution_count": null,
      "outputs": [
        {
          "output_type": "stream",
          "text": [
            "CPU times: user 370 ms, sys: 26 ms, total: 396 ms\n",
            "Wall time: 262 ms\n"
          ],
          "name": "stdout"
        }
      ]
    },
    {
      "cell_type": "code",
      "metadata": {
        "colab": {
          "base_uri": "https://localhost:8080/"
        },
        "id": "mFYPqYKWIUgP",
        "outputId": "6676517a-a076-4278-8d77-645251fd8afb"
      },
      "source": [
        "print(\"The best X,y score is: \", linear_pipe.score(X, y))\n",
        "print(\"The best X,y test score is: \", linear_pipe.score(X_test, y_test))\n",
        "print(\"The MAE X,y is: \", mean_absolute_error(linear_pipe.predict(X), y))\n",
        "print(\"The MAE test X,y is: \", mean_absolute_error(linear_pipe.predict(X_test), y_test))"
      ],
      "execution_count": null,
      "outputs": [
        {
          "output_type": "stream",
          "text": [
            "The best X,y score is:  0.2562764691141056\n",
            "The best X,y test score is:  -5.6815694609358496e+19\n",
            "The MAE X,y is:  2.1501482834263026\n",
            "The MAE test X,y is:  201018947.98970672\n"
          ],
          "name": "stdout"
        }
      ]
    },
    {
      "cell_type": "code",
      "metadata": {
        "colab": {
          "base_uri": "https://localhost:8080/"
        },
        "id": "PfPZQ2kYIUgP",
        "outputId": "a130bc14-3273-46d6-856f-5fb85adb4674"
      },
      "source": [
        "#Medidas de entrenamiento\n",
        "print('Error absoluto medio (MAE):',mean_absolute_error(linear_pipe.predict(X), y))\n",
        "print('Error Cuadrático Medio (MSE):',mean_squared_error(linear_pipe.predict(X), y))\n",
        "print('Raíz del Error Cuadrático Medio (RMSE):',np.sqrt(mean_squared_error(linear_pipe.predict(X), y)))\n",
        "print('Coeficiente de determinación R2:',r2_score(y,linear_pipe.predict(X)))"
      ],
      "execution_count": null,
      "outputs": [
        {
          "output_type": "stream",
          "text": [
            "Error absoluto medio (MAE): 2.1501482834263026\n",
            "Error Cuadrático Medio (MSE): 7.385056860768617\n",
            "Raíz del Error Cuadrático Medio (RMSE): 2.717546110145809\n",
            "Coeficiente de determinación R2: 0.2562764691141056\n"
          ],
          "name": "stdout"
        }
      ]
    },
    {
      "cell_type": "code",
      "metadata": {
        "colab": {
          "base_uri": "https://localhost:8080/"
        },
        "id": "wlPmEv0aIUgP",
        "outputId": "defd50ae-8f9c-487d-9a94-22da9db9399f"
      },
      "source": [
        "#Medidas en la prueba\n",
        "print('Error absoluto medio (MAE):',mean_absolute_error(linear_pipe.predict(X_test), y_test))\n",
        "print('Error Cuadrático Medio (MSE):',mean_squared_error(linear_pipe.predict(X_test), y_test))\n",
        "print('Raíz del Error Cuadrático Medio (RMSE):',np.sqrt(mean_squared_error(linear_pipe.predict(X_test), y_test)))\n",
        "print('Coeficiente de determinación R2:',r2_score(y_test,linear_pipe.predict(X_test)))"
      ],
      "execution_count": null,
      "outputs": [
        {
          "output_type": "stream",
          "text": [
            "Error absoluto medio (MAE): 201018947.98970672\n",
            "Error Cuadrático Medio (MSE): 5.659630838447473e+20\n",
            "Raíz del Error Cuadrático Medio (RMSE): 23789978643.217552\n",
            "Coeficiente de determinación R2: -5.6815694609358496e+19\n"
          ],
          "name": "stdout"
        }
      ]
    },
    {
      "cell_type": "markdown",
      "metadata": {
        "id": "RJ2mYQAUIUgP"
      },
      "source": [
        "## Modelo 6: *Support Vector Machines, SVM*"
      ]
    },
    {
      "cell_type": "code",
      "metadata": {
        "colab": {
          "base_uri": "https://localhost:8080/"
        },
        "id": "YYMPLOeSIUgQ",
        "outputId": "c6c6cc21-30dd-4c14-b34e-cf67aaf3a407"
      },
      "source": [
        "%%time\n",
        "svm = Pipeline([\n",
        "    ('scaler', StandardScaler()),\n",
        "    ('svm', LinearSVR(C=1000, epsilon=1, max_iter=10000, random_state=42))\n",
        "])\n",
        "\n",
        "svm.fit(X, y)"
      ],
      "execution_count": null,
      "outputs": [
        {
          "output_type": "stream",
          "text": [
            "CPU times: user 3min 59s, sys: 131 ms, total: 3min 59s\n",
            "Wall time: 3min 58s\n"
          ],
          "name": "stdout"
        },
        {
          "output_type": "stream",
          "text": [
            "/usr/local/lib/python3.7/dist-packages/sklearn/svm/_base.py:947: ConvergenceWarning: Liblinear failed to converge, increase the number of iterations.\n",
            "  \"the number of iterations.\", ConvergenceWarning)\n"
          ],
          "name": "stderr"
        }
      ]
    },
    {
      "cell_type": "code",
      "metadata": {
        "id": "nJRHmPpgIUgQ",
        "outputId": "213fb048-e18a-4f26-93d0-a367df90e96f"
      },
      "source": [
        "print(\"The best X,y score is: \", svm.score(X, y))\n",
        "print(\"The best X,y test score is: \", svm.score(X_test, y_test))\n",
        "print(\"The MAE X,y is: \", mean_absolute_error(svm.predict(X), y))\n",
        "print(\"The MAE test X,y is: \", mean_absolute_error(svm.predict(X_test), y_test))"
      ],
      "execution_count": null,
      "outputs": [
        {
          "output_type": "stream",
          "text": [
            "The best X,y score is:  0.03367518705837347\n",
            "The best X,y test score is:  0.14272707474426827\n",
            "The MAE X,y is:  2.2704148752770594\n",
            "The MAE test X,y is:  2.2635366707544993\n"
          ],
          "name": "stdout"
        }
      ]
    },
    {
      "cell_type": "code",
      "metadata": {
        "id": "KPNzzVxAIUgQ"
      },
      "source": [
        "#Medidas de entrenamiento\n",
        "print('Error absoluto medio (MAE):',mean_absolute_error(svm.predict(X), y))\n",
        "print('Error Cuadrático Medio (MSE):',mean_squared_error(svm.predict(X), y))\n",
        "print('Raíz del Error Cuadrático Medio (RMSE):',np.sqrt(mean_squared_error(svm.predict(X), y)))\n",
        "print('Coeficiente de determinación R2:',r2_score(y,svm.predict(X)))"
      ],
      "execution_count": null,
      "outputs": []
    },
    {
      "cell_type": "code",
      "metadata": {
        "id": "KfoX9t2EIUgQ"
      },
      "source": [
        "#Medidas en la prueba\n",
        "print('Error absoluto medio (MAE):',mean_absolute_error(svm.predict(X_test), y_test))\n",
        "print('Error Cuadrático Medio (MSE):',mean_squared_error(svm.predict(X_test), y_test))\n",
        "print('Raíz del Error Cuadrático Medio (RMSE):',np.sqrt(mean_squared_error(svm.predict(X_test), y_test)))\n",
        "print('Coeficiente de determinación R2:',r2_score(y_test,svm.predict(X_test)))"
      ],
      "execution_count": null,
      "outputs": []
    },
    {
      "cell_type": "markdown",
      "metadata": {
        "id": "zo3yrilwIUgQ"
      },
      "source": [
        "## Modelo 7: *Support Vector Machines, SVM con RBF Kernel*"
      ]
    },
    {
      "cell_type": "code",
      "metadata": {
        "id": "fTNkIb5gIUgR",
        "outputId": "630b14e7-f02b-42d2-9177-28d6c4c975ef"
      },
      "source": [
        "%%time\n",
        "svm = Pipeline([\n",
        "    ('scaler', StandardScaler()),\n",
        "    ('svm', SVR(kernel='rbf', C=1000, epsilon=0.5))\n",
        "])\n",
        "\n",
        "svm.fit(X, y)"
      ],
      "execution_count": null,
      "outputs": [
        {
          "output_type": "stream",
          "text": [
            "Wall time: 22min 10s\n"
          ],
          "name": "stdout"
        },
        {
          "output_type": "execute_result",
          "data": {
            "text/plain": [
              "Pipeline(steps=[('scaler', StandardScaler()),\n",
              "                ('svm', SVR(C=1000, epsilon=0.5))])"
            ]
          },
          "metadata": {
            "tags": []
          },
          "execution_count": 37
        }
      ]
    },
    {
      "cell_type": "code",
      "metadata": {
        "id": "0GxN7a4FIUgR",
        "outputId": "9aaefd39-0927-498e-c045-4091a3264d64"
      },
      "source": [
        "print(\"The best X,y score is: \", svm.score(X, y))\n",
        "print(\"The best X,y test score is: \", svm.score(X_test, y_test))\n",
        "print(\"The MAE X,y is: \", mean_absolute_error(svm.predict(X), y))\n",
        "print(\"The MAE test X,y is: \", mean_absolute_error(svm.predict(X_test), y_test))"
      ],
      "execution_count": null,
      "outputs": [
        {
          "output_type": "stream",
          "text": [
            "The best X,y score is:  0.48239334737287676\n",
            "The best X,y test score is:  0.4509594337442103\n",
            "The MAE X,y is:  1.7598939589719105\n",
            "The MAE test X,y is:  1.825131240668002\n"
          ],
          "name": "stdout"
        }
      ]
    },
    {
      "cell_type": "code",
      "metadata": {
        "id": "VglcZNL9IUgR"
      },
      "source": [
        "#Medidas de entrenamiento\n",
        "print('Error absoluto medio (MAE):',mean_absolute_error(svm.predict(X), y))\n",
        "print('Error Cuadrático Medio (MSE):',mean_squared_error(svm.predict(X), y))\n",
        "print('Raíz del Error Cuadrático Medio (RMSE):',np.sqrt(mean_squared_error(svm.predict(X), y)))\n",
        "print('Coeficiente de determinación R2:',r2_score(y,svm.predict(X)))"
      ],
      "execution_count": null,
      "outputs": []
    },
    {
      "cell_type": "code",
      "metadata": {
        "id": "Ly5I3ywZIUgR"
      },
      "source": [
        "#Medidas en la prueba\n",
        "print('Error absoluto medio (MAE):',mean_absolute_error(svm.predict(X_test), y_test))\n",
        "print('Error Cuadrático Medio (MSE):',mean_squared_error(svm.predict(X_test), y_test))\n",
        "print('Raíz del Error Cuadrático Medio (RMSE):',np.sqrt(mean_squared_error(svm.predict(X_test), y_test)))\n",
        "print('Coeficiente de determinación R2:',r2_score(y_test,svm.predict(X_test)))"
      ],
      "execution_count": null,
      "outputs": []
    },
    {
      "cell_type": "markdown",
      "metadata": {
        "id": "PNtlqMchIUgR"
      },
      "source": [
        "## Modelo 7: *Naybe Bayes*"
      ]
    },
    {
      "cell_type": "code",
      "metadata": {
        "colab": {
          "base_uri": "https://localhost:8080/"
        },
        "id": "AD6IRUqHIUgS",
        "outputId": "8ea8b911-c443-4818-9424-0e0ed55e5247"
      },
      "source": [
        "%%time\n",
        "#We create the Pipeline. First step, Normalize data, include the Polynomimal \n",
        "#(include bias false to remove from the Polynomial for X[0]=1) and then use the Ridge method\n",
        "gnb_pipe = Pipeline([\n",
        "    ('scaler', MinMaxScaler()),\n",
        "    ('gnb', GaussianNB())\n",
        "])\n",
        "\n",
        "#In a dictionary, Step name _ _ and then parameter name, and then : with the type to do\n",
        "#dists = {'gnb__alpha' : uniform(loc=0, scale=200)}\n",
        "#Cross Validation (CV uses the n parts (1/5) for cv=5, n_inter is the number of models, )\n",
        "#ridge_CV = RandomizedSearchCV(ridge_pipe, param_distributions=dists, n_iter=30, cv=5)\n",
        "#Now we train the model\n",
        "gnb_pipe.fit(X, y)"
      ],
      "execution_count": null,
      "outputs": [
        {
          "output_type": "stream",
          "text": [
            "CPU times: user 109 ms, sys: 1.94 ms, total: 111 ms\n",
            "Wall time: 113 ms\n"
          ],
          "name": "stdout"
        }
      ]
    },
    {
      "cell_type": "code",
      "metadata": {
        "colab": {
          "base_uri": "https://localhost:8080/"
        },
        "id": "ebZROlKSIUgS",
        "outputId": "fae7ac54-448d-4c80-aabc-6b715cadadb4"
      },
      "source": [
        "print(\"The best X,y score is: \", gnb_pipe.score(X, y))\n",
        "print(\"The best X,y test score is: \", gnb_pipe.score(X_test, y_test))\n",
        "print(\"The MAE X,y is: \", mean_absolute_error(gnb_pipe.predict(X), y))\n",
        "print(\"The MAE test X,y is: \", mean_absolute_error(y_test,gnb_pipe.predict(X_test)))"
      ],
      "execution_count": null,
      "outputs": [
        {
          "output_type": "stream",
          "text": [
            "The best X,y score is:  0.006657860916749964\n",
            "The best X,y test score is:  0.005997429672997287\n",
            "The MAE X,y is:  10.130515493359988\n",
            "The MAE test X,y is:  10.173639868627731\n"
          ],
          "name": "stdout"
        }
      ]
    },
    {
      "cell_type": "code",
      "metadata": {
        "colab": {
          "base_uri": "https://localhost:8080/"
        },
        "id": "q5GccXvOIUgS",
        "outputId": "15b89b32-6686-42da-efc8-917650deb4ec"
      },
      "source": [
        "#Medidas de entrenamiento\n",
        "print('Error absoluto medio (MAE):',mean_absolute_error(gnb_pipe.predict(X), y))\n",
        "print('Error Cuadrático Medio (MSE):',mean_squared_error(gnb_pipe.predict(X), y))\n",
        "print('Raíz del Error Cuadrático Medio (RMSE):',np.sqrt(mean_squared_error(gnb_pipe.predict(X), y)))\n",
        "print('Coeficiente de determinación R2:',r2_score(y,gnb_pipe.predict(X)))"
      ],
      "execution_count": null,
      "outputs": [
        {
          "output_type": "stream",
          "text": [
            "Error absoluto medio (MAE): 10.130515493359988\n",
            "Error Cuadrático Medio (MSE): 116.98725546194488\n",
            "Raíz del Error Cuadrático Medio (RMSE): 10.816064693868324\n",
            "Coeficiente de determinación R2: -10.78138182835229\n"
          ],
          "name": "stdout"
        }
      ]
    },
    {
      "cell_type": "code",
      "metadata": {
        "colab": {
          "base_uri": "https://localhost:8080/"
        },
        "id": "mCqS90KVIUgS",
        "outputId": "2225da62-866a-459d-8ff2-e59b89c52470"
      },
      "source": [
        "#Medidas en la prueba\n",
        "print('Error absoluto medio (MAE):',mean_absolute_error(gnb_pipe.predict(X_test), y_test))\n",
        "print('Error Cuadrático Medio (MSE):',mean_squared_error(gnb_pipe.predict(X_test), y_test))\n",
        "print('Raíz del Error Cuadrático Medio (RMSE):',np.sqrt(mean_squared_error(gnb_pipe.predict(X_test), y_test)))\n",
        "print('Coeficiente de determinación R2:',r2_score(y_test,gnb_pipe.predict(X_test)))"
      ],
      "execution_count": null,
      "outputs": [
        {
          "output_type": "stream",
          "text": [
            "Error absoluto medio (MAE): 10.173639868627731\n",
            "Error Cuadrático Medio (MSE): 117.79251749250321\n",
            "Raíz del Error Cuadrático Medio (RMSE): 10.853226132929471\n",
            "Coeficiente de determinación R2: -10.824912069631436\n"
          ],
          "name": "stdout"
        }
      ]
    },
    {
      "cell_type": "markdown",
      "metadata": {
        "id": "NIqj6TDKIUgS"
      },
      "source": [
        "## Modelo 8: *Support Vector Machines, SVM con RandomizedSearch*"
      ]
    },
    {
      "cell_type": "code",
      "metadata": {
        "id": "2zMaMb4IIUgT",
        "outputId": "73f5549c-dc76-4bfc-9389-2cc09da92103"
      },
      "source": [
        "%%time\n",
        "#We create the Pipeline. First step, Normalize data, include the Polynomimal \n",
        "#(include bias false to remove from the Polynomial for X[0]=1) and then use the Ridge method\n",
        "svr_pipe = Pipeline([\n",
        "    ('scaler', StandardScaler()),\n",
        "    ('svm', SVR(C=1000, epsilon=0.5))\n",
        "])\n",
        "\n",
        "#In a dictionary, Step name _ _ and then parameter name, and then : with the type to do\n",
        "dists = {'svm__C' : [1000, 3000, 5000], 'svm__epsilon': [0.001, 0.1, 1]}\n",
        "#Cross Validation (CV uses the n parts (1/5) for cv=5, n_inter is the number of models, )\n",
        "svr_CV = RandomizedSearchCV(svr_pipe, param_distributions=dists, n_iter=3, cv=5)\n",
        "#Now we train the model\n",
        "svr_CV.fit(X, y)"
      ],
      "execution_count": null,
      "outputs": [
        {
          "output_type": "stream",
          "text": [
            "Wall time: 8h 36s\n"
          ],
          "name": "stdout"
        },
        {
          "output_type": "execute_result",
          "data": {
            "text/plain": [
              "RandomizedSearchCV(cv=5,\n",
              "                   estimator=Pipeline(steps=[('scaler', StandardScaler()),\n",
              "                                             ('svm',\n",
              "                                              SVR(C=1000, epsilon=0.5))]),\n",
              "                   n_iter=3,\n",
              "                   param_distributions={'svm__C': [1000, 3000, 5000],\n",
              "                                        'svm__epsilon': [0.001, 0.1, 1]})"
            ]
          },
          "metadata": {
            "tags": []
          },
          "execution_count": 43
        }
      ]
    },
    {
      "cell_type": "code",
      "metadata": {
        "id": "9iYoZI9zIUgT",
        "outputId": "ace1281a-1bf8-454c-ceb2-37a0defbda9e"
      },
      "source": [
        "print(\"The best Parameters are :\", svr_CV.best_params_)\n",
        "print(\"The best X,y score is: \", svr_CV.score(X, y))\n",
        "print(\"The best X,y test score is: \", svr_CV.score(X_test, y_test))\n",
        "print(\"The MAE X,y is: \", mean_absolute_error(svr_CV.predict(X), y))\n",
        "print(\"The MAE test X,y is: \", mean_absolute_error(svr_CV.predict(X_test), y_test))"
      ],
      "execution_count": null,
      "outputs": [
        {
          "output_type": "stream",
          "text": [
            "The best Parameters are : {'svm__epsilon': 1, 'svm__C': 1000}\n",
            "The best X,y score is:  0.48312998658187045\n",
            "The best X,y test score is:  0.45485682437869546\n",
            "The MAE X,y is:  1.7693013134400775\n",
            "The MAE test X,y is:  1.8224817093740744\n"
          ],
          "name": "stdout"
        }
      ]
    },
    {
      "cell_type": "code",
      "metadata": {
        "id": "nHwtYhKrIUgT"
      },
      "source": [
        "#Medidas de entrenamiento\n",
        "print('Error absoluto medio (MAE):',mean_absolute_error(svr_CV.predict(X), y))\n",
        "print('Error Cuadrático Medio (MSE):',mean_squared_error(svr_CV.predict(X), y))\n",
        "print('Raíz del Error Cuadrático Medio (RMSE):',np.sqrt(mean_squared_error(svr_CV.predict(X), y)))\n",
        "print('Coeficiente de determinación R2:',r2_score(y,svm.predict(X)))"
      ],
      "execution_count": null,
      "outputs": []
    },
    {
      "cell_type": "code",
      "metadata": {
        "id": "EP-nujUGIUgU"
      },
      "source": [
        "#Medidas en la prueba\n",
        "print('Error absoluto medio (MAE):',mean_absolute_error(svr_CV.predict(X_test), y_test))\n",
        "print('Error Cuadrático Medio (MSE):',mean_squared_error(svr_CV.predict(X_test), y_test))\n",
        "print('Raíz del Error Cuadrático Medio (RMSE):',np.sqrt(mean_squared_error(svr_CV.predict(X_test), y_test)))\n",
        "print('Coeficiente de determinación R2:',r2_score(y_test,svr_CV.predict(X_test)))"
      ],
      "execution_count": null,
      "outputs": []
    },
    {
      "cell_type": "markdown",
      "metadata": {
        "id": "LB9B9tI_gRsw"
      },
      "source": [
        "## Modelo 9: *Random Forest*"
      ]
    },
    {
      "cell_type": "markdown",
      "metadata": {
        "id": "RHGyXyie3XVX"
      },
      "source": [
        "**Se utiliza un cross validation para encontrar los mejores hiperparámetros para la función RandomForestRegresor**"
      ]
    },
    {
      "cell_type": "code",
      "metadata": {
        "colab": {
          "base_uri": "https://localhost:8080/"
        },
        "id": "FlVUAohhgGJ9",
        "outputId": "0fabe73f-560d-407a-c734-87ab61bee168"
      },
      "source": [
        "%%time\n",
        "param_grid = {'n_estimators': [50,100,150],\n",
        "              'min_samples_leaf': [2, 3, 5],\n",
        "              'max_depth'   : [None,1, 3, 10, 20]\n",
        "             }\n",
        "grid = GridSearchCV(\n",
        "        estimator  = RandomForestRegressor(random_state = 123),\n",
        "        param_grid = param_grid,\n",
        "       )\n",
        "\n",
        "grid.fit(X = X, y = y)"
      ],
      "execution_count": 12,
      "outputs": [
        {
          "output_type": "stream",
          "text": [
            "CPU times: user 1h 3min 8s, sys: 3.97 s, total: 1h 3min 12s\n",
            "Wall time: 1h 2min 59s\n"
          ],
          "name": "stdout"
        }
      ]
    },
    {
      "cell_type": "code",
      "metadata": {
        "colab": {
          "base_uri": "https://localhost:8080/"
        },
        "id": "JF8X3Fk-gZWI",
        "outputId": "c5f30b32-17f2-46fa-dc63-dbdcd11da949"
      },
      "source": [
        "print(\"Mejores hiperparámetros encontrados (cv)\")\n",
        "print(grid.best_params_, \":\", grid.best_score_, grid.scoring)"
      ],
      "execution_count": 13,
      "outputs": [
        {
          "output_type": "stream",
          "text": [
            "Mejores hiperparámetros encontrados (cv)\n",
            "{'max_depth': 10, 'min_samples_leaf': 2, 'n_estimators': 150} : 0.46055530868663 None\n"
          ],
          "name": "stdout"
        }
      ]
    },
    {
      "cell_type": "code",
      "metadata": {
        "colab": {
          "base_uri": "https://localhost:8080/"
        },
        "id": "ZOBtpJwZgcsn",
        "outputId": "7da8637a-50c7-459b-d2ca-9b20680e641d"
      },
      "source": [
        "#Medidas de entrenamiento\n",
        "print('Error absoluto medio (MAE):',mean_absolute_error(grid.predict(X), y))\n",
        "print('Error Cuadrático Medio (MSE):',mean_squared_error(grid.predict(X), y))\n",
        "print('Raíz del Error Cuadrático Medio (RMSE):',np.sqrt(mean_squared_error(grid.predict(X), y)))\n",
        "print('Coeficiente de determinación R2:',r2_score(y,grid.predict(X)))"
      ],
      "execution_count": 14,
      "outputs": [
        {
          "output_type": "stream",
          "text": [
            "Error absoluto medio (MAE): 1.7409488831046758\n",
            "Error Cuadrático Medio (MSE): 4.870506568666651\n",
            "Raíz del Error Cuadrático Medio (RMSE): 2.206922420173997\n",
            "Coeficiente de determinación R2: 0.5095081309807676\n"
          ],
          "name": "stdout"
        }
      ]
    },
    {
      "cell_type": "code",
      "metadata": {
        "colab": {
          "base_uri": "https://localhost:8080/"
        },
        "id": "-pwJu7j7ggYp",
        "outputId": "4ac0e0a7-ed44-47c2-ee6c-5157d753c3fa"
      },
      "source": [
        "#Medidas en la prueba\n",
        "print('Error absoluto medio (MAE):',mean_absolute_error(grid.predict(X_test), y_test))\n",
        "print('Error Cuadrático Medio (MSE):',mean_squared_error(grid.predict(X_test), y_test))\n",
        "print('Raíz del Error Cuadrático Medio (RMSE):',np.sqrt(mean_squared_error(grid.predict(X_test), y_test)))\n",
        "print('Coeficiente de determinación R2:',r2_score(y_test,grid.predict(X_test)))"
      ],
      "execution_count": 15,
      "outputs": [
        {
          "output_type": "stream",
          "text": [
            "Error absoluto medio (MAE): 1.824030968341125\n",
            "Error Cuadrático Medio (MSE): 5.355657435106631\n",
            "Raíz del Error Cuadrático Medio (RMSE): 2.314229339349631\n",
            "Coeficiente de determinación R2: 0.4623582245006834\n"
          ],
          "name": "stdout"
        }
      ]
    },
    {
      "cell_type": "markdown",
      "metadata": {
        "id": "qekmQlu335F2"
      },
      "source": [
        "**Se entrena un segundo cross validation acotando los resultados para encontrar los mejores hiperparámetros para la función RandomForestRegresor** "
      ]
    },
    {
      "cell_type": "code",
      "metadata": {
        "colab": {
          "base_uri": "https://localhost:8080/",
          "height": 340
        },
        "id": "9Je0Y5es3q6-",
        "outputId": "1cb46f89-c46a-4523-fa11-b345d293b646"
      },
      "source": [
        "param_grid = {'n_estimators': [150,200],\n",
        "              'min_samples_leaf': [1,3,5,7],\n",
        "              'max_depth'   : [13,15,20]\n",
        "             }\n",
        "grid2 = GridSearchCV(\n",
        "        estimator  = RandomForestRegressor(random_state = 123),\n",
        "        param_grid = param_grid,\n",
        "       )\n",
        "\n",
        "grid2.fit(X = X, y = y)"
      ],
      "execution_count": 16,
      "outputs": [
        {
          "output_type": "error",
          "ename": "KeyboardInterrupt",
          "evalue": "ignored",
          "traceback": [
            "\u001b[0;31m---------------------------------------------------------------------------\u001b[0m",
            "\u001b[0;31mKeyboardInterrupt\u001b[0m                         Traceback (most recent call last)",
            "\u001b[0;32m<ipython-input-16-ee891a7f28d6>\u001b[0m in \u001b[0;36m<module>\u001b[0;34m()\u001b[0m\n\u001b[1;32m      8\u001b[0m        )\n\u001b[1;32m      9\u001b[0m \u001b[0;34m\u001b[0m\u001b[0m\n\u001b[0;32m---> 10\u001b[0;31m \u001b[0mgrid2\u001b[0m\u001b[0;34m.\u001b[0m\u001b[0mfit\u001b[0m\u001b[0;34m(\u001b[0m\u001b[0mX\u001b[0m \u001b[0;34m=\u001b[0m \u001b[0mX\u001b[0m\u001b[0;34m,\u001b[0m \u001b[0my\u001b[0m \u001b[0;34m=\u001b[0m \u001b[0my\u001b[0m\u001b[0;34m)\u001b[0m\u001b[0;34m\u001b[0m\u001b[0;34m\u001b[0m\u001b[0m\n\u001b[0m",
            "\u001b[0;32m/usr/local/lib/python3.7/dist-packages/sklearn/model_selection/_search.py\u001b[0m in \u001b[0;36mfit\u001b[0;34m(self, X, y, groups, **fit_params)\u001b[0m\n\u001b[1;32m    708\u001b[0m                 \u001b[0;32mreturn\u001b[0m \u001b[0mresults\u001b[0m\u001b[0;34m\u001b[0m\u001b[0;34m\u001b[0m\u001b[0m\n\u001b[1;32m    709\u001b[0m \u001b[0;34m\u001b[0m\u001b[0m\n\u001b[0;32m--> 710\u001b[0;31m             \u001b[0mself\u001b[0m\u001b[0;34m.\u001b[0m\u001b[0m_run_search\u001b[0m\u001b[0;34m(\u001b[0m\u001b[0mevaluate_candidates\u001b[0m\u001b[0;34m)\u001b[0m\u001b[0;34m\u001b[0m\u001b[0;34m\u001b[0m\u001b[0m\n\u001b[0m\u001b[1;32m    711\u001b[0m \u001b[0;34m\u001b[0m\u001b[0m\n\u001b[1;32m    712\u001b[0m         \u001b[0;31m# For multi-metric evaluation, store the best_index_, best_params_ and\u001b[0m\u001b[0;34m\u001b[0m\u001b[0;34m\u001b[0m\u001b[0;34m\u001b[0m\u001b[0m\n",
            "\u001b[0;32m/usr/local/lib/python3.7/dist-packages/sklearn/model_selection/_search.py\u001b[0m in \u001b[0;36m_run_search\u001b[0;34m(self, evaluate_candidates)\u001b[0m\n\u001b[1;32m   1149\u001b[0m     \u001b[0;32mdef\u001b[0m \u001b[0m_run_search\u001b[0m\u001b[0;34m(\u001b[0m\u001b[0mself\u001b[0m\u001b[0;34m,\u001b[0m \u001b[0mevaluate_candidates\u001b[0m\u001b[0;34m)\u001b[0m\u001b[0;34m:\u001b[0m\u001b[0;34m\u001b[0m\u001b[0;34m\u001b[0m\u001b[0m\n\u001b[1;32m   1150\u001b[0m         \u001b[0;34m\"\"\"Search all candidates in param_grid\"\"\"\u001b[0m\u001b[0;34m\u001b[0m\u001b[0;34m\u001b[0m\u001b[0m\n\u001b[0;32m-> 1151\u001b[0;31m         \u001b[0mevaluate_candidates\u001b[0m\u001b[0;34m(\u001b[0m\u001b[0mParameterGrid\u001b[0m\u001b[0;34m(\u001b[0m\u001b[0mself\u001b[0m\u001b[0;34m.\u001b[0m\u001b[0mparam_grid\u001b[0m\u001b[0;34m)\u001b[0m\u001b[0;34m)\u001b[0m\u001b[0;34m\u001b[0m\u001b[0;34m\u001b[0m\u001b[0m\n\u001b[0m\u001b[1;32m   1152\u001b[0m \u001b[0;34m\u001b[0m\u001b[0m\n\u001b[1;32m   1153\u001b[0m \u001b[0;34m\u001b[0m\u001b[0m\n",
            "\u001b[0;32m/usr/local/lib/python3.7/dist-packages/sklearn/model_selection/_search.py\u001b[0m in \u001b[0;36mevaluate_candidates\u001b[0;34m(candidate_params)\u001b[0m\n\u001b[1;32m    687\u001b[0m                                \u001b[0;32mfor\u001b[0m \u001b[0mparameters\u001b[0m\u001b[0;34m,\u001b[0m \u001b[0;34m(\u001b[0m\u001b[0mtrain\u001b[0m\u001b[0;34m,\u001b[0m \u001b[0mtest\u001b[0m\u001b[0;34m)\u001b[0m\u001b[0;34m\u001b[0m\u001b[0;34m\u001b[0m\u001b[0m\n\u001b[1;32m    688\u001b[0m                                in product(candidate_params,\n\u001b[0;32m--> 689\u001b[0;31m                                           cv.split(X, y, groups)))\n\u001b[0m\u001b[1;32m    690\u001b[0m \u001b[0;34m\u001b[0m\u001b[0m\n\u001b[1;32m    691\u001b[0m                 \u001b[0;32mif\u001b[0m \u001b[0mlen\u001b[0m\u001b[0;34m(\u001b[0m\u001b[0mout\u001b[0m\u001b[0;34m)\u001b[0m \u001b[0;34m<\u001b[0m \u001b[0;36m1\u001b[0m\u001b[0;34m:\u001b[0m\u001b[0;34m\u001b[0m\u001b[0;34m\u001b[0m\u001b[0m\n",
            "\u001b[0;32m/usr/local/lib/python3.7/dist-packages/joblib/parallel.py\u001b[0m in \u001b[0;36m__call__\u001b[0;34m(self, iterable)\u001b[0m\n\u001b[1;32m   1042\u001b[0m                 \u001b[0mself\u001b[0m\u001b[0;34m.\u001b[0m\u001b[0m_iterating\u001b[0m \u001b[0;34m=\u001b[0m \u001b[0mself\u001b[0m\u001b[0;34m.\u001b[0m\u001b[0m_original_iterator\u001b[0m \u001b[0;32mis\u001b[0m \u001b[0;32mnot\u001b[0m \u001b[0;32mNone\u001b[0m\u001b[0;34m\u001b[0m\u001b[0;34m\u001b[0m\u001b[0m\n\u001b[1;32m   1043\u001b[0m \u001b[0;34m\u001b[0m\u001b[0m\n\u001b[0;32m-> 1044\u001b[0;31m             \u001b[0;32mwhile\u001b[0m \u001b[0mself\u001b[0m\u001b[0;34m.\u001b[0m\u001b[0mdispatch_one_batch\u001b[0m\u001b[0;34m(\u001b[0m\u001b[0miterator\u001b[0m\u001b[0;34m)\u001b[0m\u001b[0;34m:\u001b[0m\u001b[0;34m\u001b[0m\u001b[0;34m\u001b[0m\u001b[0m\n\u001b[0m\u001b[1;32m   1045\u001b[0m                 \u001b[0;32mpass\u001b[0m\u001b[0;34m\u001b[0m\u001b[0;34m\u001b[0m\u001b[0m\n\u001b[1;32m   1046\u001b[0m \u001b[0;34m\u001b[0m\u001b[0m\n",
            "\u001b[0;32m/usr/local/lib/python3.7/dist-packages/joblib/parallel.py\u001b[0m in \u001b[0;36mdispatch_one_batch\u001b[0;34m(self, iterator)\u001b[0m\n\u001b[1;32m    857\u001b[0m                 \u001b[0;32mreturn\u001b[0m \u001b[0;32mFalse\u001b[0m\u001b[0;34m\u001b[0m\u001b[0;34m\u001b[0m\u001b[0m\n\u001b[1;32m    858\u001b[0m             \u001b[0;32melse\u001b[0m\u001b[0;34m:\u001b[0m\u001b[0;34m\u001b[0m\u001b[0;34m\u001b[0m\u001b[0m\n\u001b[0;32m--> 859\u001b[0;31m                 \u001b[0mself\u001b[0m\u001b[0;34m.\u001b[0m\u001b[0m_dispatch\u001b[0m\u001b[0;34m(\u001b[0m\u001b[0mtasks\u001b[0m\u001b[0;34m)\u001b[0m\u001b[0;34m\u001b[0m\u001b[0;34m\u001b[0m\u001b[0m\n\u001b[0m\u001b[1;32m    860\u001b[0m                 \u001b[0;32mreturn\u001b[0m \u001b[0;32mTrue\u001b[0m\u001b[0;34m\u001b[0m\u001b[0;34m\u001b[0m\u001b[0m\n\u001b[1;32m    861\u001b[0m \u001b[0;34m\u001b[0m\u001b[0m\n",
            "\u001b[0;32m/usr/local/lib/python3.7/dist-packages/joblib/parallel.py\u001b[0m in \u001b[0;36m_dispatch\u001b[0;34m(self, batch)\u001b[0m\n\u001b[1;32m    775\u001b[0m         \u001b[0;32mwith\u001b[0m \u001b[0mself\u001b[0m\u001b[0;34m.\u001b[0m\u001b[0m_lock\u001b[0m\u001b[0;34m:\u001b[0m\u001b[0;34m\u001b[0m\u001b[0;34m\u001b[0m\u001b[0m\n\u001b[1;32m    776\u001b[0m             \u001b[0mjob_idx\u001b[0m \u001b[0;34m=\u001b[0m \u001b[0mlen\u001b[0m\u001b[0;34m(\u001b[0m\u001b[0mself\u001b[0m\u001b[0;34m.\u001b[0m\u001b[0m_jobs\u001b[0m\u001b[0;34m)\u001b[0m\u001b[0;34m\u001b[0m\u001b[0;34m\u001b[0m\u001b[0m\n\u001b[0;32m--> 777\u001b[0;31m             \u001b[0mjob\u001b[0m \u001b[0;34m=\u001b[0m \u001b[0mself\u001b[0m\u001b[0;34m.\u001b[0m\u001b[0m_backend\u001b[0m\u001b[0;34m.\u001b[0m\u001b[0mapply_async\u001b[0m\u001b[0;34m(\u001b[0m\u001b[0mbatch\u001b[0m\u001b[0;34m,\u001b[0m \u001b[0mcallback\u001b[0m\u001b[0;34m=\u001b[0m\u001b[0mcb\u001b[0m\u001b[0;34m)\u001b[0m\u001b[0;34m\u001b[0m\u001b[0;34m\u001b[0m\u001b[0m\n\u001b[0m\u001b[1;32m    778\u001b[0m             \u001b[0;31m# A job can complete so quickly than its callback is\u001b[0m\u001b[0;34m\u001b[0m\u001b[0;34m\u001b[0m\u001b[0;34m\u001b[0m\u001b[0m\n\u001b[1;32m    779\u001b[0m             \u001b[0;31m# called before we get here, causing self._jobs to\u001b[0m\u001b[0;34m\u001b[0m\u001b[0;34m\u001b[0m\u001b[0;34m\u001b[0m\u001b[0m\n",
            "\u001b[0;32m/usr/local/lib/python3.7/dist-packages/joblib/_parallel_backends.py\u001b[0m in \u001b[0;36mapply_async\u001b[0;34m(self, func, callback)\u001b[0m\n\u001b[1;32m    206\u001b[0m     \u001b[0;32mdef\u001b[0m \u001b[0mapply_async\u001b[0m\u001b[0;34m(\u001b[0m\u001b[0mself\u001b[0m\u001b[0;34m,\u001b[0m \u001b[0mfunc\u001b[0m\u001b[0;34m,\u001b[0m \u001b[0mcallback\u001b[0m\u001b[0;34m=\u001b[0m\u001b[0;32mNone\u001b[0m\u001b[0;34m)\u001b[0m\u001b[0;34m:\u001b[0m\u001b[0;34m\u001b[0m\u001b[0;34m\u001b[0m\u001b[0m\n\u001b[1;32m    207\u001b[0m         \u001b[0;34m\"\"\"Schedule a func to be run\"\"\"\u001b[0m\u001b[0;34m\u001b[0m\u001b[0;34m\u001b[0m\u001b[0m\n\u001b[0;32m--> 208\u001b[0;31m         \u001b[0mresult\u001b[0m \u001b[0;34m=\u001b[0m \u001b[0mImmediateResult\u001b[0m\u001b[0;34m(\u001b[0m\u001b[0mfunc\u001b[0m\u001b[0;34m)\u001b[0m\u001b[0;34m\u001b[0m\u001b[0;34m\u001b[0m\u001b[0m\n\u001b[0m\u001b[1;32m    209\u001b[0m         \u001b[0;32mif\u001b[0m \u001b[0mcallback\u001b[0m\u001b[0;34m:\u001b[0m\u001b[0;34m\u001b[0m\u001b[0;34m\u001b[0m\u001b[0m\n\u001b[1;32m    210\u001b[0m             \u001b[0mcallback\u001b[0m\u001b[0;34m(\u001b[0m\u001b[0mresult\u001b[0m\u001b[0;34m)\u001b[0m\u001b[0;34m\u001b[0m\u001b[0;34m\u001b[0m\u001b[0m\n",
            "\u001b[0;32m/usr/local/lib/python3.7/dist-packages/joblib/_parallel_backends.py\u001b[0m in \u001b[0;36m__init__\u001b[0;34m(self, batch)\u001b[0m\n\u001b[1;32m    570\u001b[0m         \u001b[0;31m# Don't delay the application, to avoid keeping the input\u001b[0m\u001b[0;34m\u001b[0m\u001b[0;34m\u001b[0m\u001b[0;34m\u001b[0m\u001b[0m\n\u001b[1;32m    571\u001b[0m         \u001b[0;31m# arguments in memory\u001b[0m\u001b[0;34m\u001b[0m\u001b[0;34m\u001b[0m\u001b[0;34m\u001b[0m\u001b[0m\n\u001b[0;32m--> 572\u001b[0;31m         \u001b[0mself\u001b[0m\u001b[0;34m.\u001b[0m\u001b[0mresults\u001b[0m \u001b[0;34m=\u001b[0m \u001b[0mbatch\u001b[0m\u001b[0;34m(\u001b[0m\u001b[0;34m)\u001b[0m\u001b[0;34m\u001b[0m\u001b[0;34m\u001b[0m\u001b[0m\n\u001b[0m\u001b[1;32m    573\u001b[0m \u001b[0;34m\u001b[0m\u001b[0m\n\u001b[1;32m    574\u001b[0m     \u001b[0;32mdef\u001b[0m \u001b[0mget\u001b[0m\u001b[0;34m(\u001b[0m\u001b[0mself\u001b[0m\u001b[0;34m)\u001b[0m\u001b[0;34m:\u001b[0m\u001b[0;34m\u001b[0m\u001b[0;34m\u001b[0m\u001b[0m\n",
            "\u001b[0;32m/usr/local/lib/python3.7/dist-packages/joblib/parallel.py\u001b[0m in \u001b[0;36m__call__\u001b[0;34m(self)\u001b[0m\n\u001b[1;32m    261\u001b[0m         \u001b[0;32mwith\u001b[0m \u001b[0mparallel_backend\u001b[0m\u001b[0;34m(\u001b[0m\u001b[0mself\u001b[0m\u001b[0;34m.\u001b[0m\u001b[0m_backend\u001b[0m\u001b[0;34m,\u001b[0m \u001b[0mn_jobs\u001b[0m\u001b[0;34m=\u001b[0m\u001b[0mself\u001b[0m\u001b[0;34m.\u001b[0m\u001b[0m_n_jobs\u001b[0m\u001b[0;34m)\u001b[0m\u001b[0;34m:\u001b[0m\u001b[0;34m\u001b[0m\u001b[0;34m\u001b[0m\u001b[0m\n\u001b[1;32m    262\u001b[0m             return [func(*args, **kwargs)\n\u001b[0;32m--> 263\u001b[0;31m                     for func, args, kwargs in self.items]\n\u001b[0m\u001b[1;32m    264\u001b[0m \u001b[0;34m\u001b[0m\u001b[0m\n\u001b[1;32m    265\u001b[0m     \u001b[0;32mdef\u001b[0m \u001b[0m__reduce__\u001b[0m\u001b[0;34m(\u001b[0m\u001b[0mself\u001b[0m\u001b[0;34m)\u001b[0m\u001b[0;34m:\u001b[0m\u001b[0;34m\u001b[0m\u001b[0;34m\u001b[0m\u001b[0m\n",
            "\u001b[0;32m/usr/local/lib/python3.7/dist-packages/joblib/parallel.py\u001b[0m in \u001b[0;36m<listcomp>\u001b[0;34m(.0)\u001b[0m\n\u001b[1;32m    261\u001b[0m         \u001b[0;32mwith\u001b[0m \u001b[0mparallel_backend\u001b[0m\u001b[0;34m(\u001b[0m\u001b[0mself\u001b[0m\u001b[0;34m.\u001b[0m\u001b[0m_backend\u001b[0m\u001b[0;34m,\u001b[0m \u001b[0mn_jobs\u001b[0m\u001b[0;34m=\u001b[0m\u001b[0mself\u001b[0m\u001b[0;34m.\u001b[0m\u001b[0m_n_jobs\u001b[0m\u001b[0;34m)\u001b[0m\u001b[0;34m:\u001b[0m\u001b[0;34m\u001b[0m\u001b[0;34m\u001b[0m\u001b[0m\n\u001b[1;32m    262\u001b[0m             return [func(*args, **kwargs)\n\u001b[0;32m--> 263\u001b[0;31m                     for func, args, kwargs in self.items]\n\u001b[0m\u001b[1;32m    264\u001b[0m \u001b[0;34m\u001b[0m\u001b[0m\n\u001b[1;32m    265\u001b[0m     \u001b[0;32mdef\u001b[0m \u001b[0m__reduce__\u001b[0m\u001b[0;34m(\u001b[0m\u001b[0mself\u001b[0m\u001b[0;34m)\u001b[0m\u001b[0;34m:\u001b[0m\u001b[0;34m\u001b[0m\u001b[0;34m\u001b[0m\u001b[0m\n",
            "\u001b[0;32m/usr/local/lib/python3.7/dist-packages/sklearn/model_selection/_validation.py\u001b[0m in \u001b[0;36m_fit_and_score\u001b[0;34m(estimator, X, y, scorer, train, test, verbose, parameters, fit_params, return_train_score, return_parameters, return_n_test_samples, return_times, return_estimator, error_score)\u001b[0m\n\u001b[1;32m    513\u001b[0m             \u001b[0mestimator\u001b[0m\u001b[0;34m.\u001b[0m\u001b[0mfit\u001b[0m\u001b[0;34m(\u001b[0m\u001b[0mX_train\u001b[0m\u001b[0;34m,\u001b[0m \u001b[0;34m**\u001b[0m\u001b[0mfit_params\u001b[0m\u001b[0;34m)\u001b[0m\u001b[0;34m\u001b[0m\u001b[0;34m\u001b[0m\u001b[0m\n\u001b[1;32m    514\u001b[0m         \u001b[0;32melse\u001b[0m\u001b[0;34m:\u001b[0m\u001b[0;34m\u001b[0m\u001b[0;34m\u001b[0m\u001b[0m\n\u001b[0;32m--> 515\u001b[0;31m             \u001b[0mestimator\u001b[0m\u001b[0;34m.\u001b[0m\u001b[0mfit\u001b[0m\u001b[0;34m(\u001b[0m\u001b[0mX_train\u001b[0m\u001b[0;34m,\u001b[0m \u001b[0my_train\u001b[0m\u001b[0;34m,\u001b[0m \u001b[0;34m**\u001b[0m\u001b[0mfit_params\u001b[0m\u001b[0;34m)\u001b[0m\u001b[0;34m\u001b[0m\u001b[0;34m\u001b[0m\u001b[0m\n\u001b[0m\u001b[1;32m    516\u001b[0m \u001b[0;34m\u001b[0m\u001b[0m\n\u001b[1;32m    517\u001b[0m     \u001b[0;32mexcept\u001b[0m \u001b[0mException\u001b[0m \u001b[0;32mas\u001b[0m \u001b[0me\u001b[0m\u001b[0;34m:\u001b[0m\u001b[0;34m\u001b[0m\u001b[0;34m\u001b[0m\u001b[0m\n",
            "\u001b[0;32m/usr/local/lib/python3.7/dist-packages/sklearn/ensemble/_forest.py\u001b[0m in \u001b[0;36mfit\u001b[0;34m(self, X, y, sample_weight)\u001b[0m\n\u001b[1;32m    381\u001b[0m                     \u001b[0mverbose\u001b[0m\u001b[0;34m=\u001b[0m\u001b[0mself\u001b[0m\u001b[0;34m.\u001b[0m\u001b[0mverbose\u001b[0m\u001b[0;34m,\u001b[0m \u001b[0mclass_weight\u001b[0m\u001b[0;34m=\u001b[0m\u001b[0mself\u001b[0m\u001b[0;34m.\u001b[0m\u001b[0mclass_weight\u001b[0m\u001b[0;34m,\u001b[0m\u001b[0;34m\u001b[0m\u001b[0;34m\u001b[0m\u001b[0m\n\u001b[1;32m    382\u001b[0m                     n_samples_bootstrap=n_samples_bootstrap)\n\u001b[0;32m--> 383\u001b[0;31m                 for i, t in enumerate(trees))\n\u001b[0m\u001b[1;32m    384\u001b[0m \u001b[0;34m\u001b[0m\u001b[0m\n\u001b[1;32m    385\u001b[0m             \u001b[0;31m# Collect newly grown trees\u001b[0m\u001b[0;34m\u001b[0m\u001b[0;34m\u001b[0m\u001b[0;34m\u001b[0m\u001b[0m\n",
            "\u001b[0;32m/usr/local/lib/python3.7/dist-packages/joblib/parallel.py\u001b[0m in \u001b[0;36m__call__\u001b[0;34m(self, iterable)\u001b[0m\n\u001b[1;32m   1042\u001b[0m                 \u001b[0mself\u001b[0m\u001b[0;34m.\u001b[0m\u001b[0m_iterating\u001b[0m \u001b[0;34m=\u001b[0m \u001b[0mself\u001b[0m\u001b[0;34m.\u001b[0m\u001b[0m_original_iterator\u001b[0m \u001b[0;32mis\u001b[0m \u001b[0;32mnot\u001b[0m \u001b[0;32mNone\u001b[0m\u001b[0;34m\u001b[0m\u001b[0;34m\u001b[0m\u001b[0m\n\u001b[1;32m   1043\u001b[0m \u001b[0;34m\u001b[0m\u001b[0m\n\u001b[0;32m-> 1044\u001b[0;31m             \u001b[0;32mwhile\u001b[0m \u001b[0mself\u001b[0m\u001b[0;34m.\u001b[0m\u001b[0mdispatch_one_batch\u001b[0m\u001b[0;34m(\u001b[0m\u001b[0miterator\u001b[0m\u001b[0;34m)\u001b[0m\u001b[0;34m:\u001b[0m\u001b[0;34m\u001b[0m\u001b[0;34m\u001b[0m\u001b[0m\n\u001b[0m\u001b[1;32m   1045\u001b[0m                 \u001b[0;32mpass\u001b[0m\u001b[0;34m\u001b[0m\u001b[0;34m\u001b[0m\u001b[0m\n\u001b[1;32m   1046\u001b[0m \u001b[0;34m\u001b[0m\u001b[0m\n",
            "\u001b[0;32m/usr/local/lib/python3.7/dist-packages/joblib/parallel.py\u001b[0m in \u001b[0;36mdispatch_one_batch\u001b[0;34m(self, iterator)\u001b[0m\n\u001b[1;32m    857\u001b[0m                 \u001b[0;32mreturn\u001b[0m \u001b[0;32mFalse\u001b[0m\u001b[0;34m\u001b[0m\u001b[0;34m\u001b[0m\u001b[0m\n\u001b[1;32m    858\u001b[0m             \u001b[0;32melse\u001b[0m\u001b[0;34m:\u001b[0m\u001b[0;34m\u001b[0m\u001b[0;34m\u001b[0m\u001b[0m\n\u001b[0;32m--> 859\u001b[0;31m                 \u001b[0mself\u001b[0m\u001b[0;34m.\u001b[0m\u001b[0m_dispatch\u001b[0m\u001b[0;34m(\u001b[0m\u001b[0mtasks\u001b[0m\u001b[0;34m)\u001b[0m\u001b[0;34m\u001b[0m\u001b[0;34m\u001b[0m\u001b[0m\n\u001b[0m\u001b[1;32m    860\u001b[0m                 \u001b[0;32mreturn\u001b[0m \u001b[0;32mTrue\u001b[0m\u001b[0;34m\u001b[0m\u001b[0;34m\u001b[0m\u001b[0m\n\u001b[1;32m    861\u001b[0m \u001b[0;34m\u001b[0m\u001b[0m\n",
            "\u001b[0;32m/usr/local/lib/python3.7/dist-packages/joblib/parallel.py\u001b[0m in \u001b[0;36m_dispatch\u001b[0;34m(self, batch)\u001b[0m\n\u001b[1;32m    775\u001b[0m         \u001b[0;32mwith\u001b[0m \u001b[0mself\u001b[0m\u001b[0;34m.\u001b[0m\u001b[0m_lock\u001b[0m\u001b[0;34m:\u001b[0m\u001b[0;34m\u001b[0m\u001b[0;34m\u001b[0m\u001b[0m\n\u001b[1;32m    776\u001b[0m             \u001b[0mjob_idx\u001b[0m \u001b[0;34m=\u001b[0m \u001b[0mlen\u001b[0m\u001b[0;34m(\u001b[0m\u001b[0mself\u001b[0m\u001b[0;34m.\u001b[0m\u001b[0m_jobs\u001b[0m\u001b[0;34m)\u001b[0m\u001b[0;34m\u001b[0m\u001b[0;34m\u001b[0m\u001b[0m\n\u001b[0;32m--> 777\u001b[0;31m             \u001b[0mjob\u001b[0m \u001b[0;34m=\u001b[0m \u001b[0mself\u001b[0m\u001b[0;34m.\u001b[0m\u001b[0m_backend\u001b[0m\u001b[0;34m.\u001b[0m\u001b[0mapply_async\u001b[0m\u001b[0;34m(\u001b[0m\u001b[0mbatch\u001b[0m\u001b[0;34m,\u001b[0m \u001b[0mcallback\u001b[0m\u001b[0;34m=\u001b[0m\u001b[0mcb\u001b[0m\u001b[0;34m)\u001b[0m\u001b[0;34m\u001b[0m\u001b[0;34m\u001b[0m\u001b[0m\n\u001b[0m\u001b[1;32m    778\u001b[0m             \u001b[0;31m# A job can complete so quickly than its callback is\u001b[0m\u001b[0;34m\u001b[0m\u001b[0;34m\u001b[0m\u001b[0;34m\u001b[0m\u001b[0m\n\u001b[1;32m    779\u001b[0m             \u001b[0;31m# called before we get here, causing self._jobs to\u001b[0m\u001b[0;34m\u001b[0m\u001b[0;34m\u001b[0m\u001b[0;34m\u001b[0m\u001b[0m\n",
            "\u001b[0;32m/usr/local/lib/python3.7/dist-packages/joblib/_parallel_backends.py\u001b[0m in \u001b[0;36mapply_async\u001b[0;34m(self, func, callback)\u001b[0m\n\u001b[1;32m    206\u001b[0m     \u001b[0;32mdef\u001b[0m \u001b[0mapply_async\u001b[0m\u001b[0;34m(\u001b[0m\u001b[0mself\u001b[0m\u001b[0;34m,\u001b[0m \u001b[0mfunc\u001b[0m\u001b[0;34m,\u001b[0m \u001b[0mcallback\u001b[0m\u001b[0;34m=\u001b[0m\u001b[0;32mNone\u001b[0m\u001b[0;34m)\u001b[0m\u001b[0;34m:\u001b[0m\u001b[0;34m\u001b[0m\u001b[0;34m\u001b[0m\u001b[0m\n\u001b[1;32m    207\u001b[0m         \u001b[0;34m\"\"\"Schedule a func to be run\"\"\"\u001b[0m\u001b[0;34m\u001b[0m\u001b[0;34m\u001b[0m\u001b[0m\n\u001b[0;32m--> 208\u001b[0;31m         \u001b[0mresult\u001b[0m \u001b[0;34m=\u001b[0m \u001b[0mImmediateResult\u001b[0m\u001b[0;34m(\u001b[0m\u001b[0mfunc\u001b[0m\u001b[0;34m)\u001b[0m\u001b[0;34m\u001b[0m\u001b[0;34m\u001b[0m\u001b[0m\n\u001b[0m\u001b[1;32m    209\u001b[0m         \u001b[0;32mif\u001b[0m \u001b[0mcallback\u001b[0m\u001b[0;34m:\u001b[0m\u001b[0;34m\u001b[0m\u001b[0;34m\u001b[0m\u001b[0m\n\u001b[1;32m    210\u001b[0m             \u001b[0mcallback\u001b[0m\u001b[0;34m(\u001b[0m\u001b[0mresult\u001b[0m\u001b[0;34m)\u001b[0m\u001b[0;34m\u001b[0m\u001b[0;34m\u001b[0m\u001b[0m\n",
            "\u001b[0;32m/usr/local/lib/python3.7/dist-packages/joblib/_parallel_backends.py\u001b[0m in \u001b[0;36m__init__\u001b[0;34m(self, batch)\u001b[0m\n\u001b[1;32m    570\u001b[0m         \u001b[0;31m# Don't delay the application, to avoid keeping the input\u001b[0m\u001b[0;34m\u001b[0m\u001b[0;34m\u001b[0m\u001b[0;34m\u001b[0m\u001b[0m\n\u001b[1;32m    571\u001b[0m         \u001b[0;31m# arguments in memory\u001b[0m\u001b[0;34m\u001b[0m\u001b[0;34m\u001b[0m\u001b[0;34m\u001b[0m\u001b[0m\n\u001b[0;32m--> 572\u001b[0;31m         \u001b[0mself\u001b[0m\u001b[0;34m.\u001b[0m\u001b[0mresults\u001b[0m \u001b[0;34m=\u001b[0m \u001b[0mbatch\u001b[0m\u001b[0;34m(\u001b[0m\u001b[0;34m)\u001b[0m\u001b[0;34m\u001b[0m\u001b[0;34m\u001b[0m\u001b[0m\n\u001b[0m\u001b[1;32m    573\u001b[0m \u001b[0;34m\u001b[0m\u001b[0m\n\u001b[1;32m    574\u001b[0m     \u001b[0;32mdef\u001b[0m \u001b[0mget\u001b[0m\u001b[0;34m(\u001b[0m\u001b[0mself\u001b[0m\u001b[0;34m)\u001b[0m\u001b[0;34m:\u001b[0m\u001b[0;34m\u001b[0m\u001b[0;34m\u001b[0m\u001b[0m\n",
            "\u001b[0;32m/usr/local/lib/python3.7/dist-packages/joblib/parallel.py\u001b[0m in \u001b[0;36m__call__\u001b[0;34m(self)\u001b[0m\n\u001b[1;32m    261\u001b[0m         \u001b[0;32mwith\u001b[0m \u001b[0mparallel_backend\u001b[0m\u001b[0;34m(\u001b[0m\u001b[0mself\u001b[0m\u001b[0;34m.\u001b[0m\u001b[0m_backend\u001b[0m\u001b[0;34m,\u001b[0m \u001b[0mn_jobs\u001b[0m\u001b[0;34m=\u001b[0m\u001b[0mself\u001b[0m\u001b[0;34m.\u001b[0m\u001b[0m_n_jobs\u001b[0m\u001b[0;34m)\u001b[0m\u001b[0;34m:\u001b[0m\u001b[0;34m\u001b[0m\u001b[0;34m\u001b[0m\u001b[0m\n\u001b[1;32m    262\u001b[0m             return [func(*args, **kwargs)\n\u001b[0;32m--> 263\u001b[0;31m                     for func, args, kwargs in self.items]\n\u001b[0m\u001b[1;32m    264\u001b[0m \u001b[0;34m\u001b[0m\u001b[0m\n\u001b[1;32m    265\u001b[0m     \u001b[0;32mdef\u001b[0m \u001b[0m__reduce__\u001b[0m\u001b[0;34m(\u001b[0m\u001b[0mself\u001b[0m\u001b[0;34m)\u001b[0m\u001b[0;34m:\u001b[0m\u001b[0;34m\u001b[0m\u001b[0;34m\u001b[0m\u001b[0m\n",
            "\u001b[0;32m/usr/local/lib/python3.7/dist-packages/joblib/parallel.py\u001b[0m in \u001b[0;36m<listcomp>\u001b[0;34m(.0)\u001b[0m\n\u001b[1;32m    261\u001b[0m         \u001b[0;32mwith\u001b[0m \u001b[0mparallel_backend\u001b[0m\u001b[0;34m(\u001b[0m\u001b[0mself\u001b[0m\u001b[0;34m.\u001b[0m\u001b[0m_backend\u001b[0m\u001b[0;34m,\u001b[0m \u001b[0mn_jobs\u001b[0m\u001b[0;34m=\u001b[0m\u001b[0mself\u001b[0m\u001b[0;34m.\u001b[0m\u001b[0m_n_jobs\u001b[0m\u001b[0;34m)\u001b[0m\u001b[0;34m:\u001b[0m\u001b[0;34m\u001b[0m\u001b[0;34m\u001b[0m\u001b[0m\n\u001b[1;32m    262\u001b[0m             return [func(*args, **kwargs)\n\u001b[0;32m--> 263\u001b[0;31m                     for func, args, kwargs in self.items]\n\u001b[0m\u001b[1;32m    264\u001b[0m \u001b[0;34m\u001b[0m\u001b[0m\n\u001b[1;32m    265\u001b[0m     \u001b[0;32mdef\u001b[0m \u001b[0m__reduce__\u001b[0m\u001b[0;34m(\u001b[0m\u001b[0mself\u001b[0m\u001b[0;34m)\u001b[0m\u001b[0;34m:\u001b[0m\u001b[0;34m\u001b[0m\u001b[0;34m\u001b[0m\u001b[0m\n",
            "\u001b[0;32m/usr/local/lib/python3.7/dist-packages/sklearn/ensemble/_forest.py\u001b[0m in \u001b[0;36m_parallel_build_trees\u001b[0;34m(tree, forest, X, y, sample_weight, tree_idx, n_trees, verbose, class_weight, n_samples_bootstrap)\u001b[0m\n\u001b[1;32m    163\u001b[0m             \u001b[0mcurr_sample_weight\u001b[0m \u001b[0;34m*=\u001b[0m \u001b[0mcompute_sample_weight\u001b[0m\u001b[0;34m(\u001b[0m\u001b[0;34m'balanced'\u001b[0m\u001b[0;34m,\u001b[0m \u001b[0my\u001b[0m\u001b[0;34m,\u001b[0m \u001b[0mindices\u001b[0m\u001b[0;34m)\u001b[0m\u001b[0;34m\u001b[0m\u001b[0;34m\u001b[0m\u001b[0m\n\u001b[1;32m    164\u001b[0m \u001b[0;34m\u001b[0m\u001b[0m\n\u001b[0;32m--> 165\u001b[0;31m         \u001b[0mtree\u001b[0m\u001b[0;34m.\u001b[0m\u001b[0mfit\u001b[0m\u001b[0;34m(\u001b[0m\u001b[0mX\u001b[0m\u001b[0;34m,\u001b[0m \u001b[0my\u001b[0m\u001b[0;34m,\u001b[0m \u001b[0msample_weight\u001b[0m\u001b[0;34m=\u001b[0m\u001b[0mcurr_sample_weight\u001b[0m\u001b[0;34m,\u001b[0m \u001b[0mcheck_input\u001b[0m\u001b[0;34m=\u001b[0m\u001b[0;32mFalse\u001b[0m\u001b[0;34m)\u001b[0m\u001b[0;34m\u001b[0m\u001b[0;34m\u001b[0m\u001b[0m\n\u001b[0m\u001b[1;32m    166\u001b[0m     \u001b[0;32melse\u001b[0m\u001b[0;34m:\u001b[0m\u001b[0;34m\u001b[0m\u001b[0;34m\u001b[0m\u001b[0m\n\u001b[1;32m    167\u001b[0m         \u001b[0mtree\u001b[0m\u001b[0;34m.\u001b[0m\u001b[0mfit\u001b[0m\u001b[0;34m(\u001b[0m\u001b[0mX\u001b[0m\u001b[0;34m,\u001b[0m \u001b[0my\u001b[0m\u001b[0;34m,\u001b[0m \u001b[0msample_weight\u001b[0m\u001b[0;34m=\u001b[0m\u001b[0msample_weight\u001b[0m\u001b[0;34m,\u001b[0m \u001b[0mcheck_input\u001b[0m\u001b[0;34m=\u001b[0m\u001b[0;32mFalse\u001b[0m\u001b[0;34m)\u001b[0m\u001b[0;34m\u001b[0m\u001b[0;34m\u001b[0m\u001b[0m\n",
            "\u001b[0;32m/usr/local/lib/python3.7/dist-packages/sklearn/tree/_classes.py\u001b[0m in \u001b[0;36mfit\u001b[0;34m(self, X, y, sample_weight, check_input, X_idx_sorted)\u001b[0m\n\u001b[1;32m   1223\u001b[0m             \u001b[0msample_weight\u001b[0m\u001b[0;34m=\u001b[0m\u001b[0msample_weight\u001b[0m\u001b[0;34m,\u001b[0m\u001b[0;34m\u001b[0m\u001b[0;34m\u001b[0m\u001b[0m\n\u001b[1;32m   1224\u001b[0m             \u001b[0mcheck_input\u001b[0m\u001b[0;34m=\u001b[0m\u001b[0mcheck_input\u001b[0m\u001b[0;34m,\u001b[0m\u001b[0;34m\u001b[0m\u001b[0;34m\u001b[0m\u001b[0m\n\u001b[0;32m-> 1225\u001b[0;31m             X_idx_sorted=X_idx_sorted)\n\u001b[0m\u001b[1;32m   1226\u001b[0m         \u001b[0;32mreturn\u001b[0m \u001b[0mself\u001b[0m\u001b[0;34m\u001b[0m\u001b[0;34m\u001b[0m\u001b[0m\n\u001b[1;32m   1227\u001b[0m \u001b[0;34m\u001b[0m\u001b[0m\n",
            "\u001b[0;32m/usr/local/lib/python3.7/dist-packages/sklearn/tree/_classes.py\u001b[0m in \u001b[0;36mfit\u001b[0;34m(self, X, y, sample_weight, check_input, X_idx_sorted)\u001b[0m\n\u001b[1;32m    365\u001b[0m                                            min_impurity_split)\n\u001b[1;32m    366\u001b[0m \u001b[0;34m\u001b[0m\u001b[0m\n\u001b[0;32m--> 367\u001b[0;31m         \u001b[0mbuilder\u001b[0m\u001b[0;34m.\u001b[0m\u001b[0mbuild\u001b[0m\u001b[0;34m(\u001b[0m\u001b[0mself\u001b[0m\u001b[0;34m.\u001b[0m\u001b[0mtree_\u001b[0m\u001b[0;34m,\u001b[0m \u001b[0mX\u001b[0m\u001b[0;34m,\u001b[0m \u001b[0my\u001b[0m\u001b[0;34m,\u001b[0m \u001b[0msample_weight\u001b[0m\u001b[0;34m,\u001b[0m \u001b[0mX_idx_sorted\u001b[0m\u001b[0;34m)\u001b[0m\u001b[0;34m\u001b[0m\u001b[0;34m\u001b[0m\u001b[0m\n\u001b[0m\u001b[1;32m    368\u001b[0m \u001b[0;34m\u001b[0m\u001b[0m\n\u001b[1;32m    369\u001b[0m         \u001b[0;32mif\u001b[0m \u001b[0mself\u001b[0m\u001b[0;34m.\u001b[0m\u001b[0mn_outputs_\u001b[0m \u001b[0;34m==\u001b[0m \u001b[0;36m1\u001b[0m \u001b[0;32mand\u001b[0m \u001b[0mis_classifier\u001b[0m\u001b[0;34m(\u001b[0m\u001b[0mself\u001b[0m\u001b[0;34m)\u001b[0m\u001b[0;34m:\u001b[0m\u001b[0;34m\u001b[0m\u001b[0;34m\u001b[0m\u001b[0m\n",
            "\u001b[0;31mKeyboardInterrupt\u001b[0m: "
          ]
        }
      ]
    },
    {
      "cell_type": "code",
      "metadata": {
        "colab": {
          "base_uri": "https://localhost:8080/",
          "height": 197
        },
        "id": "GtdCDSaBPc8h",
        "outputId": "e7e12f10-6551-461b-9e6a-3b115214f4d5"
      },
      "source": [
        "print(\"Mejores hiperparámetros encontrados (cv)\")\n",
        "print(grid2.best_params_, \":\", grid2.best_score_, grid2.scoring)"
      ],
      "execution_count": null,
      "outputs": [
        {
          "output_type": "stream",
          "text": [
            "Mejores hiperparámetros encontrados (cv)\n"
          ],
          "name": "stdout"
        },
        {
          "output_type": "error",
          "ename": "NameError",
          "evalue": "ignored",
          "traceback": [
            "\u001b[0;31m---------------------------------------------------------------------------\u001b[0m",
            "\u001b[0;31mNameError\u001b[0m                                 Traceback (most recent call last)",
            "\u001b[0;32m<ipython-input-1-acf230ebce72>\u001b[0m in \u001b[0;36m<module>\u001b[0;34m()\u001b[0m\n\u001b[1;32m      1\u001b[0m \u001b[0mprint\u001b[0m\u001b[0;34m(\u001b[0m\u001b[0;34m\"Mejores hiperparámetros encontrados (cv)\"\u001b[0m\u001b[0;34m)\u001b[0m\u001b[0;34m\u001b[0m\u001b[0;34m\u001b[0m\u001b[0m\n\u001b[0;32m----> 2\u001b[0;31m \u001b[0mprint\u001b[0m\u001b[0;34m(\u001b[0m\u001b[0mgrid2\u001b[0m\u001b[0;34m.\u001b[0m\u001b[0mbest_params_\u001b[0m\u001b[0;34m,\u001b[0m \u001b[0;34m\":\"\u001b[0m\u001b[0;34m,\u001b[0m \u001b[0mgrid2\u001b[0m\u001b[0;34m.\u001b[0m\u001b[0mbest_score_\u001b[0m\u001b[0;34m,\u001b[0m \u001b[0mgrid2\u001b[0m\u001b[0;34m.\u001b[0m\u001b[0mscoring\u001b[0m\u001b[0;34m)\u001b[0m\u001b[0;34m\u001b[0m\u001b[0;34m\u001b[0m\u001b[0m\n\u001b[0m",
            "\u001b[0;31mNameError\u001b[0m: name 'grid2' is not defined"
          ]
        }
      ]
    },
    {
      "cell_type": "code",
      "metadata": {
        "id": "bFv1-3gSRDMH"
      },
      "source": [
        "#Medidas de entrenamiento\n",
        "print('Error absoluto medio (MAE):',mean_absolute_error(grid2.predict(X), y))\n",
        "print('Error Cuadrático Medio (MSE):',mean_squared_error(grid2.predict(X), y))\n",
        "print('Raíz del Error Cuadrático Medio (RMSE):',np.sqrt(mean_squared_error(grid2.predict(X), y)))\n",
        "print('Coeficiente de determinación R2:',r2_score(y,grid2.predict(X)))"
      ],
      "execution_count": null,
      "outputs": []
    },
    {
      "cell_type": "code",
      "metadata": {
        "id": "pvKC7istRLM5"
      },
      "source": [
        "#Medidas en la prueba\n",
        "print('Error absoluto medio (MAE):',mean_absolute_error(grid2.predict(X_test), y_test))\n",
        "print('Error Cuadrático Medio (MSE):',mean_squared_error(grid2.predict(X_test), y_test))\n",
        "print('Raíz del Error Cuadrático Medio (RMSE):',np.sqrt(mean_squared_error(grid2.predict(X_test), y_test)))\n",
        "print('Coeficiente de determinación R2:',r2_score(y_test,grid2.predict(X_test)))"
      ],
      "execution_count": null,
      "outputs": []
    }
  ]
}