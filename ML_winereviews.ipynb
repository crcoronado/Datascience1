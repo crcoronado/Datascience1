{
 "cells": [
  {
   "cell_type": "markdown",
   "metadata": {},
   "source": [
    "# Modelos"
   ]
  },
  {
   "cell_type": "markdown",
   "metadata": {},
   "source": [
    "## 1. Regresión Lineal"
   ]
  },
  {
   "cell_type": "code",
   "execution_count": 2,
   "metadata": {},
   "outputs": [
    {
     "name": "stderr",
     "output_type": "stream",
     "text": [
      "<frozen importlib._bootstrap>:219: RuntimeWarning: numpy.ufunc size changed, may indicate binary incompatibility. Expected 192 from C header, got 216 from PyObject\n",
      "<frozen importlib._bootstrap>:219: RuntimeWarning: numpy.ufunc size changed, may indicate binary incompatibility. Expected 192 from C header, got 216 from PyObject\n"
     ]
    }
   ],
   "source": [
    "import pandas as pd\n",
    "import numpy as np\n",
    "import matplotlib.pyplot as plt\n",
    "\n",
    "from sklearn.linear_model import LinearRegression, Ridge\n",
    "from sklearn.model_selection import train_test_split\n",
    "from sklearn.tree import DecisionTreeClassifier\n",
    "from sklearn import tree\n",
    "\n",
    "from sklearn.metrics import accuracy_score, confusion_matrix, mean_squared_error\n",
    "\n",
    "from sklearn.preprocessing import MinMaxScaler\n",
    "from sklearn.preprocessing import StandardScaler\n",
    "\n",
    "from sklearn.pipeline import make_pipeline"
   ]
  },
  {
   "cell_type": "code",
   "execution_count": 3,
   "metadata": {},
   "outputs": [],
   "source": [
    "df = pd.read_csv('Wine_reviews_climate_prediction.csv')"
   ]
  },
  {
   "cell_type": "code",
   "execution_count": 4,
   "metadata": {},
   "outputs": [
    {
     "name": "stdout",
     "output_type": "stream",
     "text": [
      "<class 'pandas.core.frame.DataFrame'>\n",
      "RangeIndex: 65838 entries, 0 to 65837\n",
      "Data columns (total 19 columns):\n",
      " #   Column          Non-Null Count  Dtype  \n",
      "---  ------          --------------  -----  \n",
      " 0   Unnamed: 0      65838 non-null  int64  \n",
      " 1   country         65838 non-null  object \n",
      " 2   description     65838 non-null  object \n",
      " 3   points          65838 non-null  int64  \n",
      " 4   price           60311 non-null  float64\n",
      " 5   taster_name     65838 non-null  object \n",
      " 6   variety         65838 non-null  object \n",
      " 7   winery          65838 non-null  object \n",
      " 8   Year            65838 non-null  int64  \n",
      " 9   region          65838 non-null  object \n",
      " 10  Latitude        65838 non-null  float64\n",
      " 11  Longitude       65838 non-null  float64\n",
      " 12  Lat_x           65838 non-null  float64\n",
      " 13  Long_x          65838 non-null  float64\n",
      " 14  temp_anual      65838 non-null  float64\n",
      " 15  temp_max_anual  65838 non-null  float64\n",
      " 16  temp_min_anual  65838 non-null  float64\n",
      " 17  pre_anual       65838 non-null  float64\n",
      " 18  etp_anual       65838 non-null  int64  \n",
      "dtypes: float64(9), int64(4), object(6)\n",
      "memory usage: 9.5+ MB\n"
     ]
    }
   ],
   "source": [
    "df.info()"
   ]
  },
  {
   "cell_type": "code",
   "execution_count": 8,
   "metadata": {},
   "outputs": [
    {
     "data": {
      "text/plain": [
       "Unnamed: 0           0\n",
       "country              0\n",
       "description          0\n",
       "points               0\n",
       "price             5527\n",
       "taster_name          0\n",
       "variety              0\n",
       "winery               0\n",
       "Year                 0\n",
       "region               0\n",
       "Latitude             0\n",
       "Longitude            0\n",
       "Lat_x                0\n",
       "Long_x               0\n",
       "temp_anual           0\n",
       "temp_max_anual       0\n",
       "temp_min_anual       0\n",
       "pre_anual            0\n",
       "etp_anual            0\n",
       "dtype: int64"
      ]
     },
     "execution_count": 8,
     "metadata": {},
     "output_type": "execute_result"
    }
   ],
   "source": [
    "df.isnull().sum()"
   ]
  },
  {
   "cell_type": "code",
   "execution_count": null,
   "metadata": {},
   "outputs": [],
   "source": [
    "#Imputation of missing values"
   ]
  }
 ],
 "metadata": {
  "kernelspec": {
   "display_name": "Python 3",
   "language": "python",
   "name": "python3"
  },
  "language_info": {
   "codemirror_mode": {
    "name": "ipython",
    "version": 3
   },
   "file_extension": ".py",
   "mimetype": "text/x-python",
   "name": "python",
   "nbconvert_exporter": "python",
   "pygments_lexer": "ipython3",
   "version": "3.8.5"
  }
 },
 "nbformat": 4,
 "nbformat_minor": 4
}
